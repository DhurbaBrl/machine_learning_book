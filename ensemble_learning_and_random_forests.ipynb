{
  "nbformat": 4,
  "nbformat_minor": 0,
  "metadata": {
    "colab": {
      "name": "ensemble_learning_and_random_forests.ipynb",
      "provenance": [],
      "collapsed_sections": [],
      "authorship_tag": "ABX9TyO6AQeBoZLpx/60b6iNFdj4"
    },
    "kernelspec": {
      "name": "python3",
      "display_name": "Python 3"
    },
    "language_info": {
      "name": "python"
    }
  },
  "cells": [
    {
      "cell_type": "code",
      "metadata": {
        "id": "IuNTHv1U8MiZ"
      },
      "source": [
        "import numpy as np\n",
        "import pandas as pd\n",
        "import xgboost\n",
        "import matplotlib.pyplot as plt\n",
        "from sklearn.svm import SVC\n",
        "from sklearn.linear_model import LogisticRegression\n",
        "from sklearn.ensemble import RandomForestClassifier,VotingClassifier,BaggingClassifier,ExtraTreesClassifier,AdaBoostClassifier,GradientBoostingRegressor\n",
        "from sklearn import datasets\n",
        "from sklearn.model_selection import train_test_split\n",
        "from sklearn.metrics import accuracy_score,mean_squared_error\n",
        "from sklearn.tree import DecisionTreeClassifier,DecisionTreeRegressor"
      ],
      "execution_count": 61,
      "outputs": []
    },
    {
      "cell_type": "markdown",
      "metadata": {
        "id": "ExkL5groGxVA"
      },
      "source": [
        "# **VOTING** **CLASSIFIER**"
      ]
    },
    {
      "cell_type": "markdown",
      "metadata": {
        "id": "oDFeSdFeG5HS"
      },
      "source": [
        "## **1.** **Hard** **Voting** **Classifier**"
      ]
    },
    {
      "cell_type": "code",
      "metadata": {
        "id": "EHitexS9Gu_J"
      },
      "source": [
        "#load moons data\n",
        "Xdata,ydata=datasets.make_moons(n_samples=100,noise=0.15)\n",
        "X=pd.DataFrame(Xdata)\n",
        "y=pd.DataFrame(ydata)\n",
        "\n",
        "#to split the dataset\n",
        "X_train, X_test, y_train, y_test =train_test_split(X,y,test_size=0.20, random_state=42)"
      ],
      "execution_count": null,
      "outputs": []
    },
    {
      "cell_type": "code",
      "metadata": {
        "colab": {
          "base_uri": "https://localhost:8080/",
          "height": 204
        },
        "id": "XccQEeT7Iuj6",
        "outputId": "cdb3fff7-a5e9-42fe-8dc8-c7cf38513998"
      },
      "source": [
        "X.head()"
      ],
      "execution_count": null,
      "outputs": [
        {
          "output_type": "execute_result",
          "data": {
            "text/html": [
              "<div>\n",
              "<style scoped>\n",
              "    .dataframe tbody tr th:only-of-type {\n",
              "        vertical-align: middle;\n",
              "    }\n",
              "\n",
              "    .dataframe tbody tr th {\n",
              "        vertical-align: top;\n",
              "    }\n",
              "\n",
              "    .dataframe thead th {\n",
              "        text-align: right;\n",
              "    }\n",
              "</style>\n",
              "<table border=\"1\" class=\"dataframe\">\n",
              "  <thead>\n",
              "    <tr style=\"text-align: right;\">\n",
              "      <th></th>\n",
              "      <th>0</th>\n",
              "      <th>1</th>\n",
              "    </tr>\n",
              "  </thead>\n",
              "  <tbody>\n",
              "    <tr>\n",
              "      <th>0</th>\n",
              "      <td>1.766394</td>\n",
              "      <td>0.047461</td>\n",
              "    </tr>\n",
              "    <tr>\n",
              "      <th>1</th>\n",
              "      <td>0.731197</td>\n",
              "      <td>1.046674</td>\n",
              "    </tr>\n",
              "    <tr>\n",
              "      <th>2</th>\n",
              "      <td>0.262887</td>\n",
              "      <td>1.070940</td>\n",
              "    </tr>\n",
              "    <tr>\n",
              "      <th>3</th>\n",
              "      <td>-0.743395</td>\n",
              "      <td>0.910862</td>\n",
              "    </tr>\n",
              "    <tr>\n",
              "      <th>4</th>\n",
              "      <td>-0.707170</td>\n",
              "      <td>0.900018</td>\n",
              "    </tr>\n",
              "  </tbody>\n",
              "</table>\n",
              "</div>"
            ],
            "text/plain": [
              "          0         1\n",
              "0  1.766394  0.047461\n",
              "1  0.731197  1.046674\n",
              "2  0.262887  1.070940\n",
              "3 -0.743395  0.910862\n",
              "4 -0.707170  0.900018"
            ]
          },
          "metadata": {
            "tags": []
          },
          "execution_count": 3
        }
      ]
    },
    {
      "cell_type": "code",
      "metadata": {
        "colab": {
          "base_uri": "https://localhost:8080/",
          "height": 204
        },
        "id": "HYpD6FLaIx-J",
        "outputId": "0637c0a6-9cae-4453-c0b3-d4cc3b406f9a"
      },
      "source": [
        "y.head()"
      ],
      "execution_count": null,
      "outputs": [
        {
          "output_type": "execute_result",
          "data": {
            "text/html": [
              "<div>\n",
              "<style scoped>\n",
              "    .dataframe tbody tr th:only-of-type {\n",
              "        vertical-align: middle;\n",
              "    }\n",
              "\n",
              "    .dataframe tbody tr th {\n",
              "        vertical-align: top;\n",
              "    }\n",
              "\n",
              "    .dataframe thead th {\n",
              "        text-align: right;\n",
              "    }\n",
              "</style>\n",
              "<table border=\"1\" class=\"dataframe\">\n",
              "  <thead>\n",
              "    <tr style=\"text-align: right;\">\n",
              "      <th></th>\n",
              "      <th>0</th>\n",
              "    </tr>\n",
              "  </thead>\n",
              "  <tbody>\n",
              "    <tr>\n",
              "      <th>0</th>\n",
              "      <td>1</td>\n",
              "    </tr>\n",
              "    <tr>\n",
              "      <th>1</th>\n",
              "      <td>0</td>\n",
              "    </tr>\n",
              "    <tr>\n",
              "      <th>2</th>\n",
              "      <td>0</td>\n",
              "    </tr>\n",
              "    <tr>\n",
              "      <th>3</th>\n",
              "      <td>0</td>\n",
              "    </tr>\n",
              "    <tr>\n",
              "      <th>4</th>\n",
              "      <td>0</td>\n",
              "    </tr>\n",
              "  </tbody>\n",
              "</table>\n",
              "</div>"
            ],
            "text/plain": [
              "   0\n",
              "0  1\n",
              "1  0\n",
              "2  0\n",
              "3  0\n",
              "4  0"
            ]
          },
          "metadata": {
            "tags": []
          },
          "execution_count": 4
        }
      ]
    },
    {
      "cell_type": "code",
      "metadata": {
        "id": "kUjbTSEcI0KA"
      },
      "source": [
        "log_clf=LogisticRegression()\n",
        "forest_clf=RandomForestClassifier()\n",
        "svm_clf=SVC(probability=True)"
      ],
      "execution_count": null,
      "outputs": []
    },
    {
      "cell_type": "code",
      "metadata": {
        "id": "4ZKdffUFJyqQ"
      },
      "source": [
        "voting_hard_clf=VotingClassifier([('lr',log_clf),('rf',forest_clf),('svm',svm_clf)],voting='hard')"
      ],
      "execution_count": null,
      "outputs": []
    },
    {
      "cell_type": "code",
      "metadata": {
        "colab": {
          "base_uri": "https://localhost:8080/"
        },
        "id": "o9H_Qq1-KfEr",
        "outputId": "12be7200-c2cd-428c-cbc9-a1096b1af279"
      },
      "source": [
        "for clf in (log_clf,forest_clf,svm_clf,voting_hard_clf):\n",
        "  clf.fit(X_train,y_train)\n",
        "  y_pred=clf.predict(X_test)\n",
        "  print(clf.__class__.__name__,accuracy_score(y_test,y_pred))"
      ],
      "execution_count": null,
      "outputs": [
        {
          "output_type": "stream",
          "text": [
            "/usr/local/lib/python3.7/dist-packages/sklearn/utils/validation.py:760: DataConversionWarning: A column-vector y was passed when a 1d array was expected. Please change the shape of y to (n_samples, ), for example using ravel().\n",
            "  y = column_or_1d(y, warn=True)\n",
            "/usr/local/lib/python3.7/dist-packages/ipykernel_launcher.py:2: DataConversionWarning: A column-vector y was passed when a 1d array was expected. Please change the shape of y to (n_samples,), for example using ravel().\n",
            "  \n",
            "/usr/local/lib/python3.7/dist-packages/sklearn/utils/validation.py:760: DataConversionWarning: A column-vector y was passed when a 1d array was expected. Please change the shape of y to (n_samples, ), for example using ravel().\n",
            "  y = column_or_1d(y, warn=True)\n",
            "/usr/local/lib/python3.7/dist-packages/sklearn/preprocessing/_label.py:235: DataConversionWarning: A column-vector y was passed when a 1d array was expected. Please change the shape of y to (n_samples, ), for example using ravel().\n",
            "  y = column_or_1d(y, warn=True)\n",
            "/usr/local/lib/python3.7/dist-packages/sklearn/preprocessing/_label.py:268: DataConversionWarning: A column-vector y was passed when a 1d array was expected. Please change the shape of y to (n_samples, ), for example using ravel().\n",
            "  y = column_or_1d(y, warn=True)\n"
          ],
          "name": "stderr"
        },
        {
          "output_type": "stream",
          "text": [
            "LogisticRegression 0.9\n",
            "RandomForestClassifier 1.0\n",
            "SVC 1.0\n",
            "VotingClassifier 1.0\n"
          ],
          "name": "stdout"
        }
      ]
    },
    {
      "cell_type": "markdown",
      "metadata": {
        "id": "_v4kWYHdPPO4"
      },
      "source": [
        "## **2.** **Soft** **Voting** **Classifier**"
      ]
    },
    {
      "cell_type": "code",
      "metadata": {
        "id": "PU5f_YkHPd3Y"
      },
      "source": [
        "voting_soft_clf=VotingClassifier([('lr',log_clf),('rf',forest_clf),('svm',svm_clf)],voting='soft')"
      ],
      "execution_count": null,
      "outputs": []
    },
    {
      "cell_type": "code",
      "metadata": {
        "colab": {
          "base_uri": "https://localhost:8080/"
        },
        "id": "VqkwzFbBPusJ",
        "outputId": "be4a5e56-046e-4349-9fc4-f2af42763d21"
      },
      "source": [
        "for clf in (log_clf,forest_clf,svm_clf,voting_soft_clf):\n",
        "  clf.fit(X_train,y_train)\n",
        "  y_pred=clf.predict(X_test)\n",
        "  print(clf.__class__.__name__,accuracy_score(y_test,y_pred))"
      ],
      "execution_count": null,
      "outputs": [
        {
          "output_type": "stream",
          "text": [
            "/usr/local/lib/python3.7/dist-packages/sklearn/utils/validation.py:760: DataConversionWarning: A column-vector y was passed when a 1d array was expected. Please change the shape of y to (n_samples, ), for example using ravel().\n",
            "  y = column_or_1d(y, warn=True)\n",
            "/usr/local/lib/python3.7/dist-packages/ipykernel_launcher.py:2: DataConversionWarning: A column-vector y was passed when a 1d array was expected. Please change the shape of y to (n_samples,), for example using ravel().\n",
            "  \n",
            "/usr/local/lib/python3.7/dist-packages/sklearn/utils/validation.py:760: DataConversionWarning: A column-vector y was passed when a 1d array was expected. Please change the shape of y to (n_samples, ), for example using ravel().\n",
            "  y = column_or_1d(y, warn=True)\n",
            "/usr/local/lib/python3.7/dist-packages/sklearn/preprocessing/_label.py:235: DataConversionWarning: A column-vector y was passed when a 1d array was expected. Please change the shape of y to (n_samples, ), for example using ravel().\n",
            "  y = column_or_1d(y, warn=True)\n",
            "/usr/local/lib/python3.7/dist-packages/sklearn/preprocessing/_label.py:268: DataConversionWarning: A column-vector y was passed when a 1d array was expected. Please change the shape of y to (n_samples, ), for example using ravel().\n",
            "  y = column_or_1d(y, warn=True)\n"
          ],
          "name": "stderr"
        },
        {
          "output_type": "stream",
          "text": [
            "LogisticRegression 0.9\n",
            "RandomForestClassifier 1.0\n",
            "SVC 1.0\n",
            "VotingClassifier 1.0\n"
          ],
          "name": "stdout"
        }
      ]
    },
    {
      "cell_type": "markdown",
      "metadata": {
        "id": "PePYNsHXQJfD"
      },
      "source": [
        "# **BAGGING** **AND** **PASTING**"
      ]
    },
    {
      "cell_type": "code",
      "metadata": {
        "id": "xrqcgSZuP_53"
      },
      "source": [
        "#training with bagging\n",
        "bagging_clf=BaggingClassifier(DecisionTreeClassifier(),n_estimators=500,max_samples=50,bootstrap=True,n_jobs=-1)\n"
      ],
      "execution_count": null,
      "outputs": []
    },
    {
      "cell_type": "code",
      "metadata": {
        "id": "3ZsErFJ4mtie"
      },
      "source": [
        "#training with single decision tree classifier\n",
        "tree_clf=DecisionTreeClassifier()"
      ],
      "execution_count": null,
      "outputs": []
    },
    {
      "cell_type": "code",
      "metadata": {
        "colab": {
          "base_uri": "https://localhost:8080/"
        },
        "id": "mOETFZOYo-W-",
        "outputId": "4a74920d-5944-4d94-f0ab-4e1c3dc6c5c2"
      },
      "source": [
        "#compare accuracy scores in both\n",
        "for clf in (tree_clf,bagging_clf):\n",
        "  clf.fit(X_train,y_train)\n",
        "  y_pred=clf.predict(X_test)\n",
        "  print(clf.__class__.__name__,accuracy_score(y_test,y_pred))"
      ],
      "execution_count": null,
      "outputs": [
        {
          "output_type": "stream",
          "text": [
            "DecisionTreeClassifier 1.0\n"
          ],
          "name": "stdout"
        },
        {
          "output_type": "stream",
          "text": [
            "/usr/local/lib/python3.7/dist-packages/sklearn/ensemble/_bagging.py:645: DataConversionWarning: A column-vector y was passed when a 1d array was expected. Please change the shape of y to (n_samples, ), for example using ravel().\n",
            "  y = column_or_1d(y, warn=True)\n"
          ],
          "name": "stderr"
        },
        {
          "output_type": "stream",
          "text": [
            "BaggingClassifier 1.0\n"
          ],
          "name": "stdout"
        }
      ]
    },
    {
      "cell_type": "code",
      "metadata": {
        "id": "b7ZaZUXup_cx"
      },
      "source": [
        "#for training with pasting use bootstrap=False"
      ],
      "execution_count": null,
      "outputs": []
    },
    {
      "cell_type": "markdown",
      "metadata": {
        "id": "7WPgofq-qX_F"
      },
      "source": [
        "### **Out** **of** **Bag** **Evaluation**"
      ]
    },
    {
      "cell_type": "code",
      "metadata": {
        "id": "UMKPAXdWqMAf",
        "colab": {
          "base_uri": "https://localhost:8080/"
        },
        "outputId": "3c926eef-d699-4fa2-8a2a-b9b7c90f4290"
      },
      "source": [
        "oob_eval_clf=BaggingClassifier(DecisionTreeClassifier(),n_estimators=500,max_samples=50,bootstrap=True,oob_score=True,n_jobs=-1)\n",
        "oob_eval_clf.fit(X_train,y_train)"
      ],
      "execution_count": null,
      "outputs": [
        {
          "output_type": "stream",
          "text": [
            "/usr/local/lib/python3.7/dist-packages/sklearn/ensemble/_bagging.py:645: DataConversionWarning: A column-vector y was passed when a 1d array was expected. Please change the shape of y to (n_samples, ), for example using ravel().\n",
            "  y = column_or_1d(y, warn=True)\n"
          ],
          "name": "stderr"
        },
        {
          "output_type": "execute_result",
          "data": {
            "text/plain": [
              "BaggingClassifier(base_estimator=DecisionTreeClassifier(ccp_alpha=0.0,\n",
              "                                                        class_weight=None,\n",
              "                                                        criterion='gini',\n",
              "                                                        max_depth=None,\n",
              "                                                        max_features=None,\n",
              "                                                        max_leaf_nodes=None,\n",
              "                                                        min_impurity_decrease=0.0,\n",
              "                                                        min_impurity_split=None,\n",
              "                                                        min_samples_leaf=1,\n",
              "                                                        min_samples_split=2,\n",
              "                                                        min_weight_fraction_leaf=0.0,\n",
              "                                                        presort='deprecated',\n",
              "                                                        random_state=None,\n",
              "                                                        splitter='best'),\n",
              "                  bootstrap=True, bootstrap_features=False, max_features=1.0,\n",
              "                  max_samples=50, n_estimators=500, n_jobs=-1, oob_score=True,\n",
              "                  random_state=None, verbose=0, warm_start=False)"
            ]
          },
          "metadata": {
            "tags": []
          },
          "execution_count": 14
        }
      ]
    },
    {
      "cell_type": "code",
      "metadata": {
        "colab": {
          "base_uri": "https://localhost:8080/"
        },
        "id": "jPP-HMzt2uYS",
        "outputId": "3169345c-14b5-46e0-c864-a7662c608de6"
      },
      "source": [
        "oob_eval_clf.oob_score_"
      ],
      "execution_count": null,
      "outputs": [
        {
          "output_type": "execute_result",
          "data": {
            "text/plain": [
              "0.9125"
            ]
          },
          "metadata": {
            "tags": []
          },
          "execution_count": 15
        }
      ]
    },
    {
      "cell_type": "code",
      "metadata": {
        "colab": {
          "base_uri": "https://localhost:8080/"
        },
        "id": "BaepqGqV3Fqm",
        "outputId": "3965f6cf-44a8-4803-ebd3-f53c33a5096e"
      },
      "source": [
        "#compare oob score with accuracy score\n",
        "y_pred=oob_eval_clf.predict(X_test)\n",
        "\n",
        "print(accuracy_score(y_test,y_pred))"
      ],
      "execution_count": null,
      "outputs": [
        {
          "output_type": "stream",
          "text": [
            "1.0\n"
          ],
          "name": "stdout"
        }
      ]
    },
    {
      "cell_type": "code",
      "metadata": {
        "colab": {
          "base_uri": "https://localhost:8080/"
        },
        "id": "N9wDE12F3hEn",
        "outputId": "420210e0-198e-46bd-ed8a-8955ff312d58"
      },
      "source": [
        "#decision function\n",
        "\n",
        "oob_eval_clf.oob_decision_function_"
      ],
      "execution_count": null,
      "outputs": [
        {
          "output_type": "execute_result",
          "data": {
            "text/plain": [
              "array([[0.01976285, 0.98023715],\n",
              "       [0.00357143, 0.99642857],\n",
              "       [0.74444444, 0.25555556],\n",
              "       [0.91633466, 0.08366534],\n",
              "       [0.77859779, 0.22140221],\n",
              "       [0.09689922, 0.90310078],\n",
              "       [0.0620438 , 0.9379562 ],\n",
              "       [0.15750916, 0.84249084],\n",
              "       [0.99253731, 0.00746269],\n",
              "       [0.99206349, 0.00793651],\n",
              "       [0.98490566, 0.01509434],\n",
              "       [0.06367041, 0.93632959],\n",
              "       [0.85660377, 0.14339623],\n",
              "       [0.99610895, 0.00389105],\n",
              "       [0.02692308, 0.97307692],\n",
              "       [0.90421456, 0.09578544],\n",
              "       [0.99233716, 0.00766284],\n",
              "       [0.04597701, 0.95402299],\n",
              "       [0.65354331, 0.34645669],\n",
              "       [0.81818182, 0.18181818],\n",
              "       [0.07633588, 0.92366412],\n",
              "       [1.        , 0.        ],\n",
              "       [0.90545455, 0.09454545],\n",
              "       [0.08394161, 0.91605839],\n",
              "       [0.03543307, 0.96456693],\n",
              "       [0.10909091, 0.89090909],\n",
              "       [0.99638989, 0.00361011],\n",
              "       [0.9822695 , 0.0177305 ],\n",
              "       [0.07364341, 0.92635659],\n",
              "       [0.50537634, 0.49462366],\n",
              "       [0.        , 1.        ],\n",
              "       [0.99622642, 0.00377358],\n",
              "       [0.61904762, 0.38095238],\n",
              "       [0.90808824, 0.09191176],\n",
              "       [0.26530612, 0.73469388],\n",
              "       [0.96923077, 0.03076923],\n",
              "       [0.16423358, 0.83576642],\n",
              "       [0.9822695 , 0.0177305 ],\n",
              "       [0.99652778, 0.00347222],\n",
              "       [0.50957854, 0.49042146],\n",
              "       [0.00367647, 0.99632353],\n",
              "       [0.00364964, 0.99635036],\n",
              "       [0.82641509, 0.17358491],\n",
              "       [0.15530303, 0.84469697],\n",
              "       [0.98154982, 0.01845018],\n",
              "       [0.94980695, 0.05019305],\n",
              "       [0.27238806, 0.72761194],\n",
              "       [0.99253731, 0.00746269],\n",
              "       [0.82706767, 0.17293233],\n",
              "       [0.03861004, 0.96138996],\n",
              "       [0.47744361, 0.52255639],\n",
              "       [0.        , 1.        ],\n",
              "       [0.89416058, 0.10583942],\n",
              "       [0.06870229, 0.93129771],\n",
              "       [0.67158672, 0.32841328],\n",
              "       [0.73929961, 0.26070039],\n",
              "       [0.00401606, 0.99598394],\n",
              "       [0.99628253, 0.00371747],\n",
              "       [0.03928571, 0.96071429],\n",
              "       [0.85664336, 0.14335664],\n",
              "       [0.63984674, 0.36015326],\n",
              "       [0.9084507 , 0.0915493 ],\n",
              "       [0.08727273, 0.91272727],\n",
              "       [0.03214286, 0.96785714],\n",
              "       [1.        , 0.        ],\n",
              "       [0.876     , 0.124     ],\n",
              "       [0.00403226, 0.99596774],\n",
              "       [0.98098859, 0.01901141],\n",
              "       [0.07092199, 0.92907801],\n",
              "       [0.60431655, 0.39568345],\n",
              "       [0.99618321, 0.00381679],\n",
              "       [0.88257576, 0.11742424],\n",
              "       [0.07638889, 0.92361111],\n",
              "       [0.89513109, 0.10486891],\n",
              "       [0.81749049, 0.18250951],\n",
              "       [0.04545455, 0.95454545],\n",
              "       [0.67625899, 0.32374101],\n",
              "       [0.99621212, 0.00378788],\n",
              "       [0.99635036, 0.00364964],\n",
              "       [0.26690391, 0.73309609]])"
            ]
          },
          "metadata": {
            "tags": []
          },
          "execution_count": 17
        }
      ]
    },
    {
      "cell_type": "markdown",
      "metadata": {
        "id": "tPTv3QhL31mC"
      },
      "source": [
        "# **RANDOM** **PATCHES** **AND** **RANDOM** **SUBSPACES**"
      ]
    },
    {
      "cell_type": "code",
      "metadata": {
        "id": "fA__ob_J3sOv"
      },
      "source": [
        "#random patches means sampling both instances and features\n",
        "#random subspaces means sampling features"
      ],
      "execution_count": null,
      "outputs": []
    },
    {
      "cell_type": "markdown",
      "metadata": {
        "id": "BElLzWpa4Pw4"
      },
      "source": [
        "### **Random** **Subspaces**"
      ]
    },
    {
      "cell_type": "code",
      "metadata": {
        "colab": {
          "base_uri": "https://localhost:8080/"
        },
        "id": "ecFf9t4G4Onm",
        "outputId": "f342440e-5317-43e2-d8dd-00a88574cc55"
      },
      "source": [
        "rnd_subspaces_clf=BaggingClassifier(DecisionTreeClassifier(),n_estimators=500,max_samples=1,bootstrap=False,bootstrap_features=True,max_features=0.5,n_jobs=-1)\n",
        "rnd_subspaces_clf.fit(X_train,y_train)"
      ],
      "execution_count": null,
      "outputs": [
        {
          "output_type": "stream",
          "text": [
            "/usr/local/lib/python3.7/dist-packages/sklearn/ensemble/_bagging.py:645: DataConversionWarning: A column-vector y was passed when a 1d array was expected. Please change the shape of y to (n_samples, ), for example using ravel().\n",
            "  y = column_or_1d(y, warn=True)\n"
          ],
          "name": "stderr"
        },
        {
          "output_type": "execute_result",
          "data": {
            "text/plain": [
              "BaggingClassifier(base_estimator=DecisionTreeClassifier(ccp_alpha=0.0,\n",
              "                                                        class_weight=None,\n",
              "                                                        criterion='gini',\n",
              "                                                        max_depth=None,\n",
              "                                                        max_features=None,\n",
              "                                                        max_leaf_nodes=None,\n",
              "                                                        min_impurity_decrease=0.0,\n",
              "                                                        min_impurity_split=None,\n",
              "                                                        min_samples_leaf=1,\n",
              "                                                        min_samples_split=2,\n",
              "                                                        min_weight_fraction_leaf=0.0,\n",
              "                                                        presort='deprecated',\n",
              "                                                        random_state=None,\n",
              "                                                        splitter='best'),\n",
              "                  bootstrap=False, bootstrap_features=True, max_features=0.5,\n",
              "                  max_samples=1, n_estimators=500, n_jobs=-1, oob_score=False,\n",
              "                  random_state=None, verbose=0, warm_start=False)"
            ]
          },
          "metadata": {
            "tags": []
          },
          "execution_count": 19
        }
      ]
    },
    {
      "cell_type": "code",
      "metadata": {
        "colab": {
          "base_uri": "https://localhost:8080/"
        },
        "id": "BwhWF-Es5MgL",
        "outputId": "8da1c3b9-b7e6-4ac9-979d-bd31970bb3e4"
      },
      "source": [
        "y_pred=rnd_subspaces_clf.predict(X_test)\n",
        "\n",
        "print(accuracy_score(y_test,y_pred))"
      ],
      "execution_count": null,
      "outputs": [
        {
          "output_type": "stream",
          "text": [
            "0.3\n"
          ],
          "name": "stdout"
        }
      ]
    },
    {
      "cell_type": "markdown",
      "metadata": {
        "id": "wOaTAagx57Fo"
      },
      "source": [
        "# **RANDOM** **FOREST**"
      ]
    },
    {
      "cell_type": "code",
      "metadata": {
        "colab": {
          "base_uri": "https://localhost:8080/"
        },
        "id": "VrufOe5N5gfZ",
        "outputId": "45b82566-8843-423b-c7c9-aef0a1f7cdec"
      },
      "source": [
        "forest_clf=RandomForestClassifier(n_estimators=500,max_leaf_nodes=16,n_jobs=-1)\n",
        "forest_clf.fit(X_train,y_train)"
      ],
      "execution_count": null,
      "outputs": [
        {
          "output_type": "stream",
          "text": [
            "/usr/local/lib/python3.7/dist-packages/ipykernel_launcher.py:2: DataConversionWarning: A column-vector y was passed when a 1d array was expected. Please change the shape of y to (n_samples,), for example using ravel().\n",
            "  \n"
          ],
          "name": "stderr"
        },
        {
          "output_type": "execute_result",
          "data": {
            "text/plain": [
              "RandomForestClassifier(bootstrap=True, ccp_alpha=0.0, class_weight=None,\n",
              "                       criterion='gini', max_depth=None, max_features='auto',\n",
              "                       max_leaf_nodes=16, max_samples=None,\n",
              "                       min_impurity_decrease=0.0, min_impurity_split=None,\n",
              "                       min_samples_leaf=1, min_samples_split=2,\n",
              "                       min_weight_fraction_leaf=0.0, n_estimators=500,\n",
              "                       n_jobs=-1, oob_score=False, random_state=None, verbose=0,\n",
              "                       warm_start=False)"
            ]
          },
          "metadata": {
            "tags": []
          },
          "execution_count": 21
        }
      ]
    },
    {
      "cell_type": "code",
      "metadata": {
        "colab": {
          "base_uri": "https://localhost:8080/"
        },
        "id": "BmpekHeDKu-n",
        "outputId": "22bbe05f-9484-432a-a866-18aadb53d2b4"
      },
      "source": [
        "y_pred=forest_clf.predict(X_test)\n",
        "print(accuracy_score(y_test,y_pred))"
      ],
      "execution_count": null,
      "outputs": [
        {
          "output_type": "stream",
          "text": [
            "0.95\n"
          ],
          "name": "stdout"
        }
      ]
    },
    {
      "cell_type": "markdown",
      "metadata": {
        "id": "AY_qagtZLNP5"
      },
      "source": [
        "### **1.** **Extra** **Trees** **Classifiers**"
      ]
    },
    {
      "cell_type": "code",
      "metadata": {
        "colab": {
          "base_uri": "https://localhost:8080/"
        },
        "id": "2VQuPySDK8nA",
        "outputId": "51e5ccf2-77c1-4876-f34c-165054378db8"
      },
      "source": [
        "extra_tree_clf=ExtraTreesClassifier(n_estimators=500,max_leaf_nodes=16,n_jobs=-1)\n",
        "extra_tree_clf.fit(X_train,y_train)"
      ],
      "execution_count": null,
      "outputs": [
        {
          "output_type": "stream",
          "text": [
            "/usr/local/lib/python3.7/dist-packages/ipykernel_launcher.py:2: DataConversionWarning: A column-vector y was passed when a 1d array was expected. Please change the shape of y to (n_samples,), for example using ravel().\n",
            "  \n"
          ],
          "name": "stderr"
        },
        {
          "output_type": "execute_result",
          "data": {
            "text/plain": [
              "ExtraTreesClassifier(bootstrap=False, ccp_alpha=0.0, class_weight=None,\n",
              "                     criterion='gini', max_depth=None, max_features='auto',\n",
              "                     max_leaf_nodes=16, max_samples=None,\n",
              "                     min_impurity_decrease=0.0, min_impurity_split=None,\n",
              "                     min_samples_leaf=1, min_samples_split=2,\n",
              "                     min_weight_fraction_leaf=0.0, n_estimators=500, n_jobs=-1,\n",
              "                     oob_score=False, random_state=None, verbose=0,\n",
              "                     warm_start=False)"
            ]
          },
          "metadata": {
            "tags": []
          },
          "execution_count": 23
        }
      ]
    },
    {
      "cell_type": "code",
      "metadata": {
        "colab": {
          "base_uri": "https://localhost:8080/"
        },
        "id": "WYxcdr2pLsIa",
        "outputId": "d83affd0-ab42-4a47-c642-39187c8e8233"
      },
      "source": [
        "y_pred=extra_tree_clf.predict(X_test)\n",
        "print(accuracy_score(y_test,y_pred))"
      ],
      "execution_count": null,
      "outputs": [
        {
          "output_type": "stream",
          "text": [
            "1.0\n"
          ],
          "name": "stdout"
        }
      ]
    },
    {
      "cell_type": "markdown",
      "metadata": {
        "id": "5q0htl9pL08d"
      },
      "source": [
        "### **2.** **Feature** **Importance**"
      ]
    },
    {
      "cell_type": "code",
      "metadata": {
        "colab": {
          "base_uri": "https://localhost:8080/"
        },
        "id": "SZx7MvT5Ly_K",
        "outputId": "347f816d-5d7c-428e-ffa6-ff8a24c1e8a2"
      },
      "source": [
        "irisd=datasets.load_iris()\n",
        "print(irisd.keys())"
      ],
      "execution_count": null,
      "outputs": [
        {
          "output_type": "stream",
          "text": [
            "dict_keys(['data', 'target', 'target_names', 'DESCR', 'feature_names', 'filename'])\n"
          ],
          "name": "stdout"
        }
      ]
    },
    {
      "cell_type": "code",
      "metadata": {
        "colab": {
          "base_uri": "https://localhost:8080/",
          "height": 204
        },
        "id": "musxYXZ1NvDp",
        "outputId": "e51bb4cd-6249-4a1b-c44c-f6500813e01c"
      },
      "source": [
        "X=pd.DataFrame(irisd['data'])\n",
        "y=pd.DataFrame(irisd['target'])\n",
        "\n",
        "X.head()"
      ],
      "execution_count": null,
      "outputs": [
        {
          "output_type": "execute_result",
          "data": {
            "text/html": [
              "<div>\n",
              "<style scoped>\n",
              "    .dataframe tbody tr th:only-of-type {\n",
              "        vertical-align: middle;\n",
              "    }\n",
              "\n",
              "    .dataframe tbody tr th {\n",
              "        vertical-align: top;\n",
              "    }\n",
              "\n",
              "    .dataframe thead th {\n",
              "        text-align: right;\n",
              "    }\n",
              "</style>\n",
              "<table border=\"1\" class=\"dataframe\">\n",
              "  <thead>\n",
              "    <tr style=\"text-align: right;\">\n",
              "      <th></th>\n",
              "      <th>0</th>\n",
              "      <th>1</th>\n",
              "      <th>2</th>\n",
              "      <th>3</th>\n",
              "    </tr>\n",
              "  </thead>\n",
              "  <tbody>\n",
              "    <tr>\n",
              "      <th>0</th>\n",
              "      <td>5.1</td>\n",
              "      <td>3.5</td>\n",
              "      <td>1.4</td>\n",
              "      <td>0.2</td>\n",
              "    </tr>\n",
              "    <tr>\n",
              "      <th>1</th>\n",
              "      <td>4.9</td>\n",
              "      <td>3.0</td>\n",
              "      <td>1.4</td>\n",
              "      <td>0.2</td>\n",
              "    </tr>\n",
              "    <tr>\n",
              "      <th>2</th>\n",
              "      <td>4.7</td>\n",
              "      <td>3.2</td>\n",
              "      <td>1.3</td>\n",
              "      <td>0.2</td>\n",
              "    </tr>\n",
              "    <tr>\n",
              "      <th>3</th>\n",
              "      <td>4.6</td>\n",
              "      <td>3.1</td>\n",
              "      <td>1.5</td>\n",
              "      <td>0.2</td>\n",
              "    </tr>\n",
              "    <tr>\n",
              "      <th>4</th>\n",
              "      <td>5.0</td>\n",
              "      <td>3.6</td>\n",
              "      <td>1.4</td>\n",
              "      <td>0.2</td>\n",
              "    </tr>\n",
              "  </tbody>\n",
              "</table>\n",
              "</div>"
            ],
            "text/plain": [
              "     0    1    2    3\n",
              "0  5.1  3.5  1.4  0.2\n",
              "1  4.9  3.0  1.4  0.2\n",
              "2  4.7  3.2  1.3  0.2\n",
              "3  4.6  3.1  1.5  0.2\n",
              "4  5.0  3.6  1.4  0.2"
            ]
          },
          "metadata": {
            "tags": []
          },
          "execution_count": 26
        }
      ]
    },
    {
      "cell_type": "code",
      "metadata": {
        "colab": {
          "base_uri": "https://localhost:8080/"
        },
        "id": "ZblaUTAROCHv",
        "outputId": "5b55db0a-5ab7-4902-9d02-cdd2c6f9964b"
      },
      "source": [
        "forest_clf=RandomForestClassifier(n_estimators=500,n_jobs=-1)\n",
        "forest_clf.fit(X,y)"
      ],
      "execution_count": null,
      "outputs": [
        {
          "output_type": "stream",
          "text": [
            "/usr/local/lib/python3.7/dist-packages/ipykernel_launcher.py:2: DataConversionWarning: A column-vector y was passed when a 1d array was expected. Please change the shape of y to (n_samples,), for example using ravel().\n",
            "  \n"
          ],
          "name": "stderr"
        },
        {
          "output_type": "execute_result",
          "data": {
            "text/plain": [
              "RandomForestClassifier(bootstrap=True, ccp_alpha=0.0, class_weight=None,\n",
              "                       criterion='gini', max_depth=None, max_features='auto',\n",
              "                       max_leaf_nodes=None, max_samples=None,\n",
              "                       min_impurity_decrease=0.0, min_impurity_split=None,\n",
              "                       min_samples_leaf=1, min_samples_split=2,\n",
              "                       min_weight_fraction_leaf=0.0, n_estimators=500,\n",
              "                       n_jobs=-1, oob_score=False, random_state=None, verbose=0,\n",
              "                       warm_start=False)"
            ]
          },
          "metadata": {
            "tags": []
          },
          "execution_count": 27
        }
      ]
    },
    {
      "cell_type": "code",
      "metadata": {
        "colab": {
          "base_uri": "https://localhost:8080/"
        },
        "id": "LRZfqVjXOSP_",
        "outputId": "d80ab2c4-984a-4967-b5e5-12391cb49dd2"
      },
      "source": [
        "forest_clf.feature_importances_"
      ],
      "execution_count": null,
      "outputs": [
        {
          "output_type": "execute_result",
          "data": {
            "text/plain": [
              "array([0.09417055, 0.0218612 , 0.44574412, 0.43822414])"
            ]
          },
          "metadata": {
            "tags": []
          },
          "execution_count": 28
        }
      ]
    },
    {
      "cell_type": "code",
      "metadata": {
        "colab": {
          "base_uri": "https://localhost:8080/"
        },
        "id": "Q4bw_1g0OYE0",
        "outputId": "167a6160-66a6-4fbc-cca2-d9a995150595"
      },
      "source": [
        "for name,score in zip(irisd['feature_names'],forest_clf.feature_importances_):\n",
        "  print(name,score)"
      ],
      "execution_count": null,
      "outputs": [
        {
          "output_type": "stream",
          "text": [
            "sepal length (cm) 0.09417054607915214\n",
            "sepal width (cm) 0.021861200539011753\n",
            "petal length (cm) 0.44574411647720763\n",
            "petal width (cm) 0.4382241369046285\n"
          ],
          "name": "stdout"
        }
      ]
    },
    {
      "cell_type": "markdown",
      "metadata": {
        "id": "9hkVMeHw89pa"
      },
      "source": [
        "# **BOOSTING**"
      ]
    },
    {
      "cell_type": "markdown",
      "metadata": {
        "id": "C4JBQ9Xn9Bd2"
      },
      "source": [
        "## **1.AdaBoost**"
      ]
    },
    {
      "cell_type": "code",
      "metadata": {
        "id": "7dh_fW13OxNY",
        "colab": {
          "base_uri": "https://localhost:8080/"
        },
        "outputId": "78f7318c-3a24-4f9e-99a6-f52ae8fe05ab"
      },
      "source": [
        "ada_boost_clf=AdaBoostClassifier(base_estimator=DecisionTreeClassifier(max_depth=1),n_estimators=200,learning_rate=0.5,algorithm='SAMME.R')\n",
        "ada_boost_clf.fit(X_train,y_train)"
      ],
      "execution_count": null,
      "outputs": [
        {
          "output_type": "stream",
          "text": [
            "/usr/local/lib/python3.7/dist-packages/sklearn/utils/validation.py:760: DataConversionWarning: A column-vector y was passed when a 1d array was expected. Please change the shape of y to (n_samples, ), for example using ravel().\n",
            "  y = column_or_1d(y, warn=True)\n"
          ],
          "name": "stderr"
        },
        {
          "output_type": "execute_result",
          "data": {
            "text/plain": [
              "AdaBoostClassifier(algorithm='SAMME.R',\n",
              "                   base_estimator=DecisionTreeClassifier(ccp_alpha=0.0,\n",
              "                                                         class_weight=None,\n",
              "                                                         criterion='gini',\n",
              "                                                         max_depth=1,\n",
              "                                                         max_features=None,\n",
              "                                                         max_leaf_nodes=None,\n",
              "                                                         min_impurity_decrease=0.0,\n",
              "                                                         min_impurity_split=None,\n",
              "                                                         min_samples_leaf=1,\n",
              "                                                         min_samples_split=2,\n",
              "                                                         min_weight_fraction_leaf=0.0,\n",
              "                                                         presort='deprecated',\n",
              "                                                         random_state=None,\n",
              "                                                         splitter='best'),\n",
              "                   learning_rate=0.5, n_estimators=200, random_state=None)"
            ]
          },
          "metadata": {
            "tags": []
          },
          "execution_count": 32
        }
      ]
    },
    {
      "cell_type": "markdown",
      "metadata": {
        "id": "uCN566lp_Iao"
      },
      "source": [
        "## **2.Gradient Boosting**"
      ]
    },
    {
      "cell_type": "code",
      "metadata": {
        "colab": {
          "base_uri": "https://localhost:8080/"
        },
        "id": "MnGqX0ip--nL",
        "outputId": "123c085d-07cf-4af0-b4d1-203ab24799d0"
      },
      "source": [
        "                            #doing manually\n",
        "\n",
        "X_train,X_test,y_train,y_test=train_test_split(X,y,random_state=42)\n",
        "\n",
        "tree_reg1=DecisionTreeRegressor(max_depth=2)\n",
        "tree_reg1.fit(X,y)\n",
        "\n",
        "#train second classifier on the residual errors made by the first predictor\n",
        "y2=y-pd.DataFrame(tree_reg1.predict(X))\n",
        "tree_reg2=DecisionTreeRegressor(max_depth=2)\n",
        "tree_reg2.fit(X,y2)\n",
        "\n",
        "#train third classifier on the residual error made by the second predictor\n",
        "y3=y2-pd.DataFrame(tree_reg2.predict(X))\n",
        "tree_reg3=DecisionTreeRegressor(max_depth=2)\n",
        "tree_reg3.fit(X,y3)\n",
        "\n",
        "\n"
      ],
      "execution_count": null,
      "outputs": [
        {
          "output_type": "execute_result",
          "data": {
            "text/plain": [
              "DecisionTreeRegressor(ccp_alpha=0.0, criterion='mse', max_depth=2,\n",
              "                      max_features=None, max_leaf_nodes=None,\n",
              "                      min_impurity_decrease=0.0, min_impurity_split=None,\n",
              "                      min_samples_leaf=1, min_samples_split=2,\n",
              "                      min_weight_fraction_leaf=0.0, presort='deprecated',\n",
              "                      random_state=None, splitter='best')"
            ]
          },
          "metadata": {
            "tags": []
          },
          "execution_count": 44
        }
      ]
    },
    {
      "cell_type": "code",
      "metadata": {
        "colab": {
          "base_uri": "https://localhost:8080/"
        },
        "id": "1WE8mVvNAwzw",
        "outputId": "9ebd9e6f-c8cf-4baa-95da-6b199af0e1bb"
      },
      "source": [
        "#making predictions summing all the predictions\n",
        "\n",
        "y_pred=sum(tree.predict(X_test) for tree in (tree_reg1,tree_reg2,tree_reg3))\n",
        "\n",
        "print(y_pred)"
      ],
      "execution_count": null,
      "outputs": [
        {
          "output_type": "stream",
          "text": [
            "[ 0.99103926 -0.10155333  2.          0.99103926  0.99103926 -0.00505885\n",
            "  0.99103926  2.00345395  0.99103926  0.99103926  2.00345395  0.03703704\n",
            " -0.10155333  0.03703704 -0.00505885  0.99103926  2.00345395  0.99103926\n",
            "  0.99103926  2.00345395  0.03703704  1.87670754 -0.00505885  2.00345395\n",
            "  2.          2.00345395  2.00345395  2.00345395  0.03703704  0.03703704\n",
            "  0.03703704 -0.10155333  0.99103926  0.03703704  0.03703704  2.00345395\n",
            "  0.99103926 -0.00505885]\n"
          ],
          "name": "stdout"
        }
      ]
    },
    {
      "cell_type": "code",
      "metadata": {
        "colab": {
          "base_uri": "https://localhost:8080/"
        },
        "id": "8XNWoz4rCqHb",
        "outputId": "b078eddc-1e56-4c3a-8799-896605ca34b7"
      },
      "source": [
        "                                  #using sklearn\n",
        "grbt=GradientBoostingRegressor(max_depth=2,n_estimators=3,learning_rate=1)\n",
        "grbt.fit(X,y)\n"
      ],
      "execution_count": null,
      "outputs": [
        {
          "output_type": "stream",
          "text": [
            "/usr/local/lib/python3.7/dist-packages/sklearn/ensemble/_gb.py:1454: DataConversionWarning: A column-vector y was passed when a 1d array was expected. Please change the shape of y to (n_samples, ), for example using ravel().\n",
            "  y = column_or_1d(y, warn=True)\n"
          ],
          "name": "stderr"
        },
        {
          "output_type": "execute_result",
          "data": {
            "text/plain": [
              "GradientBoostingRegressor(alpha=0.9, ccp_alpha=0.0, criterion='friedman_mse',\n",
              "                          init=None, learning_rate=1, loss='ls', max_depth=2,\n",
              "                          max_features=None, max_leaf_nodes=None,\n",
              "                          min_impurity_decrease=0.0, min_impurity_split=None,\n",
              "                          min_samples_leaf=1, min_samples_split=2,\n",
              "                          min_weight_fraction_leaf=0.0, n_estimators=3,\n",
              "                          n_iter_no_change=None, presort='deprecated',\n",
              "                          random_state=None, subsample=1.0, tol=0.0001,\n",
              "                          validation_fraction=0.1, verbose=0, warm_start=False)"
            ]
          },
          "metadata": {
            "tags": []
          },
          "execution_count": 47
        }
      ]
    },
    {
      "cell_type": "code",
      "metadata": {
        "colab": {
          "base_uri": "https://localhost:8080/"
        },
        "id": "Mi3H2F8sFROb",
        "outputId": "d5ed3617-e5b9-49dc-9518-1ff61c928a0d"
      },
      "source": [
        "print(grbt.predict(X_test))"
      ],
      "execution_count": null,
      "outputs": [
        {
          "output_type": "stream",
          "text": [
            "[ 0.99103926 -0.10155333  2.          0.99103926  0.99103926 -0.00505885\n",
            "  0.99103926  2.00345395  0.99103926  0.99103926  2.00345395  0.03703704\n",
            " -0.10155333  0.03703704 -0.00505885  0.99103926  2.00345395  0.99103926\n",
            "  0.99103926  2.00345395  0.03703704  1.87670754 -0.00505885  2.00345395\n",
            "  2.          2.00345395  2.00345395  2.00345395  0.03703704  0.03703704\n",
            "  0.03703704 -0.10155333  0.99103926  0.03703704  0.03703704  2.00345395\n",
            "  0.99103926 -0.00505885]\n"
          ],
          "name": "stdout"
        }
      ]
    },
    {
      "cell_type": "code",
      "metadata": {
        "colab": {
          "base_uri": "https://localhost:8080/"
        },
        "id": "ZUXYupYwFYc1",
        "outputId": "1ff9bfd9-5d49-484b-8536-0c67e7185d3d"
      },
      "source": [
        "#to find the optimal number of trees\n",
        "\n",
        "#1. Early stopping using staged_predict()\n",
        "\n",
        "grbt=GradientBoostingRegressor(max_depth=2,n_estimators=120)\n",
        "grbt.fit(X_train,y_train)"
      ],
      "execution_count": null,
      "outputs": [
        {
          "output_type": "stream",
          "text": [
            "/usr/local/lib/python3.7/dist-packages/sklearn/ensemble/_gb.py:1454: DataConversionWarning: A column-vector y was passed when a 1d array was expected. Please change the shape of y to (n_samples, ), for example using ravel().\n",
            "  y = column_or_1d(y, warn=True)\n"
          ],
          "name": "stderr"
        },
        {
          "output_type": "execute_result",
          "data": {
            "text/plain": [
              "GradientBoostingRegressor(alpha=0.9, ccp_alpha=0.0, criterion='friedman_mse',\n",
              "                          init=None, learning_rate=0.1, loss='ls', max_depth=2,\n",
              "                          max_features=None, max_leaf_nodes=None,\n",
              "                          min_impurity_decrease=0.0, min_impurity_split=None,\n",
              "                          min_samples_leaf=1, min_samples_split=2,\n",
              "                          min_weight_fraction_leaf=0.0, n_estimators=120,\n",
              "                          n_iter_no_change=None, presort='deprecated',\n",
              "                          random_state=None, subsample=1.0, tol=0.0001,\n",
              "                          validation_fraction=0.1, verbose=0, warm_start=False)"
            ]
          },
          "metadata": {
            "tags": []
          },
          "execution_count": 51
        }
      ]
    },
    {
      "cell_type": "code",
      "metadata": {
        "colab": {
          "base_uri": "https://localhost:8080/"
        },
        "id": "QfLUah8hGnFQ",
        "outputId": "2dad819b-6de8-451c-c4cd-e54d28a76b72"
      },
      "source": [
        "errors=[mean_squared_error(y_test,y_pred) for y_pred in grbt.staged_predict(X_test)]\n",
        "best_n_estimators=np.argmax(errors)+1\n",
        "\n",
        "grbt_best=GradientBoostingRegressor(max_depth=2,n_estimators=best_n_estimators)\n",
        "grbt_best.fit(X_train,y_train)"
      ],
      "execution_count": null,
      "outputs": [
        {
          "output_type": "stream",
          "text": [
            "/usr/local/lib/python3.7/dist-packages/sklearn/ensemble/_gb.py:1454: DataConversionWarning: A column-vector y was passed when a 1d array was expected. Please change the shape of y to (n_samples, ), for example using ravel().\n",
            "  y = column_or_1d(y, warn=True)\n"
          ],
          "name": "stderr"
        },
        {
          "output_type": "execute_result",
          "data": {
            "text/plain": [
              "GradientBoostingRegressor(alpha=0.9, ccp_alpha=0.0, criterion='friedman_mse',\n",
              "                          init=None, learning_rate=0.1, loss='ls', max_depth=2,\n",
              "                          max_features=None, max_leaf_nodes=None,\n",
              "                          min_impurity_decrease=0.0, min_impurity_split=None,\n",
              "                          min_samples_leaf=1, min_samples_split=2,\n",
              "                          min_weight_fraction_leaf=0.0, n_estimators=1,\n",
              "                          n_iter_no_change=None, presort='deprecated',\n",
              "                          random_state=None, subsample=1.0, tol=0.0001,\n",
              "                          validation_fraction=0.1, verbose=0, warm_start=False)"
            ]
          },
          "metadata": {
            "tags": []
          },
          "execution_count": 52
        }
      ]
    },
    {
      "cell_type": "code",
      "metadata": {
        "colab": {
          "base_uri": "https://localhost:8080/"
        },
        "id": "IkzQzNzkHef5",
        "outputId": "4d7d8dea-4a85-4866-b44f-f58a64e4390b"
      },
      "source": [
        "#to actually stopping training\n",
        "grbt=GradientBoostingRegressor(max_depth=2,warm_start=True)\n",
        "\n",
        "min_val_error=float('inf')\n",
        "error_going_up=0\n",
        "for n_estimators in range(1,120):\n",
        "  grbt.n_estimators=n_estimators\n",
        "  grbt.fit(X_train,y_train)\n",
        "  y_pred=grbt.predict(X_test)\n",
        "  val_error=mean_squared_error(y_test,y_pred)\n",
        "  if val_error < min_val_error:\n",
        "    min_val_error=val_error\n",
        "    error_going_up=0\n",
        "  else:\n",
        "    error_going_up+=1\n",
        "    if error_going_up==5:\n",
        "      break\n"
      ],
      "execution_count": null,
      "outputs": [
        {
          "output_type": "stream",
          "text": [
            "/usr/local/lib/python3.7/dist-packages/sklearn/ensemble/_gb.py:1454: DataConversionWarning: A column-vector y was passed when a 1d array was expected. Please change the shape of y to (n_samples, ), for example using ravel().\n",
            "  y = column_or_1d(y, warn=True)\n",
            "/usr/local/lib/python3.7/dist-packages/sklearn/ensemble/_gb.py:1454: DataConversionWarning: A column-vector y was passed when a 1d array was expected. Please change the shape of y to (n_samples, ), for example using ravel().\n",
            "  y = column_or_1d(y, warn=True)\n",
            "/usr/local/lib/python3.7/dist-packages/sklearn/ensemble/_gb.py:1454: DataConversionWarning: A column-vector y was passed when a 1d array was expected. Please change the shape of y to (n_samples, ), for example using ravel().\n",
            "  y = column_or_1d(y, warn=True)\n",
            "/usr/local/lib/python3.7/dist-packages/sklearn/ensemble/_gb.py:1454: DataConversionWarning: A column-vector y was passed when a 1d array was expected. Please change the shape of y to (n_samples, ), for example using ravel().\n",
            "  y = column_or_1d(y, warn=True)\n",
            "/usr/local/lib/python3.7/dist-packages/sklearn/ensemble/_gb.py:1454: DataConversionWarning: A column-vector y was passed when a 1d array was expected. Please change the shape of y to (n_samples, ), for example using ravel().\n",
            "  y = column_or_1d(y, warn=True)\n",
            "/usr/local/lib/python3.7/dist-packages/sklearn/ensemble/_gb.py:1454: DataConversionWarning: A column-vector y was passed when a 1d array was expected. Please change the shape of y to (n_samples, ), for example using ravel().\n",
            "  y = column_or_1d(y, warn=True)\n",
            "/usr/local/lib/python3.7/dist-packages/sklearn/ensemble/_gb.py:1454: DataConversionWarning: A column-vector y was passed when a 1d array was expected. Please change the shape of y to (n_samples, ), for example using ravel().\n",
            "  y = column_or_1d(y, warn=True)\n",
            "/usr/local/lib/python3.7/dist-packages/sklearn/ensemble/_gb.py:1454: DataConversionWarning: A column-vector y was passed when a 1d array was expected. Please change the shape of y to (n_samples, ), for example using ravel().\n",
            "  y = column_or_1d(y, warn=True)\n",
            "/usr/local/lib/python3.7/dist-packages/sklearn/ensemble/_gb.py:1454: DataConversionWarning: A column-vector y was passed when a 1d array was expected. Please change the shape of y to (n_samples, ), for example using ravel().\n",
            "  y = column_or_1d(y, warn=True)\n",
            "/usr/local/lib/python3.7/dist-packages/sklearn/ensemble/_gb.py:1454: DataConversionWarning: A column-vector y was passed when a 1d array was expected. Please change the shape of y to (n_samples, ), for example using ravel().\n",
            "  y = column_or_1d(y, warn=True)\n",
            "/usr/local/lib/python3.7/dist-packages/sklearn/ensemble/_gb.py:1454: DataConversionWarning: A column-vector y was passed when a 1d array was expected. Please change the shape of y to (n_samples, ), for example using ravel().\n",
            "  y = column_or_1d(y, warn=True)\n",
            "/usr/local/lib/python3.7/dist-packages/sklearn/ensemble/_gb.py:1454: DataConversionWarning: A column-vector y was passed when a 1d array was expected. Please change the shape of y to (n_samples, ), for example using ravel().\n",
            "  y = column_or_1d(y, warn=True)\n",
            "/usr/local/lib/python3.7/dist-packages/sklearn/ensemble/_gb.py:1454: DataConversionWarning: A column-vector y was passed when a 1d array was expected. Please change the shape of y to (n_samples, ), for example using ravel().\n",
            "  y = column_or_1d(y, warn=True)\n",
            "/usr/local/lib/python3.7/dist-packages/sklearn/ensemble/_gb.py:1454: DataConversionWarning: A column-vector y was passed when a 1d array was expected. Please change the shape of y to (n_samples, ), for example using ravel().\n",
            "  y = column_or_1d(y, warn=True)\n",
            "/usr/local/lib/python3.7/dist-packages/sklearn/ensemble/_gb.py:1454: DataConversionWarning: A column-vector y was passed when a 1d array was expected. Please change the shape of y to (n_samples, ), for example using ravel().\n",
            "  y = column_or_1d(y, warn=True)\n",
            "/usr/local/lib/python3.7/dist-packages/sklearn/ensemble/_gb.py:1454: DataConversionWarning: A column-vector y was passed when a 1d array was expected. Please change the shape of y to (n_samples, ), for example using ravel().\n",
            "  y = column_or_1d(y, warn=True)\n",
            "/usr/local/lib/python3.7/dist-packages/sklearn/ensemble/_gb.py:1454: DataConversionWarning: A column-vector y was passed when a 1d array was expected. Please change the shape of y to (n_samples, ), for example using ravel().\n",
            "  y = column_or_1d(y, warn=True)\n",
            "/usr/local/lib/python3.7/dist-packages/sklearn/ensemble/_gb.py:1454: DataConversionWarning: A column-vector y was passed when a 1d array was expected. Please change the shape of y to (n_samples, ), for example using ravel().\n",
            "  y = column_or_1d(y, warn=True)\n",
            "/usr/local/lib/python3.7/dist-packages/sklearn/ensemble/_gb.py:1454: DataConversionWarning: A column-vector y was passed when a 1d array was expected. Please change the shape of y to (n_samples, ), for example using ravel().\n",
            "  y = column_or_1d(y, warn=True)\n",
            "/usr/local/lib/python3.7/dist-packages/sklearn/ensemble/_gb.py:1454: DataConversionWarning: A column-vector y was passed when a 1d array was expected. Please change the shape of y to (n_samples, ), for example using ravel().\n",
            "  y = column_or_1d(y, warn=True)\n",
            "/usr/local/lib/python3.7/dist-packages/sklearn/ensemble/_gb.py:1454: DataConversionWarning: A column-vector y was passed when a 1d array was expected. Please change the shape of y to (n_samples, ), for example using ravel().\n",
            "  y = column_or_1d(y, warn=True)\n",
            "/usr/local/lib/python3.7/dist-packages/sklearn/ensemble/_gb.py:1454: DataConversionWarning: A column-vector y was passed when a 1d array was expected. Please change the shape of y to (n_samples, ), for example using ravel().\n",
            "  y = column_or_1d(y, warn=True)\n",
            "/usr/local/lib/python3.7/dist-packages/sklearn/ensemble/_gb.py:1454: DataConversionWarning: A column-vector y was passed when a 1d array was expected. Please change the shape of y to (n_samples, ), for example using ravel().\n",
            "  y = column_or_1d(y, warn=True)\n",
            "/usr/local/lib/python3.7/dist-packages/sklearn/ensemble/_gb.py:1454: DataConversionWarning: A column-vector y was passed when a 1d array was expected. Please change the shape of y to (n_samples, ), for example using ravel().\n",
            "  y = column_or_1d(y, warn=True)\n",
            "/usr/local/lib/python3.7/dist-packages/sklearn/ensemble/_gb.py:1454: DataConversionWarning: A column-vector y was passed when a 1d array was expected. Please change the shape of y to (n_samples, ), for example using ravel().\n",
            "  y = column_or_1d(y, warn=True)\n",
            "/usr/local/lib/python3.7/dist-packages/sklearn/ensemble/_gb.py:1454: DataConversionWarning: A column-vector y was passed when a 1d array was expected. Please change the shape of y to (n_samples, ), for example using ravel().\n",
            "  y = column_or_1d(y, warn=True)\n",
            "/usr/local/lib/python3.7/dist-packages/sklearn/ensemble/_gb.py:1454: DataConversionWarning: A column-vector y was passed when a 1d array was expected. Please change the shape of y to (n_samples, ), for example using ravel().\n",
            "  y = column_or_1d(y, warn=True)\n",
            "/usr/local/lib/python3.7/dist-packages/sklearn/ensemble/_gb.py:1454: DataConversionWarning: A column-vector y was passed when a 1d array was expected. Please change the shape of y to (n_samples, ), for example using ravel().\n",
            "  y = column_or_1d(y, warn=True)\n",
            "/usr/local/lib/python3.7/dist-packages/sklearn/ensemble/_gb.py:1454: DataConversionWarning: A column-vector y was passed when a 1d array was expected. Please change the shape of y to (n_samples, ), for example using ravel().\n",
            "  y = column_or_1d(y, warn=True)\n",
            "/usr/local/lib/python3.7/dist-packages/sklearn/ensemble/_gb.py:1454: DataConversionWarning: A column-vector y was passed when a 1d array was expected. Please change the shape of y to (n_samples, ), for example using ravel().\n",
            "  y = column_or_1d(y, warn=True)\n",
            "/usr/local/lib/python3.7/dist-packages/sklearn/ensemble/_gb.py:1454: DataConversionWarning: A column-vector y was passed when a 1d array was expected. Please change the shape of y to (n_samples, ), for example using ravel().\n",
            "  y = column_or_1d(y, warn=True)\n",
            "/usr/local/lib/python3.7/dist-packages/sklearn/ensemble/_gb.py:1454: DataConversionWarning: A column-vector y was passed when a 1d array was expected. Please change the shape of y to (n_samples, ), for example using ravel().\n",
            "  y = column_or_1d(y, warn=True)\n",
            "/usr/local/lib/python3.7/dist-packages/sklearn/ensemble/_gb.py:1454: DataConversionWarning: A column-vector y was passed when a 1d array was expected. Please change the shape of y to (n_samples, ), for example using ravel().\n",
            "  y = column_or_1d(y, warn=True)\n",
            "/usr/local/lib/python3.7/dist-packages/sklearn/ensemble/_gb.py:1454: DataConversionWarning: A column-vector y was passed when a 1d array was expected. Please change the shape of y to (n_samples, ), for example using ravel().\n",
            "  y = column_or_1d(y, warn=True)\n",
            "/usr/local/lib/python3.7/dist-packages/sklearn/ensemble/_gb.py:1454: DataConversionWarning: A column-vector y was passed when a 1d array was expected. Please change the shape of y to (n_samples, ), for example using ravel().\n",
            "  y = column_or_1d(y, warn=True)\n",
            "/usr/local/lib/python3.7/dist-packages/sklearn/ensemble/_gb.py:1454: DataConversionWarning: A column-vector y was passed when a 1d array was expected. Please change the shape of y to (n_samples, ), for example using ravel().\n",
            "  y = column_or_1d(y, warn=True)\n",
            "/usr/local/lib/python3.7/dist-packages/sklearn/ensemble/_gb.py:1454: DataConversionWarning: A column-vector y was passed when a 1d array was expected. Please change the shape of y to (n_samples, ), for example using ravel().\n",
            "  y = column_or_1d(y, warn=True)\n",
            "/usr/local/lib/python3.7/dist-packages/sklearn/ensemble/_gb.py:1454: DataConversionWarning: A column-vector y was passed when a 1d array was expected. Please change the shape of y to (n_samples, ), for example using ravel().\n",
            "  y = column_or_1d(y, warn=True)\n",
            "/usr/local/lib/python3.7/dist-packages/sklearn/ensemble/_gb.py:1454: DataConversionWarning: A column-vector y was passed when a 1d array was expected. Please change the shape of y to (n_samples, ), for example using ravel().\n",
            "  y = column_or_1d(y, warn=True)\n",
            "/usr/local/lib/python3.7/dist-packages/sklearn/ensemble/_gb.py:1454: DataConversionWarning: A column-vector y was passed when a 1d array was expected. Please change the shape of y to (n_samples, ), for example using ravel().\n",
            "  y = column_or_1d(y, warn=True)\n",
            "/usr/local/lib/python3.7/dist-packages/sklearn/ensemble/_gb.py:1454: DataConversionWarning: A column-vector y was passed when a 1d array was expected. Please change the shape of y to (n_samples, ), for example using ravel().\n",
            "  y = column_or_1d(y, warn=True)\n",
            "/usr/local/lib/python3.7/dist-packages/sklearn/ensemble/_gb.py:1454: DataConversionWarning: A column-vector y was passed when a 1d array was expected. Please change the shape of y to (n_samples, ), for example using ravel().\n",
            "  y = column_or_1d(y, warn=True)\n"
          ],
          "name": "stderr"
        }
      ]
    },
    {
      "cell_type": "code",
      "metadata": {
        "colab": {
          "base_uri": "https://localhost:8080/"
        },
        "id": "zXDjoJjSKMkB",
        "outputId": "721273dc-6c32-4214-e495-d750e17cd9b4"
      },
      "source": [
        "#using xgboost(Extreme Gradient Boosting)\n",
        "xgb_reg=xgboost.XGBRegressor()\n",
        "xgb_reg.fit(X_train,y_train,eval_set=[(X_test,y_test)],early_stopping_rounds=2)\n",
        "\n",
        "y_pred=xgb_reg.predict(X_test)\n"
      ],
      "execution_count": null,
      "outputs": [
        {
          "output_type": "stream",
          "text": [
            "[15:38:16] WARNING: /workspace/src/objective/regression_obj.cu:152: reg:linear is now deprecated in favor of reg:squarederror.\n",
            "[0]\tvalidation_0-rmse:0.848216\n",
            "Will train until validation_0-rmse hasn't improved in 2 rounds.\n",
            "[1]\tvalidation_0-rmse:0.76637\n",
            "[2]\tvalidation_0-rmse:0.692923\n",
            "[3]\tvalidation_0-rmse:0.628601\n",
            "[4]\tvalidation_0-rmse:0.568572\n",
            "[5]\tvalidation_0-rmse:0.515465\n",
            "[6]\tvalidation_0-rmse:0.467516\n",
            "[7]\tvalidation_0-rmse:0.423988\n",
            "[8]\tvalidation_0-rmse:0.38486\n",
            "[9]\tvalidation_0-rmse:0.347354\n",
            "[10]\tvalidation_0-rmse:0.313519\n",
            "[11]\tvalidation_0-rmse:0.284549\n",
            "[12]\tvalidation_0-rmse:0.257516\n",
            "[13]\tvalidation_0-rmse:0.234319\n",
            "[14]\tvalidation_0-rmse:0.211719\n",
            "[15]\tvalidation_0-rmse:0.191369\n",
            "[16]\tvalidation_0-rmse:0.173853\n",
            "[17]\tvalidation_0-rmse:0.157659\n",
            "[18]\tvalidation_0-rmse:0.143506\n",
            "[19]\tvalidation_0-rmse:0.131328\n",
            "[20]\tvalidation_0-rmse:0.123011\n",
            "[21]\tvalidation_0-rmse:0.114566\n",
            "[22]\tvalidation_0-rmse:0.108455\n",
            "[23]\tvalidation_0-rmse:0.103333\n",
            "[24]\tvalidation_0-rmse:0.097454\n",
            "[25]\tvalidation_0-rmse:0.093965\n",
            "[26]\tvalidation_0-rmse:0.08907\n",
            "[27]\tvalidation_0-rmse:0.084827\n",
            "[28]\tvalidation_0-rmse:0.083042\n",
            "[29]\tvalidation_0-rmse:0.080006\n",
            "[30]\tvalidation_0-rmse:0.077219\n",
            "[31]\tvalidation_0-rmse:0.074193\n",
            "[32]\tvalidation_0-rmse:0.072466\n",
            "[33]\tvalidation_0-rmse:0.07109\n",
            "[34]\tvalidation_0-rmse:0.070957\n",
            "[35]\tvalidation_0-rmse:0.070007\n",
            "[36]\tvalidation_0-rmse:0.069179\n",
            "[37]\tvalidation_0-rmse:0.069454\n",
            "[38]\tvalidation_0-rmse:0.067092\n",
            "[39]\tvalidation_0-rmse:0.066669\n",
            "[40]\tvalidation_0-rmse:0.066411\n",
            "[41]\tvalidation_0-rmse:0.06456\n",
            "[42]\tvalidation_0-rmse:0.063012\n",
            "[43]\tvalidation_0-rmse:0.063769\n",
            "[44]\tvalidation_0-rmse:0.062601\n",
            "[45]\tvalidation_0-rmse:0.061182\n",
            "[46]\tvalidation_0-rmse:0.061261\n",
            "[47]\tvalidation_0-rmse:0.061859\n",
            "Stopping. Best iteration:\n",
            "[45]\tvalidation_0-rmse:0.061182\n",
            "\n"
          ],
          "name": "stdout"
        }
      ]
    },
    {
      "cell_type": "code",
      "metadata": {
        "colab": {
          "base_uri": "https://localhost:8080/"
        },
        "id": "oKiZuR3OKds_",
        "outputId": "e0c72e19-f492-4868-9652-a80aba2e089f"
      },
      "source": [
        "print(y_pred)"
      ],
      "execution_count": null,
      "outputs": [
        {
          "output_type": "stream",
          "text": [
            "[1.0566008  0.00761837 1.8801653  1.0058978  1.1085618  0.00761837\n",
            " 0.99229443 1.8643548  1.0894842  0.9980558  1.900697   0.01715434\n",
            " 0.00761837 0.00761837 0.00761837 0.9470267  1.9823997  0.9980558\n",
            " 1.0477362  1.9917287  0.00761837 1.827092   0.00761837 1.9917287\n",
            " 1.9763035  1.9823997  1.8801653  1.9763035  0.01715434 0.00761837\n",
            " 0.00761837 0.00761837 0.96778154 0.00761837 0.00761837 1.8530235\n",
            " 0.9636893  0.00761837]\n"
          ],
          "name": "stdout"
        }
      ]
    },
    {
      "cell_type": "code",
      "metadata": {
        "colab": {
          "base_uri": "https://localhost:8080/"
        },
        "id": "RCVnCcRBLlH8",
        "outputId": "89770320-e287-4d1f-d907-2f82c90f79eb"
      },
      "source": [
        "print(xgb_reg.evals_result_)"
      ],
      "execution_count": null,
      "outputs": [
        {
          "output_type": "stream",
          "text": [
            "{'validation_0': {'rmse': [0.848216, 0.76637, 0.692923, 0.628601, 0.568572, 0.515465, 0.467516, 0.423988, 0.38486, 0.347354, 0.313519, 0.284549, 0.257516, 0.234319, 0.211719, 0.191369, 0.173853, 0.157659, 0.143506, 0.131328, 0.123011, 0.114566, 0.108455, 0.103333, 0.097454, 0.093965, 0.08907, 0.084827, 0.083042, 0.080006, 0.077219, 0.074193, 0.072466, 0.07109, 0.070957, 0.070007, 0.069179, 0.069454, 0.067092, 0.066669, 0.066411, 0.06456, 0.063012, 0.063769, 0.062601, 0.061182, 0.061261]}}\n"
          ],
          "name": "stdout"
        }
      ]
    },
    {
      "cell_type": "code",
      "metadata": {
        "id": "RrYCXgzHL1vt"
      },
      "source": [
        ""
      ],
      "execution_count": null,
      "outputs": []
    }
  ]
}