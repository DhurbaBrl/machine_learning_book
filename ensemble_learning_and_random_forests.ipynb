{
  "nbformat": 4,
  "nbformat_minor": 0,
  "metadata": {
    "colab": {
      "name": "ensemble_learning_and_random_forests.ipynb",
      "provenance": [],
      "authorship_tag": "ABX9TyMPaMRJo1PYB4DSyQN5Oa9b"
    },
    "kernelspec": {
      "name": "python3",
      "display_name": "Python 3"
    },
    "language_info": {
      "name": "python"
    }
  },
  "cells": [
    {
      "cell_type": "code",
      "metadata": {
        "id": "IuNTHv1U8MiZ"
      },
      "source": [
        "import numpy as np\n",
        "import pandas as pd\n",
        "import matplotlib.pyplot as plt\n",
        "from sklearn.svm import SVC\n",
        "from sklearn.linear_model import LogisticRegression\n",
        "from sklearn.ensemble import RandomForestClassifier,VotingClassifier,BaggingClassifier,ExtraTreesClassifier\n",
        "from sklearn import datasets\n",
        "from sklearn.model_selection import train_test_split\n",
        "from sklearn.metrics import accuracy_score\n",
        "from sklearn.tree import DecisionTreeClassifier"
      ],
      "execution_count": 55,
      "outputs": []
    },
    {
      "cell_type": "markdown",
      "metadata": {
        "id": "ExkL5groGxVA"
      },
      "source": [
        "# **VOTING** **CLASSIFIER**"
      ]
    },
    {
      "cell_type": "markdown",
      "metadata": {
        "id": "oDFeSdFeG5HS"
      },
      "source": [
        "## **1.** **Hard** **Voting** **Classifier**"
      ]
    },
    {
      "cell_type": "code",
      "metadata": {
        "id": "EHitexS9Gu_J"
      },
      "source": [
        "#load moons data\n",
        "Xdata,ydata=datasets.make_moons(n_samples=100,noise=0.15)\n",
        "X=pd.DataFrame(Xdata)\n",
        "y=pd.DataFrame(ydata)\n",
        "\n",
        "#to split the dataset\n",
        "X_train, X_test, y_train, y_test =train_test_split(X,y,test_size=0.20, random_state=42)"
      ],
      "execution_count": null,
      "outputs": []
    },
    {
      "cell_type": "code",
      "metadata": {
        "colab": {
          "base_uri": "https://localhost:8080/",
          "height": 204
        },
        "id": "XccQEeT7Iuj6",
        "outputId": "3720b61e-4120-4eff-abc3-9ea9a59c448d"
      },
      "source": [
        "X.head()"
      ],
      "execution_count": null,
      "outputs": [
        {
          "output_type": "execute_result",
          "data": {
            "text/html": [
              "<div>\n",
              "<style scoped>\n",
              "    .dataframe tbody tr th:only-of-type {\n",
              "        vertical-align: middle;\n",
              "    }\n",
              "\n",
              "    .dataframe tbody tr th {\n",
              "        vertical-align: top;\n",
              "    }\n",
              "\n",
              "    .dataframe thead th {\n",
              "        text-align: right;\n",
              "    }\n",
              "</style>\n",
              "<table border=\"1\" class=\"dataframe\">\n",
              "  <thead>\n",
              "    <tr style=\"text-align: right;\">\n",
              "      <th></th>\n",
              "      <th>0</th>\n",
              "      <th>1</th>\n",
              "    </tr>\n",
              "  </thead>\n",
              "  <tbody>\n",
              "    <tr>\n",
              "      <th>0</th>\n",
              "      <td>1.193301</td>\n",
              "      <td>-0.447967</td>\n",
              "    </tr>\n",
              "    <tr>\n",
              "      <th>1</th>\n",
              "      <td>0.242773</td>\n",
              "      <td>0.255242</td>\n",
              "    </tr>\n",
              "    <tr>\n",
              "      <th>2</th>\n",
              "      <td>-0.521021</td>\n",
              "      <td>1.025164</td>\n",
              "    </tr>\n",
              "    <tr>\n",
              "      <th>3</th>\n",
              "      <td>1.702371</td>\n",
              "      <td>-0.283151</td>\n",
              "    </tr>\n",
              "    <tr>\n",
              "      <th>4</th>\n",
              "      <td>0.636620</td>\n",
              "      <td>0.854684</td>\n",
              "    </tr>\n",
              "  </tbody>\n",
              "</table>\n",
              "</div>"
            ],
            "text/plain": [
              "          0         1\n",
              "0  1.193301 -0.447967\n",
              "1  0.242773  0.255242\n",
              "2 -0.521021  1.025164\n",
              "3  1.702371 -0.283151\n",
              "4  0.636620  0.854684"
            ]
          },
          "metadata": {
            "tags": []
          },
          "execution_count": 19
        }
      ]
    },
    {
      "cell_type": "code",
      "metadata": {
        "colab": {
          "base_uri": "https://localhost:8080/",
          "height": 204
        },
        "id": "HYpD6FLaIx-J",
        "outputId": "517ab194-5734-41e4-ef5a-2d057c8de964"
      },
      "source": [
        "y.head()"
      ],
      "execution_count": null,
      "outputs": [
        {
          "output_type": "execute_result",
          "data": {
            "text/html": [
              "<div>\n",
              "<style scoped>\n",
              "    .dataframe tbody tr th:only-of-type {\n",
              "        vertical-align: middle;\n",
              "    }\n",
              "\n",
              "    .dataframe tbody tr th {\n",
              "        vertical-align: top;\n",
              "    }\n",
              "\n",
              "    .dataframe thead th {\n",
              "        text-align: right;\n",
              "    }\n",
              "</style>\n",
              "<table border=\"1\" class=\"dataframe\">\n",
              "  <thead>\n",
              "    <tr style=\"text-align: right;\">\n",
              "      <th></th>\n",
              "      <th>0</th>\n",
              "    </tr>\n",
              "  </thead>\n",
              "  <tbody>\n",
              "    <tr>\n",
              "      <th>0</th>\n",
              "      <td>1</td>\n",
              "    </tr>\n",
              "    <tr>\n",
              "      <th>1</th>\n",
              "      <td>1</td>\n",
              "    </tr>\n",
              "    <tr>\n",
              "      <th>2</th>\n",
              "      <td>0</td>\n",
              "    </tr>\n",
              "    <tr>\n",
              "      <th>3</th>\n",
              "      <td>1</td>\n",
              "    </tr>\n",
              "    <tr>\n",
              "      <th>4</th>\n",
              "      <td>0</td>\n",
              "    </tr>\n",
              "  </tbody>\n",
              "</table>\n",
              "</div>"
            ],
            "text/plain": [
              "   0\n",
              "0  1\n",
              "1  1\n",
              "2  0\n",
              "3  1\n",
              "4  0"
            ]
          },
          "metadata": {
            "tags": []
          },
          "execution_count": 20
        }
      ]
    },
    {
      "cell_type": "code",
      "metadata": {
        "id": "kUjbTSEcI0KA"
      },
      "source": [
        "log_clf=LogisticRegression()\n",
        "forest_clf=RandomForestClassifier()\n",
        "svm_clf=SVC(probability=True)"
      ],
      "execution_count": null,
      "outputs": []
    },
    {
      "cell_type": "code",
      "metadata": {
        "id": "4ZKdffUFJyqQ"
      },
      "source": [
        "voting_hard_clf=VotingClassifier([('lr',log_clf),('rf',forest_clf),('svm',svm_clf)],voting='hard')"
      ],
      "execution_count": null,
      "outputs": []
    },
    {
      "cell_type": "code",
      "metadata": {
        "colab": {
          "base_uri": "https://localhost:8080/"
        },
        "id": "o9H_Qq1-KfEr",
        "outputId": "e055e864-503e-475f-f169-b4915478f20d"
      },
      "source": [
        "for clf in (log_clf,forest_clf,svm_clf,voting_hard_clf):\n",
        "  clf.fit(X_train,y_train)\n",
        "  y_pred=clf.predict(X_test)\n",
        "  print(clf.__class__.__name__,accuracy_score(y_test,y_pred))"
      ],
      "execution_count": null,
      "outputs": [
        {
          "output_type": "stream",
          "text": [
            "/usr/local/lib/python3.7/dist-packages/sklearn/utils/validation.py:760: DataConversionWarning: A column-vector y was passed when a 1d array was expected. Please change the shape of y to (n_samples, ), for example using ravel().\n",
            "  y = column_or_1d(y, warn=True)\n",
            "/usr/local/lib/python3.7/dist-packages/ipykernel_launcher.py:2: DataConversionWarning: A column-vector y was passed when a 1d array was expected. Please change the shape of y to (n_samples,), for example using ravel().\n",
            "  \n",
            "/usr/local/lib/python3.7/dist-packages/sklearn/utils/validation.py:760: DataConversionWarning: A column-vector y was passed when a 1d array was expected. Please change the shape of y to (n_samples, ), for example using ravel().\n",
            "  y = column_or_1d(y, warn=True)\n",
            "/usr/local/lib/python3.7/dist-packages/sklearn/preprocessing/_label.py:235: DataConversionWarning: A column-vector y was passed when a 1d array was expected. Please change the shape of y to (n_samples, ), for example using ravel().\n",
            "  y = column_or_1d(y, warn=True)\n",
            "/usr/local/lib/python3.7/dist-packages/sklearn/preprocessing/_label.py:268: DataConversionWarning: A column-vector y was passed when a 1d array was expected. Please change the shape of y to (n_samples, ), for example using ravel().\n",
            "  y = column_or_1d(y, warn=True)\n"
          ],
          "name": "stderr"
        },
        {
          "output_type": "stream",
          "text": [
            "LogisticRegression 0.9\n",
            "RandomForestClassifier 1.0\n",
            "SVC 0.95\n",
            "VotingClassifier 0.95\n"
          ],
          "name": "stdout"
        }
      ]
    },
    {
      "cell_type": "markdown",
      "metadata": {
        "id": "_v4kWYHdPPO4"
      },
      "source": [
        "## **2.** **Soft** **Voting** **Classifier**"
      ]
    },
    {
      "cell_type": "code",
      "metadata": {
        "id": "PU5f_YkHPd3Y"
      },
      "source": [
        "voting_soft_clf=VotingClassifier([('lr',log_clf),('rf',forest_clf),('svm',svm_clf)],voting='soft')"
      ],
      "execution_count": null,
      "outputs": []
    },
    {
      "cell_type": "code",
      "metadata": {
        "colab": {
          "base_uri": "https://localhost:8080/"
        },
        "id": "VqkwzFbBPusJ",
        "outputId": "bf1f704b-baac-40c6-9778-18f438de9a78"
      },
      "source": [
        "for clf in (log_clf,forest_clf,svm_clf,voting_soft_clf):\n",
        "  clf.fit(X_train,y_train)\n",
        "  y_pred=clf.predict(X_test)\n",
        "  print(clf.__class__.__name__,accuracy_score(y_test,y_pred))"
      ],
      "execution_count": null,
      "outputs": [
        {
          "output_type": "stream",
          "text": [
            "/usr/local/lib/python3.7/dist-packages/sklearn/utils/validation.py:760: DataConversionWarning: A column-vector y was passed when a 1d array was expected. Please change the shape of y to (n_samples, ), for example using ravel().\n",
            "  y = column_or_1d(y, warn=True)\n",
            "/usr/local/lib/python3.7/dist-packages/ipykernel_launcher.py:2: DataConversionWarning: A column-vector y was passed when a 1d array was expected. Please change the shape of y to (n_samples,), for example using ravel().\n",
            "  \n",
            "/usr/local/lib/python3.7/dist-packages/sklearn/utils/validation.py:760: DataConversionWarning: A column-vector y was passed when a 1d array was expected. Please change the shape of y to (n_samples, ), for example using ravel().\n",
            "  y = column_or_1d(y, warn=True)\n",
            "/usr/local/lib/python3.7/dist-packages/sklearn/preprocessing/_label.py:235: DataConversionWarning: A column-vector y was passed when a 1d array was expected. Please change the shape of y to (n_samples, ), for example using ravel().\n",
            "  y = column_or_1d(y, warn=True)\n",
            "/usr/local/lib/python3.7/dist-packages/sklearn/preprocessing/_label.py:268: DataConversionWarning: A column-vector y was passed when a 1d array was expected. Please change the shape of y to (n_samples, ), for example using ravel().\n",
            "  y = column_or_1d(y, warn=True)\n"
          ],
          "name": "stderr"
        },
        {
          "output_type": "stream",
          "text": [
            "LogisticRegression 0.9\n",
            "RandomForestClassifier 1.0\n",
            "SVC 0.95\n",
            "VotingClassifier 0.95\n"
          ],
          "name": "stdout"
        }
      ]
    },
    {
      "cell_type": "markdown",
      "metadata": {
        "id": "PePYNsHXQJfD"
      },
      "source": [
        "# **BAGGING** **AND** **PASTING**"
      ]
    },
    {
      "cell_type": "code",
      "metadata": {
        "id": "xrqcgSZuP_53"
      },
      "source": [
        "#training with bagging\n",
        "bagging_clf=BaggingClassifier(DecisionTreeClassifier(),n_estimators=500,max_samples=50,bootstrap=True,n_jobs=-1)\n"
      ],
      "execution_count": null,
      "outputs": []
    },
    {
      "cell_type": "code",
      "metadata": {
        "id": "3ZsErFJ4mtie"
      },
      "source": [
        "#training with single decision tree classifier\n",
        "tree_clf=DecisionTreeClassifier()"
      ],
      "execution_count": null,
      "outputs": []
    },
    {
      "cell_type": "code",
      "metadata": {
        "colab": {
          "base_uri": "https://localhost:8080/"
        },
        "id": "mOETFZOYo-W-",
        "outputId": "bcf7b328-ec94-4e4f-d8c2-587cb94722d3"
      },
      "source": [
        "#compare accuracy scores in both\n",
        "for clf in (tree_clf,bagging_clf):\n",
        "  clf.fit(X_train,y_train)\n",
        "  y_pred=clf.predict(X_test)\n",
        "  print(clf.__class__.__name__,accuracy_score(y_test,y_pred))"
      ],
      "execution_count": null,
      "outputs": [
        {
          "output_type": "stream",
          "text": [
            "DecisionTreeClassifier 0.95\n"
          ],
          "name": "stdout"
        },
        {
          "output_type": "stream",
          "text": [
            "/usr/local/lib/python3.7/dist-packages/sklearn/ensemble/_bagging.py:645: DataConversionWarning: A column-vector y was passed when a 1d array was expected. Please change the shape of y to (n_samples, ), for example using ravel().\n",
            "  y = column_or_1d(y, warn=True)\n"
          ],
          "name": "stderr"
        },
        {
          "output_type": "stream",
          "text": [
            "BaggingClassifier 1.0\n"
          ],
          "name": "stdout"
        }
      ]
    },
    {
      "cell_type": "code",
      "metadata": {
        "id": "b7ZaZUXup_cx"
      },
      "source": [
        "#for training with pasting use bootstrap=False"
      ],
      "execution_count": null,
      "outputs": []
    },
    {
      "cell_type": "markdown",
      "metadata": {
        "id": "7WPgofq-qX_F"
      },
      "source": [
        "### **Out** **of** **Bag** **Evaluation**"
      ]
    },
    {
      "cell_type": "code",
      "metadata": {
        "id": "UMKPAXdWqMAf",
        "colab": {
          "base_uri": "https://localhost:8080/"
        },
        "outputId": "9f890958-29c6-42d7-b73c-2be61d55dfd3"
      },
      "source": [
        "oob_eval_clf=BaggingClassifier(DecisionTreeClassifier(),n_estimators=500,max_samples=50,bootstrap=True,oob_score=True,n_jobs=-1)\n",
        "oob_eval_clf.fit(X_train,y_train)"
      ],
      "execution_count": 37,
      "outputs": [
        {
          "output_type": "stream",
          "text": [
            "/usr/local/lib/python3.7/dist-packages/sklearn/ensemble/_bagging.py:645: DataConversionWarning: A column-vector y was passed when a 1d array was expected. Please change the shape of y to (n_samples, ), for example using ravel().\n",
            "  y = column_or_1d(y, warn=True)\n"
          ],
          "name": "stderr"
        },
        {
          "output_type": "execute_result",
          "data": {
            "text/plain": [
              "BaggingClassifier(base_estimator=DecisionTreeClassifier(ccp_alpha=0.0,\n",
              "                                                        class_weight=None,\n",
              "                                                        criterion='gini',\n",
              "                                                        max_depth=None,\n",
              "                                                        max_features=None,\n",
              "                                                        max_leaf_nodes=None,\n",
              "                                                        min_impurity_decrease=0.0,\n",
              "                                                        min_impurity_split=None,\n",
              "                                                        min_samples_leaf=1,\n",
              "                                                        min_samples_split=2,\n",
              "                                                        min_weight_fraction_leaf=0.0,\n",
              "                                                        presort='deprecated',\n",
              "                                                        random_state=None,\n",
              "                                                        splitter='best'),\n",
              "                  bootstrap=True, bootstrap_features=False, max_features=1.0,\n",
              "                  max_samples=50, n_estimators=500, n_jobs=-1, oob_score=True,\n",
              "                  random_state=None, verbose=0, warm_start=False)"
            ]
          },
          "metadata": {
            "tags": []
          },
          "execution_count": 37
        }
      ]
    },
    {
      "cell_type": "code",
      "metadata": {
        "colab": {
          "base_uri": "https://localhost:8080/"
        },
        "id": "jPP-HMzt2uYS",
        "outputId": "2e9a46af-d07b-45e6-ed44-3d0b02c52c14"
      },
      "source": [
        "oob_eval_clf.oob_score_"
      ],
      "execution_count": 38,
      "outputs": [
        {
          "output_type": "execute_result",
          "data": {
            "text/plain": [
              "0.925"
            ]
          },
          "metadata": {
            "tags": []
          },
          "execution_count": 38
        }
      ]
    },
    {
      "cell_type": "code",
      "metadata": {
        "colab": {
          "base_uri": "https://localhost:8080/"
        },
        "id": "BaepqGqV3Fqm",
        "outputId": "8cca781d-ebb3-4235-c4b8-90416fe85917"
      },
      "source": [
        "#compare oob score with accuracy score\n",
        "y_pred=oob_eval_clf.predict(X_test)\n",
        "\n",
        "print(accuracy_score(y_test,y_pred))"
      ],
      "execution_count": 39,
      "outputs": [
        {
          "output_type": "stream",
          "text": [
            "0.95\n"
          ],
          "name": "stdout"
        }
      ]
    },
    {
      "cell_type": "code",
      "metadata": {
        "colab": {
          "base_uri": "https://localhost:8080/"
        },
        "id": "N9wDE12F3hEn",
        "outputId": "67432123-817c-4372-b1df-fad3cc271588"
      },
      "source": [
        "#decision function\n",
        "\n",
        "oob_eval_clf.oob_decision_function_"
      ],
      "execution_count": 40,
      "outputs": [
        {
          "output_type": "execute_result",
          "data": {
            "text/plain": [
              "array([[0.68560606, 0.31439394],\n",
              "       [0.09558824, 0.90441176],\n",
              "       [0.06007067, 0.93992933],\n",
              "       [1.        , 0.        ],\n",
              "       [0.51526718, 0.48473282],\n",
              "       [0.06690141, 0.93309859],\n",
              "       [0.82706767, 0.17293233],\n",
              "       [0.97435897, 0.02564103],\n",
              "       [0.97358491, 0.02641509],\n",
              "       [0.        , 1.        ],\n",
              "       [0.76806084, 0.23193916],\n",
              "       [0.07749077, 0.92250923],\n",
              "       [0.01481481, 0.98518519],\n",
              "       [0.38113208, 0.61886792],\n",
              "       [0.1884058 , 0.8115942 ],\n",
              "       [0.01858736, 0.98141264],\n",
              "       [0.01754386, 0.98245614],\n",
              "       [0.0648855 , 0.9351145 ],\n",
              "       [0.96923077, 0.03076923],\n",
              "       [0.        , 1.        ],\n",
              "       [0.        , 1.        ],\n",
              "       [0.01470588, 0.98529412],\n",
              "       [0.        , 1.        ],\n",
              "       [0.12546125, 0.87453875],\n",
              "       [0.25274725, 0.74725275],\n",
              "       [0.81851852, 0.18148148],\n",
              "       [0.        , 1.        ],\n",
              "       [0.34586466, 0.65413534],\n",
              "       [1.        , 0.        ],\n",
              "       [1.        , 0.        ],\n",
              "       [0.91050584, 0.08949416],\n",
              "       [0.        , 1.        ],\n",
              "       [0.98046875, 0.01953125],\n",
              "       [0.06882591, 0.93117409],\n",
              "       [0.14448669, 0.85551331],\n",
              "       [0.9390681 , 0.0609319 ],\n",
              "       [0.98207885, 0.01792115],\n",
              "       [0.93307087, 0.06692913],\n",
              "       [0.89915966, 0.10084034],\n",
              "       [0.45121951, 0.54878049],\n",
              "       [0.93962264, 0.06037736],\n",
              "       [0.15057915, 0.84942085],\n",
              "       [0.        , 1.        ],\n",
              "       [0.87328767, 0.12671233],\n",
              "       [0.02777778, 0.97222222],\n",
              "       [0.09195402, 0.90804598],\n",
              "       [1.        , 0.        ],\n",
              "       [0.25641026, 0.74358974],\n",
              "       [0.06785714, 0.93214286],\n",
              "       [0.30916031, 0.69083969],\n",
              "       [0.91578947, 0.08421053],\n",
              "       [0.00790514, 0.99209486],\n",
              "       [0.88353414, 0.11646586],\n",
              "       [0.29007634, 0.70992366],\n",
              "       [0.77647059, 0.22352941],\n",
              "       [0.58974359, 0.41025641],\n",
              "       [0.13108614, 0.86891386],\n",
              "       [0.03422053, 0.96577947],\n",
              "       [0.88686131, 0.11313869],\n",
              "       [0.05243446, 0.94756554],\n",
              "       [0.99236641, 0.00763359],\n",
              "       [0.05343511, 0.94656489],\n",
              "       [0.13157895, 0.86842105],\n",
              "       [0.05179283, 0.94820717],\n",
              "       [0.57142857, 0.42857143],\n",
              "       [1.        , 0.        ],\n",
              "       [0.74817518, 0.25182482],\n",
              "       [1.        , 0.        ],\n",
              "       [0.98606272, 0.01393728],\n",
              "       [0.77573529, 0.22426471],\n",
              "       [0.95348837, 0.04651163],\n",
              "       [0.9609375 , 0.0390625 ],\n",
              "       [0.77153558, 0.22846442],\n",
              "       [0.93869732, 0.06130268],\n",
              "       [0.98091603, 0.01908397],\n",
              "       [0.0620438 , 0.9379562 ],\n",
              "       [1.        , 0.        ],\n",
              "       [0.20676692, 0.79323308],\n",
              "       [0.51119403, 0.48880597],\n",
              "       [0.02681992, 0.97318008]])"
            ]
          },
          "metadata": {
            "tags": []
          },
          "execution_count": 40
        }
      ]
    },
    {
      "cell_type": "markdown",
      "metadata": {
        "id": "tPTv3QhL31mC"
      },
      "source": [
        "# **RANDOM** **PATCHES** **AND** **RANDOM** **SUBSPACES**"
      ]
    },
    {
      "cell_type": "code",
      "metadata": {
        "id": "fA__ob_J3sOv"
      },
      "source": [
        "#random patches means sampling both instances and features\n",
        "#random subspaces means sampling features"
      ],
      "execution_count": 41,
      "outputs": []
    },
    {
      "cell_type": "markdown",
      "metadata": {
        "id": "BElLzWpa4Pw4"
      },
      "source": [
        "### **Random** **Subspaces**"
      ]
    },
    {
      "cell_type": "code",
      "metadata": {
        "colab": {
          "base_uri": "https://localhost:8080/"
        },
        "id": "ecFf9t4G4Onm",
        "outputId": "378625ce-9561-492c-9d94-47ccb5ebe2ac"
      },
      "source": [
        "rnd_subspaces_clf=BaggingClassifier(DecisionTreeClassifier(),n_estimators=500,max_samples=1,bootstrap=False,bootstrap_features=True,max_features=0.5,n_jobs=-1)\n",
        "rnd_subspaces_clf.fit(X_train,y_train)"
      ],
      "execution_count": 51,
      "outputs": [
        {
          "output_type": "stream",
          "text": [
            "/usr/local/lib/python3.7/dist-packages/sklearn/ensemble/_bagging.py:645: DataConversionWarning: A column-vector y was passed when a 1d array was expected. Please change the shape of y to (n_samples, ), for example using ravel().\n",
            "  y = column_or_1d(y, warn=True)\n"
          ],
          "name": "stderr"
        },
        {
          "output_type": "execute_result",
          "data": {
            "text/plain": [
              "BaggingClassifier(base_estimator=DecisionTreeClassifier(ccp_alpha=0.0,\n",
              "                                                        class_weight=None,\n",
              "                                                        criterion='gini',\n",
              "                                                        max_depth=None,\n",
              "                                                        max_features=None,\n",
              "                                                        max_leaf_nodes=None,\n",
              "                                                        min_impurity_decrease=0.0,\n",
              "                                                        min_impurity_split=None,\n",
              "                                                        min_samples_leaf=1,\n",
              "                                                        min_samples_split=2,\n",
              "                                                        min_weight_fraction_leaf=0.0,\n",
              "                                                        presort='deprecated',\n",
              "                                                        random_state=None,\n",
              "                                                        splitter='best'),\n",
              "                  bootstrap=False, bootstrap_features=True, max_features=0.5,\n",
              "                  max_samples=1, n_estimators=500, n_jobs=-1, oob_score=False,\n",
              "                  random_state=None, verbose=0, warm_start=False)"
            ]
          },
          "metadata": {
            "tags": []
          },
          "execution_count": 51
        }
      ]
    },
    {
      "cell_type": "code",
      "metadata": {
        "colab": {
          "base_uri": "https://localhost:8080/"
        },
        "id": "BwhWF-Es5MgL",
        "outputId": "d034f22c-560e-412b-8ff8-32b387cf47dd"
      },
      "source": [
        "y_pred=rnd_subspaces_clf.predict(X_test)\n",
        "\n",
        "print(accuracy_score(y_test,y_pred))"
      ],
      "execution_count": 52,
      "outputs": [
        {
          "output_type": "stream",
          "text": [
            "0.55\n"
          ],
          "name": "stdout"
        }
      ]
    },
    {
      "cell_type": "markdown",
      "metadata": {
        "id": "wOaTAagx57Fo"
      },
      "source": [
        "# **RANDOM** **FOREST**"
      ]
    },
    {
      "cell_type": "code",
      "metadata": {
        "colab": {
          "base_uri": "https://localhost:8080/"
        },
        "id": "VrufOe5N5gfZ",
        "outputId": "a689c2da-a2cd-4959-dbf5-0160a4b90923"
      },
      "source": [
        "forest_clf=RandomForestClassifier(n_estimators=500,max_leaf_nodes=16,n_jobs=-1)\n",
        "forest_clf.fit(X_train,y_train)"
      ],
      "execution_count": 53,
      "outputs": [
        {
          "output_type": "stream",
          "text": [
            "/usr/local/lib/python3.7/dist-packages/ipykernel_launcher.py:2: DataConversionWarning: A column-vector y was passed when a 1d array was expected. Please change the shape of y to (n_samples,), for example using ravel().\n",
            "  \n"
          ],
          "name": "stderr"
        },
        {
          "output_type": "execute_result",
          "data": {
            "text/plain": [
              "RandomForestClassifier(bootstrap=True, ccp_alpha=0.0, class_weight=None,\n",
              "                       criterion='gini', max_depth=None, max_features='auto',\n",
              "                       max_leaf_nodes=16, max_samples=None,\n",
              "                       min_impurity_decrease=0.0, min_impurity_split=None,\n",
              "                       min_samples_leaf=1, min_samples_split=2,\n",
              "                       min_weight_fraction_leaf=0.0, n_estimators=500,\n",
              "                       n_jobs=-1, oob_score=False, random_state=None, verbose=0,\n",
              "                       warm_start=False)"
            ]
          },
          "metadata": {
            "tags": []
          },
          "execution_count": 53
        }
      ]
    },
    {
      "cell_type": "code",
      "metadata": {
        "colab": {
          "base_uri": "https://localhost:8080/"
        },
        "id": "BmpekHeDKu-n",
        "outputId": "3fa82921-5a6c-409a-89dd-0dd7295927f2"
      },
      "source": [
        "y_pred=forest_clf.predict(X_test)\n",
        "print(accuracy_score(y_test,y_pred))"
      ],
      "execution_count": 54,
      "outputs": [
        {
          "output_type": "stream",
          "text": [
            "1.0\n"
          ],
          "name": "stdout"
        }
      ]
    },
    {
      "cell_type": "markdown",
      "metadata": {
        "id": "AY_qagtZLNP5"
      },
      "source": [
        "### **1.** **Extra** **Trees** **Classifiers**"
      ]
    },
    {
      "cell_type": "code",
      "metadata": {
        "colab": {
          "base_uri": "https://localhost:8080/"
        },
        "id": "2VQuPySDK8nA",
        "outputId": "99e0c933-bd97-4674-eda7-80fc1c5d0b33"
      },
      "source": [
        "extra_tree_clf=ExtraTreesClassifier(n_estimators=500,max_leaf_nodes=16,n_jobs=-1)\n",
        "extra_tree_clf.fit(X_train,y_train)"
      ],
      "execution_count": 56,
      "outputs": [
        {
          "output_type": "stream",
          "text": [
            "/usr/local/lib/python3.7/dist-packages/ipykernel_launcher.py:2: DataConversionWarning: A column-vector y was passed when a 1d array was expected. Please change the shape of y to (n_samples,), for example using ravel().\n",
            "  \n"
          ],
          "name": "stderr"
        },
        {
          "output_type": "execute_result",
          "data": {
            "text/plain": [
              "ExtraTreesClassifier(bootstrap=False, ccp_alpha=0.0, class_weight=None,\n",
              "                     criterion='gini', max_depth=None, max_features='auto',\n",
              "                     max_leaf_nodes=16, max_samples=None,\n",
              "                     min_impurity_decrease=0.0, min_impurity_split=None,\n",
              "                     min_samples_leaf=1, min_samples_split=2,\n",
              "                     min_weight_fraction_leaf=0.0, n_estimators=500, n_jobs=-1,\n",
              "                     oob_score=False, random_state=None, verbose=0,\n",
              "                     warm_start=False)"
            ]
          },
          "metadata": {
            "tags": []
          },
          "execution_count": 56
        }
      ]
    },
    {
      "cell_type": "code",
      "metadata": {
        "colab": {
          "base_uri": "https://localhost:8080/"
        },
        "id": "WYxcdr2pLsIa",
        "outputId": "27a4476e-e8fd-47fa-e458-2d6e5425c774"
      },
      "source": [
        "y_pred=extra_tree_clf.predict(X_test)\n",
        "print(accuracy_score(y_test,y_pred))"
      ],
      "execution_count": 57,
      "outputs": [
        {
          "output_type": "stream",
          "text": [
            "1.0\n"
          ],
          "name": "stdout"
        }
      ]
    },
    {
      "cell_type": "markdown",
      "metadata": {
        "id": "5q0htl9pL08d"
      },
      "source": [
        "### **2.** **Feature** **Importance**"
      ]
    },
    {
      "cell_type": "code",
      "metadata": {
        "colab": {
          "base_uri": "https://localhost:8080/"
        },
        "id": "SZx7MvT5Ly_K",
        "outputId": "2d8c6ecf-21eb-4bb8-f984-7599ddf08d13"
      },
      "source": [
        "irisd=datasets.load_iris()\n",
        "print(irisd.keys())"
      ],
      "execution_count": 58,
      "outputs": [
        {
          "output_type": "stream",
          "text": [
            "dict_keys(['data', 'target', 'target_names', 'DESCR', 'feature_names', 'filename'])\n"
          ],
          "name": "stdout"
        }
      ]
    },
    {
      "cell_type": "code",
      "metadata": {
        "colab": {
          "base_uri": "https://localhost:8080/",
          "height": 204
        },
        "id": "musxYXZ1NvDp",
        "outputId": "56900993-d243-42f2-e6ce-ba39bacc02b7"
      },
      "source": [
        "X=pd.DataFrame(irisd['data'])\n",
        "y=pd.DataFrame(irisd['target'])\n",
        "\n",
        "X.head()"
      ],
      "execution_count": 59,
      "outputs": [
        {
          "output_type": "execute_result",
          "data": {
            "text/html": [
              "<div>\n",
              "<style scoped>\n",
              "    .dataframe tbody tr th:only-of-type {\n",
              "        vertical-align: middle;\n",
              "    }\n",
              "\n",
              "    .dataframe tbody tr th {\n",
              "        vertical-align: top;\n",
              "    }\n",
              "\n",
              "    .dataframe thead th {\n",
              "        text-align: right;\n",
              "    }\n",
              "</style>\n",
              "<table border=\"1\" class=\"dataframe\">\n",
              "  <thead>\n",
              "    <tr style=\"text-align: right;\">\n",
              "      <th></th>\n",
              "      <th>0</th>\n",
              "      <th>1</th>\n",
              "      <th>2</th>\n",
              "      <th>3</th>\n",
              "    </tr>\n",
              "  </thead>\n",
              "  <tbody>\n",
              "    <tr>\n",
              "      <th>0</th>\n",
              "      <td>5.1</td>\n",
              "      <td>3.5</td>\n",
              "      <td>1.4</td>\n",
              "      <td>0.2</td>\n",
              "    </tr>\n",
              "    <tr>\n",
              "      <th>1</th>\n",
              "      <td>4.9</td>\n",
              "      <td>3.0</td>\n",
              "      <td>1.4</td>\n",
              "      <td>0.2</td>\n",
              "    </tr>\n",
              "    <tr>\n",
              "      <th>2</th>\n",
              "      <td>4.7</td>\n",
              "      <td>3.2</td>\n",
              "      <td>1.3</td>\n",
              "      <td>0.2</td>\n",
              "    </tr>\n",
              "    <tr>\n",
              "      <th>3</th>\n",
              "      <td>4.6</td>\n",
              "      <td>3.1</td>\n",
              "      <td>1.5</td>\n",
              "      <td>0.2</td>\n",
              "    </tr>\n",
              "    <tr>\n",
              "      <th>4</th>\n",
              "      <td>5.0</td>\n",
              "      <td>3.6</td>\n",
              "      <td>1.4</td>\n",
              "      <td>0.2</td>\n",
              "    </tr>\n",
              "  </tbody>\n",
              "</table>\n",
              "</div>"
            ],
            "text/plain": [
              "     0    1    2    3\n",
              "0  5.1  3.5  1.4  0.2\n",
              "1  4.9  3.0  1.4  0.2\n",
              "2  4.7  3.2  1.3  0.2\n",
              "3  4.6  3.1  1.5  0.2\n",
              "4  5.0  3.6  1.4  0.2"
            ]
          },
          "metadata": {
            "tags": []
          },
          "execution_count": 59
        }
      ]
    },
    {
      "cell_type": "code",
      "metadata": {
        "colab": {
          "base_uri": "https://localhost:8080/"
        },
        "id": "ZblaUTAROCHv",
        "outputId": "7a04a00a-9d67-4bf2-d2b8-635899271448"
      },
      "source": [
        "forest_clf=RandomForestClassifier(n_estimators=500,n_jobs=-1)\n",
        "forest_clf.fit(X,y)"
      ],
      "execution_count": 60,
      "outputs": [
        {
          "output_type": "stream",
          "text": [
            "/usr/local/lib/python3.7/dist-packages/ipykernel_launcher.py:2: DataConversionWarning: A column-vector y was passed when a 1d array was expected. Please change the shape of y to (n_samples,), for example using ravel().\n",
            "  \n"
          ],
          "name": "stderr"
        },
        {
          "output_type": "execute_result",
          "data": {
            "text/plain": [
              "RandomForestClassifier(bootstrap=True, ccp_alpha=0.0, class_weight=None,\n",
              "                       criterion='gini', max_depth=None, max_features='auto',\n",
              "                       max_leaf_nodes=None, max_samples=None,\n",
              "                       min_impurity_decrease=0.0, min_impurity_split=None,\n",
              "                       min_samples_leaf=1, min_samples_split=2,\n",
              "                       min_weight_fraction_leaf=0.0, n_estimators=500,\n",
              "                       n_jobs=-1, oob_score=False, random_state=None, verbose=0,\n",
              "                       warm_start=False)"
            ]
          },
          "metadata": {
            "tags": []
          },
          "execution_count": 60
        }
      ]
    },
    {
      "cell_type": "code",
      "metadata": {
        "colab": {
          "base_uri": "https://localhost:8080/"
        },
        "id": "LRZfqVjXOSP_",
        "outputId": "d6095a0e-e272-4c06-a9cd-6dc10d73a6c6"
      },
      "source": [
        "forest_clf.feature_importances_"
      ],
      "execution_count": 61,
      "outputs": [
        {
          "output_type": "execute_result",
          "data": {
            "text/plain": [
              "array([0.10312971, 0.02664204, 0.43344965, 0.43677861])"
            ]
          },
          "metadata": {
            "tags": []
          },
          "execution_count": 61
        }
      ]
    },
    {
      "cell_type": "code",
      "metadata": {
        "colab": {
          "base_uri": "https://localhost:8080/"
        },
        "id": "Q4bw_1g0OYE0",
        "outputId": "d03f133e-1738-444a-83f1-7ab5f413cbad"
      },
      "source": [
        "for name,score in zip(irisd['feature_names'],forest_clf.feature_importances_):\n",
        "  print(name,score)"
      ],
      "execution_count": 62,
      "outputs": [
        {
          "output_type": "stream",
          "text": [
            "sepal length (cm) 0.10312970742659718\n",
            "sepal width (cm) 0.026642035930907634\n",
            "petal length (cm) 0.4334496465680227\n",
            "petal width (cm) 0.43677861007447255\n"
          ],
          "name": "stdout"
        }
      ]
    },
    {
      "cell_type": "code",
      "metadata": {
        "id": "7dh_fW13OxNY"
      },
      "source": [
        ""
      ],
      "execution_count": null,
      "outputs": []
    }
  ]
}