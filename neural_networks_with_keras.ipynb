{
  "nbformat": 4,
  "nbformat_minor": 0,
  "metadata": {
    "colab": {
      "name": "neural_networks_with_keras.ipynb",
      "provenance": [],
      "collapsed_sections": [],
      "authorship_tag": "ABX9TyMesIkWuy/feNcDrtOmoI6u"
    },
    "kernelspec": {
      "name": "python3",
      "display_name": "Python 3"
    },
    "language_info": {
      "name": "python"
    }
  },
  "cells": [
    {
      "cell_type": "code",
      "metadata": {
        "id": "59Vg_zPcoxER"
      },
      "source": [
        "import numpy as np\n",
        "import matplotlib.pyplot as plt\n",
        "import pandas as pd\n",
        "import tensorflow as tf\n",
        "from tensorflow import keras\n"
      ],
      "execution_count": 1,
      "outputs": []
    },
    {
      "cell_type": "code",
      "metadata": {
        "colab": {
          "base_uri": "https://localhost:8080/",
          "height": 35
        },
        "id": "Eun_wlGDGcSP",
        "outputId": "f53d23cb-3439-4c05-d6b4-804bbbef5d91"
      },
      "source": [
        "tf.__version__"
      ],
      "execution_count": 2,
      "outputs": [
        {
          "output_type": "execute_result",
          "data": {
            "application/vnd.google.colaboratory.intrinsic+json": {
              "type": "string"
            },
            "text/plain": [
              "'2.5.0'"
            ]
          },
          "metadata": {
            "tags": []
          },
          "execution_count": 2
        }
      ]
    },
    {
      "cell_type": "code",
      "metadata": {
        "colab": {
          "base_uri": "https://localhost:8080/",
          "height": 35
        },
        "id": "i2hxD8XoGgfL",
        "outputId": "978a15cf-b165-4602-e3f3-d59e23e041b0"
      },
      "source": [
        "keras.__version__"
      ],
      "execution_count": 3,
      "outputs": [
        {
          "output_type": "execute_result",
          "data": {
            "application/vnd.google.colaboratory.intrinsic+json": {
              "type": "string"
            },
            "text/plain": [
              "'2.5.0'"
            ]
          },
          "metadata": {
            "tags": []
          },
          "execution_count": 3
        }
      ]
    },
    {
      "cell_type": "markdown",
      "metadata": {
        "id": "oOPOhF0tGowp"
      },
      "source": [
        "# **Building An Image Classifier Using The Sequential API**"
      ]
    },
    {
      "cell_type": "markdown",
      "metadata": {
        "id": "a6qwhoEWHD0A"
      },
      "source": [
        "### **1.Using Keras To Load The Dataset**"
      ]
    },
    {
      "cell_type": "code",
      "metadata": {
        "colab": {
          "base_uri": "https://localhost:8080/"
        },
        "id": "5Hd4WQgaGlBx",
        "outputId": "f63f88bd-d617-43dc-8393-0c91abc1d658"
      },
      "source": [
        "#load the dataset\n",
        "fashion_mnist=keras.datasets.fashion_mnist\n",
        "(X_train_full, y_train_full), (X_test, y_test) = fashion_mnist.load_data()"
      ],
      "execution_count": 4,
      "outputs": [
        {
          "output_type": "stream",
          "text": [
            "Downloading data from https://storage.googleapis.com/tensorflow/tf-keras-datasets/train-labels-idx1-ubyte.gz\n",
            "32768/29515 [=================================] - 0s 0us/step\n",
            "Downloading data from https://storage.googleapis.com/tensorflow/tf-keras-datasets/train-images-idx3-ubyte.gz\n",
            "26427392/26421880 [==============================] - 0s 0us/step\n",
            "Downloading data from https://storage.googleapis.com/tensorflow/tf-keras-datasets/t10k-labels-idx1-ubyte.gz\n",
            "8192/5148 [===============================================] - 0s 0us/step\n",
            "Downloading data from https://storage.googleapis.com/tensorflow/tf-keras-datasets/t10k-images-idx3-ubyte.gz\n",
            "4423680/4422102 [==============================] - 0s 0us/step\n"
          ],
          "name": "stdout"
        }
      ]
    },
    {
      "cell_type": "code",
      "metadata": {
        "colab": {
          "base_uri": "https://localhost:8080/"
        },
        "id": "klNuKctFHqaZ",
        "outputId": "1bde4210-f9db-4ae0-9775-ed517a732cab"
      },
      "source": [
        "X_train_full.shape"
      ],
      "execution_count": 5,
      "outputs": [
        {
          "output_type": "execute_result",
          "data": {
            "text/plain": [
              "(60000, 28, 28)"
            ]
          },
          "metadata": {
            "tags": []
          },
          "execution_count": 5
        }
      ]
    },
    {
      "cell_type": "code",
      "metadata": {
        "colab": {
          "base_uri": "https://localhost:8080/"
        },
        "id": "O8DjAK1XIWkF",
        "outputId": "2d931281-3ac2-4b17-d792-cd0ff5f43e68"
      },
      "source": [
        "y_train_full.shape"
      ],
      "execution_count": 6,
      "outputs": [
        {
          "output_type": "execute_result",
          "data": {
            "text/plain": [
              "(60000,)"
            ]
          },
          "metadata": {
            "tags": []
          },
          "execution_count": 6
        }
      ]
    },
    {
      "cell_type": "code",
      "metadata": {
        "id": "VLk-i1QFIYlC"
      },
      "source": [
        "#create the validation set\n",
        "X_valid, X_train = X_train_full[:5000]/255,X_train_full[5000:]/255 \n",
        "y_valid, y_train = y_train_full[:5000],y_train_full[5000:]"
      ],
      "execution_count": 7,
      "outputs": []
    },
    {
      "cell_type": "code",
      "metadata": {
        "colab": {
          "base_uri": "https://localhost:8080/"
        },
        "id": "hR20FGzvI-_4",
        "outputId": "6341c4b3-2699-43da-d204-3bec70fa84ab"
      },
      "source": [
        "type(fashion_mnist)"
      ],
      "execution_count": 8,
      "outputs": [
        {
          "output_type": "execute_result",
          "data": {
            "text/plain": [
              "module"
            ]
          },
          "metadata": {
            "tags": []
          },
          "execution_count": 8
        }
      ]
    },
    {
      "cell_type": "code",
      "metadata": {
        "colab": {
          "base_uri": "https://localhost:8080/",
          "height": 248
        },
        "id": "eL8_6Hrwn5V7",
        "outputId": "9f0057eb-63ec-4a5a-cb4b-878bdff40449"
      },
      "source": [
        "plt.imshow(X_train[2])\n",
        "plt.axis('off')\n",
        "plt.show()"
      ],
      "execution_count": 9,
      "outputs": [
        {
          "output_type": "display_data",
          "data": {
            "image/png": "[encoded data removed]",
            "text/plain": [
              "<Figure size 432x288 with 1 Axes>"
            ]
          },
          "metadata": {
            "tags": [],
            "needs_background": "light"
          }
        }
      ]
    },
    {
      "cell_type": "code",
      "metadata": {
        "colab": {
          "base_uri": "https://localhost:8080/"
        },
        "id": "BuXgs1o7LKuC",
        "outputId": "6109aa7b-528b-4e3a-d4fd-1f09b2e66d4f"
      },
      "source": [
        "#create the class_names for 10 fashion mnist dataset\n",
        "class_names = [\"T-shirt/top\", \"Trouser\", \"Pullover\", \"Dress\", \"Coat\",\n",
        "\"Sandal\", \"Shirt\", \"Sneaker\", \"Bag\", \"Ankle boot\"]\n",
        "\n",
        "print(y_train[0])\n",
        "print(class_names[y_train[0]])"
      ],
      "execution_count": 10,
      "outputs": [
        {
          "output_type": "stream",
          "text": [
            "4\n",
            "Coat\n"
          ],
          "name": "stdout"
        }
      ]
    },
    {
      "cell_type": "markdown",
      "metadata": {
        "id": "1105ptBwPPtC"
      },
      "source": [
        "### **2.Creating The Model Using The Sequential API**"
      ]
    },
    {
      "cell_type": "code",
      "metadata": {
        "id": "mcJliG_oLRM3"
      },
      "source": [
        "#create a model\n",
        "model=keras.models.Sequential([\n",
        "          keras.layers.Flatten(input_shape=[28,28]),  #to add the input layer(flatten layer) to convert the matrix into 1d array by X.reshape(-1,1)  (keras.layers.InputLayer(input_shape=[]) could be used)\n",
        "          keras.layers.Dense(300,activation='relu'), #to add first hidden layer with 500 neurons.It manages its own weight matrix and bias vector and computes activation\n",
        "          keras.layers.Dense(100,activation='relu'), #second hidden layer\n",
        "          keras.layers.Dense(10,activation='softmax')#output layer with 10 units (1 for each class ) using softmax activation function\n",
        "])"
      ],
      "execution_count": 11,
      "outputs": []
    },
    {
      "cell_type": "code",
      "metadata": {
        "colab": {
          "base_uri": "https://localhost:8080/",
          "height": 533
        },
        "id": "pcdTrhSY98zy",
        "outputId": "5882484a-9b45-41d8-b535-87d100df9ebb"
      },
      "source": [
        "#plot the image of model\n",
        "keras.utils.plot_model(model,show_shapes=True,show_layer_names=False,expand_nested=True,)"
      ],
      "execution_count": 12,
      "outputs": [
        {
          "output_type": "execute_result",
          "data": {
            "image/png": "[encoded data removed]",
            "text/plain": [
              "<IPython.core.display.Image object>"
            ]
          },
          "metadata": {
            "tags": []
          },
          "execution_count": 12
        }
      ]
    },
    {
      "cell_type": "code",
      "metadata": {
        "colab": {
          "base_uri": "https://localhost:8080/"
        },
        "id": "9xHTqDabC7Ae",
        "outputId": "9e4d5a47-28df-419f-b944-199d0e4915b3"
      },
      "source": [
        "#to print the model's summary \n",
        "model.summary()"
      ],
      "execution_count": 13,
      "outputs": [
        {
          "output_type": "stream",
          "text": [
            "Model: \"sequential\"\n",
            "_________________________________________________________________\n",
            "Layer (type)                 Output Shape              Param #   \n",
            "=================================================================\n",
            "flatten (Flatten)            (None, 784)               0         \n",
            "_________________________________________________________________\n",
            "dense (Dense)                (None, 300)               235500    \n",
            "_________________________________________________________________\n",
            "dense_1 (Dense)              (None, 100)               30100     \n",
            "_________________________________________________________________\n",
            "dense_2 (Dense)              (None, 10)                1010      \n",
            "=================================================================\n",
            "Total params: 266,610\n",
            "Trainable params: 266,610\n",
            "Non-trainable params: 0\n",
            "_________________________________________________________________\n"
          ],
          "name": "stdout"
        }
      ]
    },
    {
      "cell_type": "code",
      "metadata": {
        "colab": {
          "base_uri": "https://localhost:8080/"
        },
        "id": "YL7nMiUFDfsN",
        "outputId": "49f978fa-e8ee-4c25-cd1c-418a5b19a80d"
      },
      "source": [
        "#to get the layers\n",
        "model.layers"
      ],
      "execution_count": 14,
      "outputs": [
        {
          "output_type": "execute_result",
          "data": {
            "text/plain": [
              "[<tensorflow.python.keras.layers.core.Flatten at 0x7f6c09cd92d0>,\n",
              " <tensorflow.python.keras.layers.core.Dense at 0x7f6c0adef6d0>,\n",
              " <tensorflow.python.keras.layers.core.Dense at 0x7f6c1511db50>,\n",
              " <tensorflow.python.keras.layers.core.Dense at 0x7f6c0ae648d0>]"
            ]
          },
          "metadata": {
            "tags": []
          },
          "execution_count": 14
        }
      ]
    },
    {
      "cell_type": "code",
      "metadata": {
        "colab": {
          "base_uri": "https://localhost:8080/",
          "height": 35
        },
        "id": "doAaZ_Ov1MyX",
        "outputId": "ff84d133-7142-4317-d4a8-5547f30d54aa"
      },
      "source": [
        "#to access the layers\n",
        "hidden1=model.layers[1]\n",
        "hidden1.name"
      ],
      "execution_count": 15,
      "outputs": [
        {
          "output_type": "execute_result",
          "data": {
            "application/vnd.google.colaboratory.intrinsic+json": {
              "type": "string"
            },
            "text/plain": [
              "'dense'"
            ]
          },
          "metadata": {
            "tags": []
          },
          "execution_count": 15
        }
      ]
    },
    {
      "cell_type": "code",
      "metadata": {
        "id": "yyIp2I7J1WRs"
      },
      "source": [
        "#to get all the parameters of the layer\n",
        "weights,biases=hidden1.get_weights()"
      ],
      "execution_count": 16,
      "outputs": []
    },
    {
      "cell_type": "code",
      "metadata": {
        "colab": {
          "base_uri": "https://localhost:8080/"
        },
        "id": "EIhUHuwlB6Pa",
        "outputId": "add7f3c3-608b-468e-ba98-c64792effa1f"
      },
      "source": [
        "print(weights.shape)\n",
        "print(biases)\n",
        "print(biases.shape)"
      ],
      "execution_count": 17,
      "outputs": [
        {
          "output_type": "stream",
          "text": [
            "(784, 300)\n",
            "[0. 0. 0. 0. 0. 0. 0. 0. 0. 0. 0. 0. 0. 0. 0. 0. 0. 0. 0. 0. 0. 0. 0. 0.\n",
            " 0. 0. 0. 0. 0. 0. 0. 0. 0. 0. 0. 0. 0. 0. 0. 0. 0. 0. 0. 0. 0. 0. 0. 0.\n",
            " 0. 0. 0. 0. 0. 0. 0. 0. 0. 0. 0. 0. 0. 0. 0. 0. 0. 0. 0. 0. 0. 0. 0. 0.\n",
            " 0. 0. 0. 0. 0. 0. 0. 0. 0. 0. 0. 0. 0. 0. 0. 0. 0. 0. 0. 0. 0. 0. 0. 0.\n",
            " 0. 0. 0. 0. 0. 0. 0. 0. 0. 0. 0. 0. 0. 0. 0. 0. 0. 0. 0. 0. 0. 0. 0. 0.\n",
            " 0. 0. 0. 0. 0. 0. 0. 0. 0. 0. 0. 0. 0. 0. 0. 0. 0. 0. 0. 0. 0. 0. 0. 0.\n",
            " 0. 0. 0. 0. 0. 0. 0. 0. 0. 0. 0. 0. 0. 0. 0. 0. 0. 0. 0. 0. 0. 0. 0. 0.\n",
            " 0. 0. 0. 0. 0. 0. 0. 0. 0. 0. 0. 0. 0. 0. 0. 0. 0. 0. 0. 0. 0. 0. 0. 0.\n",
            " 0. 0. 0. 0. 0. 0. 0. 0. 0. 0. 0. 0. 0. 0. 0. 0. 0. 0. 0. 0. 0. 0. 0. 0.\n",
            " 0. 0. 0. 0. 0. 0. 0. 0. 0. 0. 0. 0. 0. 0. 0. 0. 0. 0. 0. 0. 0. 0. 0. 0.\n",
            " 0. 0. 0. 0. 0. 0. 0. 0. 0. 0. 0. 0. 0. 0. 0. 0. 0. 0. 0. 0. 0. 0. 0. 0.\n",
            " 0. 0. 0. 0. 0. 0. 0. 0. 0. 0. 0. 0. 0. 0. 0. 0. 0. 0. 0. 0. 0. 0. 0. 0.\n",
            " 0. 0. 0. 0. 0. 0. 0. 0. 0. 0. 0. 0.]\n",
            "(300,)\n"
          ],
          "name": "stdout"
        }
      ]
    },
    {
      "cell_type": "markdown",
      "metadata": {
        "id": "wgdvI-L9CR7O"
      },
      "source": [
        "### **3.Compiling The Model**"
      ]
    },
    {
      "cell_type": "code",
      "metadata": {
        "id": "d6X_4EehB7iM"
      },
      "source": [
        "#to specify the cost function, optimizer and metrics\n",
        "model.compile(optimizer='sgd',loss='sparse_categorical_crossentropy',metrics='accuracy')"
      ],
      "execution_count": 18,
      "outputs": []
    },
    {
      "cell_type": "markdown",
      "metadata": {
        "id": "_RioVTv3Mtuw"
      },
      "source": [
        "### **4.Training and Evaluating The Model**"
      ]
    },
    {
      "cell_type": "code",
      "metadata": {
        "id": "ZQw1yhRmMsj9",
        "colab": {
          "base_uri": "https://localhost:8080/"
        },
        "outputId": "275113ae-b16a-48f7-9a57-56648aa3abb5"
      },
      "source": [
        "history=model.fit(X_train,y_train,epochs=30,validation_data=(X_valid,y_valid))"
      ],
      "execution_count": 19,
      "outputs": [
        {
          "output_type": "stream",
          "text": [
            "Epoch 1/30\n",
            "1719/1719 [==============================] - 6s 3ms/step - loss: 0.7043 - accuracy: 0.7689 - val_loss: 0.4933 - val_accuracy: 0.8370\n",
            "Epoch 2/30\n",
            "1719/1719 [==============================] - 5s 3ms/step - loss: 0.4831 - accuracy: 0.8313 - val_loss: 0.4352 - val_accuracy: 0.8544\n",
            "Epoch 3/30\n",
            "1719/1719 [==============================] - 5s 3ms/step - loss: 0.4384 - accuracy: 0.8468 - val_loss: 0.4128 - val_accuracy: 0.8536\n",
            "Epoch 4/30\n",
            "1719/1719 [==============================] - 5s 3ms/step - loss: 0.4102 - accuracy: 0.8553 - val_loss: 0.4193 - val_accuracy: 0.8564\n",
            "Epoch 5/30\n",
            "1719/1719 [==============================] - 5s 3ms/step - loss: 0.3906 - accuracy: 0.8632 - val_loss: 0.3784 - val_accuracy: 0.8692\n",
            "Epoch 6/30\n",
            "1719/1719 [==============================] - 6s 3ms/step - loss: 0.3760 - accuracy: 0.8679 - val_loss: 0.3787 - val_accuracy: 0.8672\n",
            "Epoch 7/30\n",
            "1719/1719 [==============================] - 5s 3ms/step - loss: 0.3624 - accuracy: 0.8723 - val_loss: 0.3699 - val_accuracy: 0.8690\n",
            "Epoch 8/30\n",
            "1719/1719 [==============================] - 5s 3ms/step - loss: 0.3502 - accuracy: 0.8758 - val_loss: 0.3642 - val_accuracy: 0.8672\n",
            "Epoch 9/30\n",
            "1719/1719 [==============================] - 5s 3ms/step - loss: 0.3407 - accuracy: 0.8789 - val_loss: 0.3484 - val_accuracy: 0.8778\n",
            "Epoch 10/30\n",
            "1719/1719 [==============================] - 5s 3ms/step - loss: 0.3304 - accuracy: 0.8824 - val_loss: 0.3403 - val_accuracy: 0.8814\n",
            "Epoch 11/30\n",
            "1719/1719 [==============================] - 6s 3ms/step - loss: 0.3221 - accuracy: 0.8852 - val_loss: 0.3396 - val_accuracy: 0.8780\n",
            "Epoch 12/30\n",
            "1719/1719 [==============================] - 5s 3ms/step - loss: 0.3147 - accuracy: 0.8876 - val_loss: 0.3316 - val_accuracy: 0.8818\n",
            "Epoch 13/30\n",
            "1719/1719 [==============================] - 5s 3ms/step - loss: 0.3072 - accuracy: 0.8896 - val_loss: 0.3209 - val_accuracy: 0.8896\n",
            "Epoch 14/30\n",
            "1719/1719 [==============================] - 5s 3ms/step - loss: 0.3006 - accuracy: 0.8912 - val_loss: 0.3216 - val_accuracy: 0.8886\n",
            "Epoch 15/30\n",
            "1719/1719 [==============================] - 5s 3ms/step - loss: 0.2945 - accuracy: 0.8949 - val_loss: 0.3223 - val_accuracy: 0.8852\n",
            "Epoch 16/30\n",
            "1719/1719 [==============================] - 5s 3ms/step - loss: 0.2884 - accuracy: 0.8959 - val_loss: 0.3291 - val_accuracy: 0.8812\n",
            "Epoch 17/30\n",
            "1719/1719 [==============================] - 5s 3ms/step - loss: 0.2822 - accuracy: 0.8979 - val_loss: 0.3324 - val_accuracy: 0.8848\n",
            "Epoch 18/30\n",
            "1719/1719 [==============================] - 5s 3ms/step - loss: 0.2772 - accuracy: 0.8995 - val_loss: 0.3147 - val_accuracy: 0.8888\n",
            "Epoch 19/30\n",
            "1719/1719 [==============================] - 5s 3ms/step - loss: 0.2718 - accuracy: 0.9027 - val_loss: 0.3145 - val_accuracy: 0.8868\n",
            "Epoch 20/30\n",
            "1719/1719 [==============================] - 5s 3ms/step - loss: 0.2666 - accuracy: 0.9046 - val_loss: 0.3075 - val_accuracy: 0.8932\n",
            "Epoch 21/30\n",
            "1719/1719 [==============================] - 4s 3ms/step - loss: 0.2624 - accuracy: 0.9048 - val_loss: 0.3020 - val_accuracy: 0.8928\n",
            "Epoch 22/30\n",
            "1719/1719 [==============================] - 5s 3ms/step - loss: 0.2571 - accuracy: 0.9075 - val_loss: 0.2995 - val_accuracy: 0.8942\n",
            "Epoch 23/30\n",
            "1719/1719 [==============================] - 5s 3ms/step - loss: 0.2539 - accuracy: 0.9088 - val_loss: 0.3092 - val_accuracy: 0.8914\n",
            "Epoch 24/30\n",
            "1719/1719 [==============================] - 5s 3ms/step - loss: 0.2491 - accuracy: 0.9095 - val_loss: 0.2993 - val_accuracy: 0.8948\n",
            "Epoch 25/30\n",
            "1719/1719 [==============================] - 5s 3ms/step - loss: 0.2449 - accuracy: 0.9123 - val_loss: 0.2985 - val_accuracy: 0.8912\n",
            "Epoch 26/30\n",
            "1719/1719 [==============================] - 5s 3ms/step - loss: 0.2406 - accuracy: 0.9131 - val_loss: 0.3089 - val_accuracy: 0.8912\n",
            "Epoch 27/30\n",
            "1719/1719 [==============================] - 5s 3ms/step - loss: 0.2364 - accuracy: 0.9150 - val_loss: 0.3013 - val_accuracy: 0.8934\n",
            "Epoch 28/30\n",
            "1719/1719 [==============================] - 5s 3ms/step - loss: 0.2329 - accuracy: 0.9165 - val_loss: 0.2971 - val_accuracy: 0.8976\n",
            "Epoch 29/30\n",
            "1719/1719 [==============================] - 5s 3ms/step - loss: 0.2293 - accuracy: 0.9174 - val_loss: 0.2872 - val_accuracy: 0.8946\n",
            "Epoch 30/30\n",
            "1719/1719 [==============================] - 5s 3ms/step - loss: 0.2249 - accuracy: 0.9196 - val_loss: 0.3028 - val_accuracy: 0.8930\n"
          ],
          "name": "stdout"
        }
      ]
    },
    {
      "cell_type": "code",
      "metadata": {
        "colab": {
          "base_uri": "https://localhost:8080/"
        },
        "id": "f7IGDfudp311",
        "outputId": "6322461e-25aa-47f5-d8c1-4e9178dd0838"
      },
      "source": [
        "#to get the parameters from history object returned by fit() method\n",
        "history.params"
      ],
      "execution_count": 20,
      "outputs": [
        {
          "output_type": "execute_result",
          "data": {
            "text/plain": [
              "{'epochs': 30, 'steps': 1719, 'verbose': 1}"
            ]
          },
          "metadata": {
            "tags": []
          },
          "execution_count": 20
        }
      ]
    },
    {
      "cell_type": "code",
      "metadata": {
        "colab": {
          "base_uri": "https://localhost:8080/"
        },
        "id": "rCCYBQf29S4b",
        "outputId": "38ccc10d-c50b-42fa-deb4-66b3a0dc8350"
      },
      "source": [
        "#to get list of epochs\n",
        "history.epoch"
      ],
      "execution_count": 21,
      "outputs": [
        {
          "output_type": "execute_result",
          "data": {
            "text/plain": [
              "[0,\n",
              " 1,\n",
              " 2,\n",
              " 3,\n",
              " 4,\n",
              " 5,\n",
              " 6,\n",
              " 7,\n",
              " 8,\n",
              " 9,\n",
              " 10,\n",
              " 11,\n",
              " 12,\n",
              " 13,\n",
              " 14,\n",
              " 15,\n",
              " 16,\n",
              " 17,\n",
              " 18,\n",
              " 19,\n",
              " 20,\n",
              " 21,\n",
              " 22,\n",
              " 23,\n",
              " 24,\n",
              " 25,\n",
              " 26,\n",
              " 27,\n",
              " 28,\n",
              " 29]"
            ]
          },
          "metadata": {
            "tags": []
          },
          "execution_count": 21
        }
      ]
    },
    {
      "cell_type": "code",
      "metadata": {
        "colab": {
          "base_uri": "https://localhost:8080/"
        },
        "id": "uA3hQKLn-TvH",
        "outputId": "3dad22ec-7b28-41c7-af74-e9d892704276"
      },
      "source": [
        "#to get the dictionary of loss and accuracy of training and validation set\n",
        "history.history "
      ],
      "execution_count": 26,
      "outputs": [
        {
          "output_type": "execute_result",
          "data": {
            "text/plain": [
              "{'accuracy': [0.768890917301178,\n",
              "  0.8313272595405579,\n",
              "  0.846818208694458,\n",
              "  0.8552545309066772,\n",
              "  0.8631636500358582,\n",
              "  0.8678727149963379,\n",
              "  0.8722909092903137,\n",
              "  0.8758363723754883,\n",
              "  0.8788545727729797,\n",
              "  0.8823636174201965,\n",
              "  0.8851818442344666,\n",
              "  0.8875818252563477,\n",
              "  0.8896363377571106,\n",
              "  0.8912000060081482,\n",
              "  0.8948909044265747,\n",
              "  0.8958908915519714,\n",
              "  0.8978909254074097,\n",
              "  0.899472713470459,\n",
              "  0.9027090668678284,\n",
              "  0.9046000242233276,\n",
              "  0.9047999978065491,\n",
              "  0.9075272679328918,\n",
              "  0.9087818264961243,\n",
              "  0.9095273017883301,\n",
              "  0.9123454689979553,\n",
              "  0.9130545258522034,\n",
              "  0.9149818420410156,\n",
              "  0.9165090918540955,\n",
              "  0.9174181818962097,\n",
              "  0.9195818305015564],\n",
              " 'loss': [0.7043027877807617,\n",
              "  0.48306238651275635,\n",
              "  0.4384295344352722,\n",
              "  0.41018036007881165,\n",
              "  0.3906102776527405,\n",
              "  0.37600448727607727,\n",
              "  0.3623511791229248,\n",
              "  0.3502020835876465,\n",
              "  0.3407323956489563,\n",
              "  0.33042290806770325,\n",
              "  0.3220812976360321,\n",
              "  0.3147314488887787,\n",
              "  0.30722033977508545,\n",
              "  0.30062276124954224,\n",
              "  0.2945173382759094,\n",
              "  0.2884029150009155,\n",
              "  0.2822254002094269,\n",
              "  0.2772407531738281,\n",
              "  0.2717876732349396,\n",
              "  0.2666197717189789,\n",
              "  0.26239505410194397,\n",
              "  0.2571064233779907,\n",
              "  0.25386688113212585,\n",
              "  0.24914951622486115,\n",
              "  0.24493902921676636,\n",
              "  0.24056746065616608,\n",
              "  0.23642846941947937,\n",
              "  0.23290058970451355,\n",
              "  0.2292623221874237,\n",
              "  0.22485420107841492],\n",
              " 'val_accuracy': [0.8370000123977661,\n",
              "  0.8543999791145325,\n",
              "  0.853600025177002,\n",
              "  0.8564000129699707,\n",
              "  0.8691999912261963,\n",
              "  0.8672000169754028,\n",
              "  0.8690000176429749,\n",
              "  0.8672000169754028,\n",
              "  0.8777999877929688,\n",
              "  0.8813999891281128,\n",
              "  0.878000020980835,\n",
              "  0.8817999958992004,\n",
              "  0.8895999789237976,\n",
              "  0.8885999917984009,\n",
              "  0.885200023651123,\n",
              "  0.8812000155448914,\n",
              "  0.8848000168800354,\n",
              "  0.8888000249862671,\n",
              "  0.8867999911308289,\n",
              "  0.8931999802589417,\n",
              "  0.892799973487854,\n",
              "  0.8942000269889832,\n",
              "  0.8913999795913696,\n",
              "  0.8948000073432922,\n",
              "  0.8912000060081482,\n",
              "  0.8912000060081482,\n",
              "  0.8934000134468079,\n",
              "  0.897599995136261,\n",
              "  0.894599974155426,\n",
              "  0.8930000066757202],\n",
              " 'val_loss': [0.49328500032424927,\n",
              "  0.43519327044487,\n",
              "  0.41283008456230164,\n",
              "  0.41934847831726074,\n",
              "  0.37839171290397644,\n",
              "  0.37869009375572205,\n",
              "  0.3699389100074768,\n",
              "  0.364170104265213,\n",
              "  0.34836363792419434,\n",
              "  0.3403051197528839,\n",
              "  0.33958345651626587,\n",
              "  0.33164918422698975,\n",
              "  0.3208881914615631,\n",
              "  0.32157039642333984,\n",
              "  0.3222849369049072,\n",
              "  0.329077810049057,\n",
              "  0.33239006996154785,\n",
              "  0.31474271416664124,\n",
              "  0.3145328760147095,\n",
              "  0.30751436948776245,\n",
              "  0.30204614996910095,\n",
              "  0.29945001006126404,\n",
              "  0.3092305362224579,\n",
              "  0.2992804944515228,\n",
              "  0.2984996438026428,\n",
              "  0.3088793158531189,\n",
              "  0.3012544512748718,\n",
              "  0.2971353232860565,\n",
              "  0.2872445285320282,\n",
              "  0.30276715755462646]}"
            ]
          },
          "metadata": {
            "tags": []
          },
          "execution_count": 26
        }
      ]
    },
    {
      "cell_type": "code",
      "metadata": {
        "colab": {
          "base_uri": "https://localhost:8080/",
          "height": 704
        },
        "id": "8-R7ZwJc-dJI",
        "outputId": "d57f33bb-2b91-4520-9841-3b2795593c95"
      },
      "source": [
        "#to plot the learning curves with history.history (mean training and validation loss and accuracy measured at the end of each epoch)\n",
        "pd.DataFrame(history.history).plot(figsize=(15,12))\n",
        "plt.grid(True)\n",
        "plt.gca().set_ylim(0,1)\n",
        "plt.show()"
      ],
      "execution_count": 25,
      "outputs": [
        {
          "output_type": "display_data",
          "data": {
            "image/png": "[encoded data removed]",
            "text/plain": [
              "<Figure size 1080x864 with 1 Axes>"
            ]
          },
          "metadata": {
            "tags": [],
            "needs_background": "light"
          }
        }
      ]
    },
    {
      "cell_type": "code",
      "metadata": {
        "colab": {
          "base_uri": "https://localhost:8080/"
        },
        "id": "LzclExgc_VnU",
        "outputId": "e30a29a9-d856-427e-b299-f0f67ee4dedb"
      },
      "source": [
        "#to evaluate the model on test set to get the generalization error\n",
        "model.evaluate(X_test,y_test)"
      ],
      "execution_count": 28,
      "outputs": [
        {
          "output_type": "stream",
          "text": [
            "313/313 [==============================] - 1s 2ms/step - loss: 75.2126 - accuracy: 0.8322\n"
          ],
          "name": "stdout"
        },
        {
          "output_type": "execute_result",
          "data": {
            "text/plain": [
              "[75.21257019042969, 0.8321999907493591]"
            ]
          },
          "metadata": {
            "tags": []
          },
          "execution_count": 28
        }
      ]
    },
    {
      "cell_type": "markdown",
      "metadata": {
        "id": "OdChsPiuGrRL"
      },
      "source": [
        "### **5.Using The Model To Make The Predictions**"
      ]
    },
    {
      "cell_type": "code",
      "metadata": {
        "colab": {
          "base_uri": "https://localhost:8080/"
        },
        "id": "MQnTCSrNGaN3",
        "outputId": "1f6e9870-5030-4e29-e008-56f4b292b9a6"
      },
      "source": [
        "X_new=X_test[:3] #to make predictions on the first three instances of test set\n",
        "y_proba=model.predict(X_new)  #gives the probability for each class\n",
        "y_proba.round(2)"
      ],
      "execution_count": 29,
      "outputs": [
        {
          "output_type": "execute_result",
          "data": {
            "text/plain": [
              "array([[0., 0., 0., 0., 0., 0., 0., 0., 0., 1.],\n",
              "       [0., 0., 1., 0., 0., 0., 0., 0., 0., 0.],\n",
              "       [0., 1., 0., 0., 0., 0., 0., 0., 0., 0.]], dtype=float32)"
            ]
          },
          "metadata": {
            "tags": []
          },
          "execution_count": 29
        }
      ]
    },
    {
      "cell_type": "code",
      "metadata": {
        "colab": {
          "base_uri": "https://localhost:8080/"
        },
        "id": "jxapnJScH9Az",
        "outputId": "da4f1898-c863-45a4-8604-de57ae8b6d3f"
      },
      "source": [
        "#to get only the classes\n",
        "y_pred=model.predict_classes(X_new)\n",
        "y_pred"
      ],
      "execution_count": 30,
      "outputs": [
        {
          "output_type": "stream",
          "text": [
            "/usr/local/lib/python3.7/dist-packages/tensorflow/python/keras/engine/sequential.py:455: UserWarning: `model.predict_classes()` is deprecated and will be removed after 2021-01-01. Please use instead:* `np.argmax(model.predict(x), axis=-1)`,   if your model does multi-class classification   (e.g. if it uses a `softmax` last-layer activation).* `(model.predict(x) > 0.5).astype(\"int32\")`,   if your model does binary classification   (e.g. if it uses a `sigmoid` last-layer activation).\n",
            "  warnings.warn('`model.predict_classes()` is deprecated and '\n"
          ],
          "name": "stderr"
        },
        {
          "output_type": "execute_result",
          "data": {
            "text/plain": [
              "array([9, 2, 1])"
            ]
          },
          "metadata": {
            "tags": []
          },
          "execution_count": 30
        }
      ]
    },
    {
      "cell_type": "code",
      "metadata": {
        "colab": {
          "base_uri": "https://localhost:8080/"
        },
        "id": "iouJ6PY1IU8i",
        "outputId": "151fa89f-1148-48cc-b047-b78e90b41096"
      },
      "source": [
        "np.array(class_names)[y_pred]"
      ],
      "execution_count": 32,
      "outputs": [
        {
          "output_type": "execute_result",
          "data": {
            "text/plain": [
              "array(['Ankle boot', 'Pullover', 'Trouser'], dtype='<U11')"
            ]
          },
          "metadata": {
            "tags": []
          },
          "execution_count": 32
        }
      ]
    },
    {
      "cell_type": "code",
      "metadata": {
        "colab": {
          "base_uri": "https://localhost:8080/"
        },
        "id": "XkTkNgO0Iej_",
        "outputId": "d27317b3-e989-46e5-fa60-543dea2ff1b0"
      },
      "source": [
        "#check with the real label\n",
        "y_new=y_test[:3]\n",
        "y_new"
      ],
      "execution_count": 33,
      "outputs": [
        {
          "output_type": "execute_result",
          "data": {
            "text/plain": [
              "array([9, 2, 1], dtype=uint8)"
            ]
          },
          "metadata": {
            "tags": []
          },
          "execution_count": 33
        }
      ]
    },
    {
      "cell_type": "code",
      "metadata": {
        "colab": {
          "base_uri": "https://localhost:8080/",
          "height": 305
        },
        "id": "72Bz1erBItw7",
        "outputId": "b575f4a7-81c0-4190-a12c-c05bdb58b83d"
      },
      "source": [
        "fig,(ax1,ax2,ax3)=plt.subplots(1,3,figsize=(12,5))\n",
        "ax1.imshow(X_test[0])\n",
        "ax1.axis('off')\n",
        "ax2.imshow(X_test[1])\n",
        "ax2.axis('off')\n",
        "ax3.imshow(X_test[2])\n",
        "ax3.axis('off')\n",
        "plt.tight_layout()\n",
        "plt.show()"
      ],
      "execution_count": 52,
      "outputs": [
        {
          "output_type": "display_data",
          "data": {
            "image/png": "[encoded data removed]",
            "text/plain": [
              "<Figure size 864x360 with 3 Axes>"
            ]
          },
          "metadata": {
            "tags": [],
            "needs_background": "light"
          }
        }
      ]
    },
    {
      "cell_type": "code",
      "metadata": {
        "id": "x-KWF3QMJuME"
      },
      "source": [
        ""
      ],
      "execution_count": null,
      "outputs": []
    }
  ]
}