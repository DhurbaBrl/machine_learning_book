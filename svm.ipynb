{
  "nbformat": 4,
  "nbformat_minor": 0,
  "metadata": {
    "colab": {
      "name": "svm.ipynb",
      "provenance": [],
      "collapsed_sections": []
    },
    "kernelspec": {
      "name": "python3",
      "display_name": "Python 3"
    },
    "language_info": {
      "name": "python"
    }
  },
  "cells": [
    {
      "cell_type": "code",
      "metadata": {
        "id": "_Sg1h_PUZfrv"
      },
      "source": [
        "import numpy as np\n",
        "import pandas as pd\n",
        "import matplotlib.pyplot as plt\n",
        "from sklearn.svm import LinearSVC,SVC,LinearSVR,SVR\n",
        "from sklearn.preprocessing import StandardScaler,PolynomialFeatures\n",
        "from sklearn import datasets\n",
        "from sklearn.pipeline import Pipeline"
      ],
      "execution_count": 30,
      "outputs": []
    },
    {
      "cell_type": "markdown",
      "metadata": {
        "id": "wHM9IjOoY8B-"
      },
      "source": [
        "# **LINEAR** **SVM**"
      ]
    },
    {
      "cell_type": "markdown",
      "metadata": {
        "id": "OqjLNAXUZM2x"
      },
      "source": [
        "## **Soft** **Margin** **Classification**"
      ]
    },
    {
      "cell_type": "code",
      "metadata": {
        "id": "TjYPNNJZZH-s"
      },
      "source": [
        "#to classify class-2 by petal length and width\n",
        "irisd=datasets.load_iris()\n",
        "iris=pd.DataFrame(irisd['data'])\n",
        "\n",
        "X=iris.loc[:,[2,3]]\n",
        "y=pd.DataFrame((irisd['target']==2).astype(np.int))"
      ],
      "execution_count": 2,
      "outputs": []
    },
    {
      "cell_type": "code",
      "metadata": {
        "colab": {
          "base_uri": "https://localhost:8080/"
        },
        "id": "C6I4vFl0c5MZ",
        "outputId": "fa82e240-c224-4739-9c37-5607da49350b"
      },
      "source": [
        "svm_clf=Pipeline([\n",
        "                  ('std_scaler',StandardScaler()),\n",
        "                  ('linear_svc',LinearSVC(C=1,loss='hinge',))\n",
        "])\n",
        "\n",
        "svm_clf.fit(X,y)"
      ],
      "execution_count": 13,
      "outputs": [
        {
          "output_type": "stream",
          "text": [
            "/usr/local/lib/python3.7/dist-packages/sklearn/utils/validation.py:760: DataConversionWarning: A column-vector y was passed when a 1d array was expected. Please change the shape of y to (n_samples, ), for example using ravel().\n",
            "  y = column_or_1d(y, warn=True)\n"
          ],
          "name": "stderr"
        },
        {
          "output_type": "execute_result",
          "data": {
            "text/plain": [
              "Pipeline(memory=None,\n",
              "         steps=[('std_scaler',\n",
              "                 StandardScaler(copy=True, with_mean=True, with_std=True)),\n",
              "                ('linear_svc',\n",
              "                 LinearSVC(C=1, class_weight=None, dual=True,\n",
              "                           fit_intercept=True, intercept_scaling=1,\n",
              "                           loss='hinge', max_iter=1000, multi_class='ovr',\n",
              "                           penalty='l2', random_state=None, tol=0.0001,\n",
              "                           verbose=0))],\n",
              "         verbose=False)"
            ]
          },
          "metadata": {
            "tags": []
          },
          "execution_count": 13
        }
      ]
    },
    {
      "cell_type": "code",
      "metadata": {
        "colab": {
          "base_uri": "https://localhost:8080/"
        },
        "id": "Oox7ivYeehOe",
        "outputId": "286da7de-d8fe-4d7e-f6b0-2b92bd084649"
      },
      "source": [
        "svm_clf.predict([[5.5,1.7]])"
      ],
      "execution_count": 14,
      "outputs": [
        {
          "output_type": "execute_result",
          "data": {
            "text/plain": [
              "array([1])"
            ]
          },
          "metadata": {
            "tags": []
          },
          "execution_count": 14
        }
      ]
    },
    {
      "cell_type": "markdown",
      "metadata": {
        "id": "JficNeKv688z"
      },
      "source": [
        "# **NON** **-** **LINEAR** **SVM**"
      ]
    },
    {
      "cell_type": "code",
      "metadata": {
        "id": "SBKB-HXF9qsb"
      },
      "source": [
        "Xdata,ydata=datasets.make_moons(n_samples=100,noise=0.15)\n",
        "X=pd.DataFrame(Xdata)\n",
        "y=pd.DataFrame(ydata)"
      ],
      "execution_count": 18,
      "outputs": []
    },
    {
      "cell_type": "code",
      "metadata": {
        "id": "0d0ZJigjew65",
        "colab": {
          "base_uri": "https://localhost:8080/"
        },
        "outputId": "fd857d8d-3055-4454-f341-be58c1fc136f"
      },
      "source": [
        "polynomial_svm_clf=Pipeline([\n",
        "                             ('poly_features',PolynomialFeatures(degree=3)),\n",
        "                             ('std_scaler',StandardScaler()),\n",
        "                             ('poly_svm_clf',LinearSVC(C=10,loss='hinge'))\n",
        "])\n",
        "\n",
        "polynomial_svm_clf.fit(X,y)"
      ],
      "execution_count": 19,
      "outputs": [
        {
          "output_type": "stream",
          "text": [
            "/usr/local/lib/python3.7/dist-packages/sklearn/utils/validation.py:760: DataConversionWarning: A column-vector y was passed when a 1d array was expected. Please change the shape of y to (n_samples, ), for example using ravel().\n",
            "  y = column_or_1d(y, warn=True)\n"
          ],
          "name": "stderr"
        },
        {
          "output_type": "execute_result",
          "data": {
            "text/plain": [
              "Pipeline(memory=None,\n",
              "         steps=[('poly_features',\n",
              "                 PolynomialFeatures(degree=3, include_bias=True,\n",
              "                                    interaction_only=False, order='C')),\n",
              "                ('std_scaler',\n",
              "                 StandardScaler(copy=True, with_mean=True, with_std=True)),\n",
              "                ('poly_svm_clf',\n",
              "                 LinearSVC(C=10, class_weight=None, dual=True,\n",
              "                           fit_intercept=True, intercept_scaling=1,\n",
              "                           loss='hinge', max_iter=1000, multi_class='ovr',\n",
              "                           penalty='l2', random_state=None, tol=0.0001,\n",
              "                           verbose=0))],\n",
              "         verbose=False)"
            ]
          },
          "metadata": {
            "tags": []
          },
          "execution_count": 19
        }
      ]
    },
    {
      "cell_type": "code",
      "metadata": {
        "colab": {
          "base_uri": "https://localhost:8080/"
        },
        "id": "FWzDYAHY9-FS",
        "outputId": "0aa8a81a-1a3e-41cd-f70d-75c5261475e4"
      },
      "source": [
        "print(X.head())\n",
        "print(y.head())"
      ],
      "execution_count": 20,
      "outputs": [
        {
          "output_type": "stream",
          "text": [
            "          0         1\n",
            "0  2.003347  0.480698\n",
            "1  0.620850  0.547122\n",
            "2  0.083267 -0.047103\n",
            "3  1.584609 -0.030502\n",
            "4 -0.202626  0.112464\n",
            "   0\n",
            "0  1\n",
            "1  0\n",
            "2  1\n",
            "3  1\n",
            "4  1\n"
          ],
          "name": "stdout"
        }
      ]
    },
    {
      "cell_type": "code",
      "metadata": {
        "colab": {
          "base_uri": "https://localhost:8080/"
        },
        "id": "E9qbsbOpX72B",
        "outputId": "1333fe33-4898-434e-e047-fb142a55ba09"
      },
      "source": [
        "polynomial_svm_clf.predict([[2.003347,0.480698]])"
      ],
      "execution_count": 22,
      "outputs": [
        {
          "output_type": "execute_result",
          "data": {
            "text/plain": [
              "array([1])"
            ]
          },
          "metadata": {
            "tags": []
          },
          "execution_count": 22
        }
      ]
    },
    {
      "cell_type": "markdown",
      "metadata": {
        "id": "KPgQ7KyYKhlt"
      },
      "source": [
        "## **1.** **Polynomial** **Kernel**"
      ]
    },
    {
      "cell_type": "code",
      "metadata": {
        "colab": {
          "base_uri": "https://localhost:8080/"
        },
        "id": "DB-PWhow-Gdz",
        "outputId": "3fd82e41-df16-4eb6-90ed-02080ce0cdbf"
      },
      "source": [
        "poly_kernel_svm_clf=Pipeline([\n",
        "                          ('std_scaler',StandardScaler()),\n",
        "                          ('poly_kernel',SVC(kernel='poly',degree=3,coef0=1,C=5))\n",
        "\n",
        "])\n",
        "\n",
        "poly_kernel_svm_clf.fit(X,y)"
      ],
      "execution_count": 26,
      "outputs": [
        {
          "output_type": "stream",
          "text": [
            "/usr/local/lib/python3.7/dist-packages/sklearn/utils/validation.py:760: DataConversionWarning: A column-vector y was passed when a 1d array was expected. Please change the shape of y to (n_samples, ), for example using ravel().\n",
            "  y = column_or_1d(y, warn=True)\n"
          ],
          "name": "stderr"
        },
        {
          "output_type": "execute_result",
          "data": {
            "text/plain": [
              "Pipeline(memory=None,\n",
              "         steps=[('std_scaler',\n",
              "                 StandardScaler(copy=True, with_mean=True, with_std=True)),\n",
              "                ('poly_kernel',\n",
              "                 SVC(C=5, break_ties=False, cache_size=200, class_weight=None,\n",
              "                     coef0=1, decision_function_shape='ovr', degree=3,\n",
              "                     gamma='scale', kernel='poly', max_iter=-1,\n",
              "                     probability=False, random_state=None, shrinking=True,\n",
              "                     tol=0.001, verbose=False))],\n",
              "         verbose=False)"
            ]
          },
          "metadata": {
            "tags": []
          },
          "execution_count": 26
        }
      ]
    },
    {
      "cell_type": "code",
      "metadata": {
        "colab": {
          "base_uri": "https://localhost:8080/"
        },
        "id": "rBqOaLaTX0l9",
        "outputId": "53fe09c3-e524-480b-91ea-3be27496685b"
      },
      "source": [
        "poly_kernel_svm.predict([[2.003347,0.480698]])"
      ],
      "execution_count": 27,
      "outputs": [
        {
          "output_type": "execute_result",
          "data": {
            "text/plain": [
              "array([1])"
            ]
          },
          "metadata": {
            "tags": []
          },
          "execution_count": 27
        }
      ]
    },
    {
      "cell_type": "markdown",
      "metadata": {
        "id": "45ylDkUDZZ9V"
      },
      "source": [
        "## **2.** **Gaussian** **RBF** **Kernel**"
      ]
    },
    {
      "cell_type": "code",
      "metadata": {
        "colab": {
          "base_uri": "https://localhost:8080/"
        },
        "id": "Fz0EtGKlZp81",
        "outputId": "482b68a8-8a66-4962-a7a6-bc5bbe673cd3"
      },
      "source": [
        "rbf_kernel_svm_clf=Pipeline([\n",
        "                          ('std_scaler',StandardScaler()),\n",
        "                          ('poly_kernel',SVC(kernel='rbf',gamma=5,C=0.001))\n",
        "\n",
        "])\n",
        "\n",
        "rbf_kernel_svm_clf.fit(X,y)"
      ],
      "execution_count": 28,
      "outputs": [
        {
          "output_type": "stream",
          "text": [
            "/usr/local/lib/python3.7/dist-packages/sklearn/utils/validation.py:760: DataConversionWarning: A column-vector y was passed when a 1d array was expected. Please change the shape of y to (n_samples, ), for example using ravel().\n",
            "  y = column_or_1d(y, warn=True)\n"
          ],
          "name": "stderr"
        },
        {
          "output_type": "execute_result",
          "data": {
            "text/plain": [
              "Pipeline(memory=None,\n",
              "         steps=[('std_scaler',\n",
              "                 StandardScaler(copy=True, with_mean=True, with_std=True)),\n",
              "                ('poly_kernel',\n",
              "                 SVC(C=0.001, break_ties=False, cache_size=200,\n",
              "                     class_weight=None, coef0=0.0,\n",
              "                     decision_function_shape='ovr', degree=3, gamma=5,\n",
              "                     kernel='rbf', max_iter=-1, probability=False,\n",
              "                     random_state=None, shrinking=True, tol=0.001,\n",
              "                     verbose=False))],\n",
              "         verbose=False)"
            ]
          },
          "metadata": {
            "tags": []
          },
          "execution_count": 28
        }
      ]
    },
    {
      "cell_type": "code",
      "metadata": {
        "colab": {
          "base_uri": "https://localhost:8080/"
        },
        "id": "nQsDjlIQaTM0",
        "outputId": "8341d71f-c25d-47cf-a79b-7dd2a2f2fe8c"
      },
      "source": [
        "rbf_kernel_svm_clf.predict([[0.620850,0.547122]])"
      ],
      "execution_count": 32,
      "outputs": [
        {
          "output_type": "execute_result",
          "data": {
            "text/plain": [
              "array([0])"
            ]
          },
          "metadata": {
            "tags": []
          },
          "execution_count": 32
        }
      ]
    },
    {
      "cell_type": "markdown",
      "metadata": {
        "id": "6p4GtlZ4al7F"
      },
      "source": [
        "# **SVM** **REGRESSION**"
      ]
    },
    {
      "cell_type": "markdown",
      "metadata": {
        "id": "mCe8EZNTaw1D"
      },
      "source": [
        "## **1.** **Linear** **SVM** **Regression**"
      ]
    },
    {
      "cell_type": "code",
      "metadata": {
        "colab": {
          "base_uri": "https://localhost:8080/"
        },
        "id": "tGFCgO8FafWN",
        "outputId": "43a4c021-c89e-4402-ad6a-c43e40e528b8"
      },
      "source": [
        "svm_reg=LinearSVR(epsilon=1.5)\n",
        "svm_reg.fit(X,y)"
      ],
      "execution_count": 31,
      "outputs": [
        {
          "output_type": "stream",
          "text": [
            "/usr/local/lib/python3.7/dist-packages/sklearn/utils/validation.py:760: DataConversionWarning: A column-vector y was passed when a 1d array was expected. Please change the shape of y to (n_samples, ), for example using ravel().\n",
            "  y = column_or_1d(y, warn=True)\n"
          ],
          "name": "stderr"
        },
        {
          "output_type": "execute_result",
          "data": {
            "text/plain": [
              "LinearSVR(C=1.0, dual=True, epsilon=1.5, fit_intercept=True,\n",
              "          intercept_scaling=1.0, loss='epsilon_insensitive', max_iter=1000,\n",
              "          random_state=None, tol=0.0001, verbose=0)"
            ]
          },
          "metadata": {
            "tags": []
          },
          "execution_count": 31
        }
      ]
    },
    {
      "cell_type": "code",
      "metadata": {
        "colab": {
          "base_uri": "https://localhost:8080/"
        },
        "id": "e1N4B3p_bc25",
        "outputId": "20f266f5-042f-4f0c-e5b7-d5114675d94d"
      },
      "source": [
        "svm_reg.predict([[0.620850,0.547122]])"
      ],
      "execution_count": 36,
      "outputs": [
        {
          "output_type": "execute_result",
          "data": {
            "text/plain": [
              "array([0.])"
            ]
          },
          "metadata": {
            "tags": []
          },
          "execution_count": 36
        }
      ]
    },
    {
      "cell_type": "markdown",
      "metadata": {
        "id": "78T7Q9Gdb3rs"
      },
      "source": [
        "## **1.** **Non-** **Linear** **SVM** **Regression**  **(Kernalized)**"
      ]
    },
    {
      "cell_type": "code",
      "metadata": {
        "colab": {
          "base_uri": "https://localhost:8080/"
        },
        "id": "WwDT96v6bxh1",
        "outputId": "7d008fb5-d111-4fde-996c-2eb36dff6bfe"
      },
      "source": [
        "poly_kernel_svm_reg=Pipeline([\n",
        "                              ('std_scaler',StandardScaler()),\n",
        "                              ('poly_svr',SVR(kernel='poly',degree=2,C=100,epsilon=0.1))\n",
        "])\n",
        "poly_kernel_svm_reg.fit(X,y)"
      ],
      "execution_count": 34,
      "outputs": [
        {
          "output_type": "stream",
          "text": [
            "/usr/local/lib/python3.7/dist-packages/sklearn/utils/validation.py:760: DataConversionWarning: A column-vector y was passed when a 1d array was expected. Please change the shape of y to (n_samples, ), for example using ravel().\n",
            "  y = column_or_1d(y, warn=True)\n"
          ],
          "name": "stderr"
        },
        {
          "output_type": "execute_result",
          "data": {
            "text/plain": [
              "Pipeline(memory=None,\n",
              "         steps=[('std_scaler',\n",
              "                 StandardScaler(copy=True, with_mean=True, with_std=True)),\n",
              "                ('poly_svr',\n",
              "                 SVR(C=100, cache_size=200, coef0=0.0, degree=2, epsilon=0.1,\n",
              "                     gamma='scale', kernel='poly', max_iter=-1, shrinking=True,\n",
              "                     tol=0.001, verbose=False))],\n",
              "         verbose=False)"
            ]
          },
          "metadata": {
            "tags": []
          },
          "execution_count": 34
        }
      ]
    },
    {
      "cell_type": "code",
      "metadata": {
        "colab": {
          "base_uri": "https://localhost:8080/"
        },
        "id": "tQWpQeHodWB7",
        "outputId": "bc446575-bd69-4d75-db75-902dd3d8e0bc"
      },
      "source": [
        "poly_kernel_svm_reg.predict([[0.620850,0.547122]])\n"
      ],
      "execution_count": 37,
      "outputs": [
        {
          "output_type": "execute_result",
          "data": {
            "text/plain": [
              "array([0.90815076])"
            ]
          },
          "metadata": {
            "tags": []
          },
          "execution_count": 37
        }
      ]
    },
    {
      "cell_type": "code",
      "metadata": {
        "id": "UgdIXfqzdenL"
      },
      "source": [
        ""
      ],
      "execution_count": null,
      "outputs": []
    }
  ]
}