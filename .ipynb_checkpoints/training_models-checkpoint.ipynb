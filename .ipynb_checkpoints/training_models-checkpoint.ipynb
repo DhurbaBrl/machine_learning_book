{
 "cells": [
  {
   "cell_type": "code",
   "execution_count": 48,
   "metadata": {
    "id": "mk3-ttmlXP9T"
   },
   "outputs": [],
   "source": [
    "import numpy as np\n",
    "import matplotlib.pyplot as plt\n",
    "import pandas as pd\n",
    "from sklearn.linear_model import LinearRegression,SGDRegressor,Ridge,Lasso,ElasticNet,LogisticRegression\n",
    "from sklearn.preprocessing import PolynomialFeatures,StandardScaler\n",
    "from sklearn.metrics import mean_squared_error\n",
    "from sklearn.model_selection import train_test_split\n",
    "from sklearn.pipeline import Pipeline\n",
    "from sklearn.base import clone\n",
    "from copy import deepcopy\n",
    "from sklearn import datasets"
   ]
  },
  {
   "cell_type": "markdown",
   "metadata": {
    "id": "icrgRA8zVzFZ"
   },
   "source": [
    "# <div align='center'> **LINEAR** **REGRESSION** </div>"
   ]
  },
  {
   "cell_type": "markdown",
   "metadata": {
    "id": "eb3cY5COWKVR"
   },
   "source": [
    "## **1**. **Normal** **Equation**"
   ]
  },
  {
   "cell_type": "code",
   "execution_count": 2,
   "metadata": {
    "id": "4m2JlzAYYD1u"
   },
   "outputs": [],
   "source": [
    "#generate some linear looking data\n",
    "X=2*np.random.rand(100,1)\n",
    "y=4+3*X +np.random.rand(100,1)"
   ]
  },
  {
   "cell_type": "code",
   "execution_count": 3,
   "metadata": {
    "colab": {
     "base_uri": "https://localhost:8080/",
     "height": 267
    },
    "id": "TciEya6eXhCW",
    "outputId": "ed93587e-0846-4155-bf0d-f605f355135c"
   },
   "outputs": [
    {
     "data": {
      "image/png": "[encoded data removed]",
      "text/plain": [
       "<Figure size 432x288 with 1 Axes>"
      ]
     },
     "metadata": {
      "needs_background": "light",
      "tags": []
     },
     "output_type": "display_data"
    }
   ],
   "source": [
    "#plot X and y\n",
    "plt.scatter(X,y)\n",
    "plt.show()"
   ]
  },
  {
   "cell_type": "code",
   "execution_count": 4,
   "metadata": {
    "colab": {
     "base_uri": "https://localhost:8080/"
    },
    "id": "qYk4ec0oY2iH",
    "outputId": "4bb658aa-6eb9-493b-cb13-f4348d920a16"
   },
   "outputs": [
    {
     "name": "stdout",
     "output_type": "stream",
     "text": [
      "[[4.53841573]\n",
      " [2.97412577]]\n"
     ]
    }
   ],
   "source": [
    "#add ones for x0 to X\n",
    "X_b=np.c_[np.ones(list(X.shape)),X]\n",
    "\n",
    "#find value of theta vector\n",
    "best_theta=np.linalg.inv(X_b.T.dot(X_b)).dot(X_b.T).dot(y)\n",
    "print(best_theta)"
   ]
  },
  {
   "cell_type": "code",
   "execution_count": 5,
   "metadata": {
    "colab": {
     "base_uri": "https://localhost:8080/"
    },
    "id": "gDm6_dROcxq7",
    "outputId": "a42999c9-f08f-45a8-e82e-01f64fc18475"
   },
   "outputs": [
    {
     "name": "stdout",
     "output_type": "stream",
     "text": [
      "[[ 4.53841573]\n",
      " [10.48666728]]\n"
     ]
    }
   ],
   "source": [
    "#make new X set to make predictions\n",
    "X_new=np.array([[0],[2]])\n",
    "#add x0\n",
    "X_new_b=np.c_[np.ones(list(X_new.shape)),X_new]\n",
    "#make prediction\n",
    "y_predict=X_new_b.dot(best_theta) #it returns a scalar value for each prediction\n",
    "\n",
    "# y_predict=(best_theta.T)*X_new_b  #it returns the matrix rather than scalar value for each prediction\n",
    "print(y_predict)"
   ]
  },
  {
   "cell_type": "code",
   "execution_count": 6,
   "metadata": {
    "colab": {
     "base_uri": "https://localhost:8080/",
     "height": 267
    },
    "id": "AZ8RqDfng--f",
    "outputId": "0151addd-8c39-4162-dc56-38b51bbbb1d1"
   },
   "outputs": [
    {
     "data": {
      "image/png": "[encoded data removed]",
      "text/plain": [
       "<Figure size 432x288 with 1 Axes>"
      ]
     },
     "metadata": {
      "needs_background": "light",
      "tags": []
     },
     "output_type": "display_data"
    }
   ],
   "source": [
    "#plot the model's prediction\n",
    "plt.plot(X_new,y_predict,'r-')\n",
    "plt.scatter(X,y)\n",
    "plt.show()"
   ]
  },
  {
   "cell_type": "code",
   "execution_count": 7,
   "metadata": {
    "colab": {
     "base_uri": "https://localhost:8080/"
    },
    "id": "cuvnVy_rjjsa",
    "outputId": "3e894117-f587-4225-b52b-fb3b7a148765"
   },
   "outputs": [
    {
     "name": "stdout",
     "output_type": "stream",
     "text": [
      "[4.53841573] [[2.97412577]]\n",
      "[[ 4.53841573]\n",
      " [10.48666728]]\n"
     ]
    }
   ],
   "source": [
    "#using scikit learn\n",
    "lin_reg=LinearRegression()\n",
    "lin_reg.fit(X,y)\n",
    "\n",
    "print(lin_reg.intercept_,lin_reg.coef_)\n",
    "\n",
    "print(lin_reg.predict(X_new))"
   ]
  },
  {
   "cell_type": "code",
   "execution_count": 8,
   "metadata": {
    "colab": {
     "base_uri": "https://localhost:8080/"
    },
    "id": "Fnkv_VCwkpQS",
    "outputId": "7fc51c09-91d8-4ddd-ebd7-a0f7368f3fdc"
   },
   "outputs": [
    {
     "data": {
      "text/plain": [
       "array([[4.53841573],\n",
       "       [2.97412577]])"
      ]
     },
     "execution_count": 8,
     "metadata": {
      "tags": []
     },
     "output_type": "execute_result"
    }
   ],
   "source": [
    "#scikit learn's linear regression class is based on:\n",
    "best_theta_by_svd,residuals,rank,s=np.linalg.lstsq(X_b,y,rcond=1e-6)\n",
    "best_theta_by_svd"
   ]
  },
  {
   "cell_type": "markdown",
   "metadata": {
    "id": "G7YdCZfR7Tii"
   },
   "source": [
    "## **2**. **Gradient** **Descent**"
   ]
  },
  {
   "cell_type": "markdown",
   "metadata": {
    "id": "23z6kZeA7qyB"
   },
   "source": [
    "#### **a**. **Batch** **Gradient** **Descent**"
   ]
  },
  {
   "cell_type": "code",
   "execution_count": 9,
   "metadata": {
    "colab": {
     "base_uri": "https://localhost:8080/"
    },
    "id": "vIacjM1166_-",
    "outputId": "ba7296ef-076a-4a6a-d930-d736d3da41c8"
   },
   "outputs": [
    {
     "name": "stdout",
     "output_type": "stream",
     "text": [
      "[[4.53841573]\n",
      " [2.97412577]]\n"
     ]
    }
   ],
   "source": [
    "eta=0.1\n",
    "iterations=1000\n",
    "m=100\n",
    "\n",
    "#randomly initialize the theta\n",
    "theta=np.random.randn(2,1)\n",
    "\n",
    "#to find the best theta by batch gradient descent\n",
    "for i in range(iterations):\n",
    "  gradients=(2/m)*X_b.T.dot(X_b.dot(theta)-y)\n",
    "  theta=theta-eta*gradients\n",
    "print(theta)"
   ]
  },
  {
   "cell_type": "markdown",
   "metadata": {
    "id": "Vl0s2a9GFKns"
   },
   "source": [
    "#### **a**. **Stochastic** **Gradient** **Descent**"
   ]
  },
  {
   "cell_type": "code",
   "execution_count": 10,
   "metadata": {
    "colab": {
     "base_uri": "https://localhost:8080/"
    },
    "id": "rcf8Q4k7Eqb8",
    "outputId": "4daf5827-defd-4416-d32e-8e94cfc730fa"
   },
   "outputs": [
    {
     "name": "stdout",
     "output_type": "stream",
     "text": [
      "[[4.5222249]\n",
      " [2.9756206]]\n"
     ]
    }
   ],
   "source": [
    "epochs=50\n",
    "t0,t1=5,50   #learning schedule parameters\n",
    "\n",
    "def learning_schedule(t):\n",
    "  return t0/(t+t1)\n",
    "\n",
    "theta=np.random.randn(2,1) #random initialization of parameters theta\n",
    "\n",
    "for epoch in range(epochs):\n",
    "  for i in range(m):\n",
    "    random_index=np.random.randint(m)  #returns a single random integer from 0 to m\n",
    "    xi=X_b[random_index:random_index+1]\n",
    "    yi=y[random_index:random_index+1]\n",
    "    gradients=2*xi.T.dot(xi.dot(theta)-yi)  \n",
    "    eta=learning_schedule(epoch*m+1)  # eta from learning schedule to minimize gradually\n",
    "    theta=theta-eta*gradients\n",
    "\n",
    "print(theta)"
   ]
  },
  {
   "cell_type": "code",
   "execution_count": 11,
   "metadata": {
    "colab": {
     "base_uri": "https://localhost:8080/"
    },
    "id": "MlaXZG4Lp285",
    "outputId": "0210a007-6342-451d-f56c-ef0653eaf159"
   },
   "outputs": [
    {
     "data": {
      "text/plain": [
       "SGDRegressor(alpha=0.0001, average=False, early_stopping=False, epsilon=0.1,\n",
       "             eta0=0.1, fit_intercept=True, l1_ratio=0.15,\n",
       "             learning_rate='invscaling', loss='squared_loss', max_iter=1000,\n",
       "             n_iter_no_change=5, penalty=None, power_t=0.25, random_state=None,\n",
       "             shuffle=True, tol=0.001, validation_fraction=0.1, verbose=0,\n",
       "             warm_start=False)"
      ]
     },
     "execution_count": 11,
     "metadata": {
      "tags": []
     },
     "output_type": "execute_result"
    }
   ],
   "source": [
    "#using scikit learn\n",
    "\n",
    "sgd_reg=SGDRegressor(penalty=None,max_iter=1000,tol=0.001,eta0=0.1)\n",
    "sgd_reg.fit(X,y.ravel())  #.ravel() changes to make y flattened to a single row   |  we don't have to add x0, scikit learn does itself"
   ]
  },
  {
   "cell_type": "code",
   "execution_count": 12,
   "metadata": {
    "colab": {
     "base_uri": "https://localhost:8080/"
    },
    "id": "nOJx2M2Iq6i0",
    "outputId": "22d1f5b3-28bd-49fd-ea25-59259d76c28c"
   },
   "outputs": [
    {
     "name": "stdout",
     "output_type": "stream",
     "text": [
      "[4.49984934]\n",
      "[2.95736575]\n"
     ]
    }
   ],
   "source": [
    "print(sgd_reg.intercept_)\n",
    "print(sgd_reg.coef_)"
   ]
  },
  {
   "cell_type": "markdown",
   "metadata": {
    "id": "tQC2yP2DI60K"
   },
   "source": [
    "# <div align='center'>**POLYNOMIAL** **REGRESSION**</div>"
   ]
  },
  {
   "cell_type": "code",
   "execution_count": 13,
   "metadata": {
    "colab": {
     "base_uri": "https://localhost:8080/",
     "height": 296
    },
    "id": "WjARJXysrSx0",
    "outputId": "6cf3fbdd-136b-490b-be30-dfbc664d2c01"
   },
   "outputs": [
    {
     "data": {
      "text/plain": [
       "Text(0, 0.5, 'y')"
      ]
     },
     "execution_count": 13,
     "metadata": {
      "tags": []
     },
     "output_type": "execute_result"
    },
    {
     "data": {
      "image/png": "[encoded data removed]",
      "text/plain": [
       "<Figure size 432x288 with 1 Axes>"
      ]
     },
     "metadata": {
      "needs_background": "light",
      "tags": []
     },
     "output_type": "display_data"
    }
   ],
   "source": [
    "#generate random data with y as quadratic\n",
    "X=6*np.random.rand(100,1)-3  #tweak this to make quadratic\n",
    "y=0.5*X**2+X+2+np.random.rand(100,1)\n",
    "\n",
    "#plot the data\n",
    "plt.scatter(X,y)\n",
    "plt.xlabel('X')\n",
    "plt.ylabel('y')"
   ]
  },
  {
   "cell_type": "code",
   "execution_count": 14,
   "metadata": {
    "colab": {
     "base_uri": "https://localhost:8080/"
    },
    "id": "5WE9fFJdJ_ov",
    "outputId": "0830b610-8cca-4655-c84c-b71b3f486142"
   },
   "outputs": [
    {
     "name": "stdout",
     "output_type": "stream",
     "text": [
      "[1.0691423]\n",
      "[1.0691423  1.14306527]\n"
     ]
    }
   ],
   "source": [
    "#add powers of the features as new features of the degree 2\n",
    "ploy=PolynomialFeatures(degree=2,include_bias=False)\n",
    "X_ploy=ploy.fit_transform(X)\n",
    "print(X[0])\n",
    "print(X_ploy[0])"
   ]
  },
  {
   "cell_type": "code",
   "execution_count": 15,
   "metadata": {
    "colab": {
     "base_uri": "https://localhost:8080/"
    },
    "id": "8oeUtMFBLfKb",
    "outputId": "efce43f8-b76f-4afc-db17-f13f2a068505"
   },
   "outputs": [
    {
     "name": "stdout",
     "output_type": "stream",
     "text": [
      "[2.54552872]\n",
      "[[0.9774617  0.48109536]]\n"
     ]
    }
   ],
   "source": [
    "#train the model with linear regression\n",
    "lin_reg=LinearRegression()\n",
    "lin_reg.fit(X_ploy,y)\n",
    "\n",
    "print(lin_reg.intercept_)\n",
    "print(lin_reg.coef_)"
   ]
  },
  {
   "cell_type": "code",
   "execution_count": 16,
   "metadata": {
    "id": "K3IYtSg3MToX"
   },
   "outputs": [],
   "source": [
    "#X_for_prediction=np.array([[-3],[3]])  #we cannot do this because it will plot for only two points which gives linear plot\n",
    "X_for_prediction=np.linspace(-3, 3, 100).reshape(100, 1)\n",
    "#do add the new features with power of all features for which we want to predict\n",
    "X_new_poly=ploy.transform(X_for_prediction) #do only transform not fit\n",
    "y_predict_poly=lin_reg.predict(X_new_poly)"
   ]
  },
  {
   "cell_type": "code",
   "execution_count": 17,
   "metadata": {
    "colab": {
     "base_uri": "https://localhost:8080/",
     "height": 283
    },
    "id": "cmnksBYKNSsr",
    "outputId": "12270aa5-d69d-4c98-d87c-506f0e7432c2"
   },
   "outputs": [
    {
     "data": {
      "image/png": "[encoded data removed]",
      "text/plain": [
       "<Figure size 432x288 with 1 Axes>"
      ]
     },
     "metadata": {
      "needs_background": "light",
      "tags": []
     },
     "output_type": "display_data"
    }
   ],
   "source": [
    "#plot the preditions\n",
    "plt.scatter(X,y)\n",
    "plt.plot(X_for_prediction,y_predict_poly,'r-',label='Predictions') #plot non-transformed data with y_predict\n",
    "plt.axis([-3,3,0,10])\n",
    "plt.xlabel('X')\n",
    "plt.ylabel('y')\n",
    "plt.legend()\n",
    "plt.show()"
   ]
  },
  {
   "cell_type": "markdown",
   "metadata": {
    "id": "4sYE4ryv4BDk"
   },
   "source": [
    "## **Learning** **Curves**"
   ]
  },
  {
   "cell_type": "code",
   "execution_count": 18,
   "metadata": {
    "id": "IGHcAYSgZMut"
   },
   "outputs": [],
   "source": [
    "#function for plotting learning curves\n",
    "def plot_learning_curves(model,X,y):\n",
    "  X_train,X_val,y_train,y_val=train_test_split(X,y,test_size=0.2,shuffle=True)  #split the dataset\n",
    "  train_errors_list=[]\n",
    "  val_errors_list=[]\n",
    "  for m in range(1,len(X_train)):\n",
    "    model.fit(X_train[:m],y_train[:m])  #fit the model\n",
    "    y_train_predict=model.predict(X_train[:m])     #predict on the train set\n",
    "    y_val_predict=model.predict(X_val)               #predict on the validation set\n",
    "    train_errors=mean_squared_error(y_train[:m],y_train_predict)\n",
    "    train_errors_list.append(train_errors)\n",
    "    val_errors=mean_squared_error(y_val,y_val_predict)\n",
    "    val_errors_list.append(val_errors)\n",
    "  plt.plot(np.sqrt(train_errors_list),'r+-',label='train')\n",
    "  plt.plot(np.sqrt(val_errors_list),'b-',label='val')\n",
    "  plt.show()\n"
   ]
  },
  {
   "cell_type": "code",
   "execution_count": 19,
   "metadata": {
    "colab": {
     "base_uri": "https://localhost:8080/",
     "height": 265
    },
    "id": "vILSdhl1Bxei",
    "outputId": "0760365c-a28b-4e83-ee9f-2d277f78c777"
   },
   "outputs": [
    {
     "data": {
      "image/png": "[encoded data removed]",
      "text/plain": [
       "<Figure size 432x288 with 1 Axes>"
      ]
     },
     "metadata": {
      "needs_background": "light",
      "tags": []
     },
     "output_type": "display_data"
    }
   ],
   "source": [
    "#make model and plot the learning curve\n",
    "lin_reg=LinearRegression()\n",
    "plot_learning_curves(lin_reg,X,y)"
   ]
  },
  {
   "cell_type": "code",
   "execution_count": 20,
   "metadata": {
    "colab": {
     "base_uri": "https://localhost:8080/",
     "height": 276
    },
    "id": "6sqUq-sSCi3O",
    "outputId": "837bb1d8-1754-47bf-aa8d-8f3f6cbfd345"
   },
   "outputs": [
    {
     "data": {
      "image/png": "[encoded data removed]",
      "text/plain": [
       "<Figure size 432x288 with 1 Axes>"
      ]
     },
     "metadata": {
      "needs_background": "light",
      "tags": []
     },
     "output_type": "display_data"
    }
   ],
   "source": [
    "#plot linear curves for polynomial regression\n",
    "poly_reg=Pipeline([\n",
    "                   ('poly_features',PolynomialFeatures(degree=50,include_bias=False)),\n",
    "                   ('lin_reg',LinearRegression())\n",
    "])\n",
    "\n",
    "plot_learning_curves(poly_reg,X,y)"
   ]
  },
  {
   "cell_type": "markdown",
   "metadata": {
    "id": "OnfaYrCtFTDH"
   },
   "source": [
    "# <div align='center'> **REGULARIZED** **LINEAR** **MODELS** </div>"
   ]
  },
  {
   "cell_type": "markdown",
   "metadata": {
    "id": "H1k04146FiM4"
   },
   "source": [
    "# **1.** **Ridge** **Regression**"
   ]
  },
  {
   "cell_type": "code",
   "execution_count": 21,
   "metadata": {
    "colab": {
     "base_uri": "https://localhost:8080/"
    },
    "id": "246foOvLEdE9",
    "outputId": "7292e318-4205-495e-9595-c1f6b28cc812"
   },
   "outputs": [
    {
     "data": {
      "text/plain": [
       "array([[5.44606148]])"
      ]
     },
     "execution_count": 21,
     "metadata": {
      "tags": []
     },
     "output_type": "execute_result"
    }
   ],
   "source": [
    "#using normal method using cholesky factorization\n",
    "X_to_predict=np.array([[1.5]])\n",
    "ridge_reg=Ridge(alpha=0.1,solver='cholesky')  \n",
    "ridge_reg.fit(X,y)\n",
    "ridge_reg.predict(X_to_predict)"
   ]
  },
  {
   "cell_type": "code",
   "execution_count": 22,
   "metadata": {
    "colab": {
     "base_uri": "https://localhost:8080/"
    },
    "id": "hcEW_BlgHJuL",
    "outputId": "50b5cd8c-ba6a-4e28-bbac-4a35813d3cd0"
   },
   "outputs": [
    {
     "data": {
      "text/plain": [
       "array([5.38368141])"
      ]
     },
     "execution_count": 22,
     "metadata": {
      "tags": []
     },
     "output_type": "execute_result"
    }
   ],
   "source": [
    "#using sgdregressor\n",
    "sgd_reg=SGDRegressor(alpha=0.1,penalty='l2')\n",
    "sgd_reg.fit(X,y.ravel())\n",
    "sgd_reg.predict(X_to_predict)"
   ]
  },
  {
   "cell_type": "markdown",
   "metadata": {
    "id": "FlLQ2ByfIKsh"
   },
   "source": [
    "# **1.** **Lasso** **Regression**"
   ]
  },
  {
   "cell_type": "code",
   "execution_count": 23,
   "metadata": {
    "colab": {
     "base_uri": "https://localhost:8080/"
    },
    "id": "E3cwrd_cIIHK",
    "outputId": "152128f5-4c76-45c3-9cd0-c86ee18fda1a"
   },
   "outputs": [
    {
     "data": {
      "text/plain": [
       "array([5.39954792])"
      ]
     },
     "execution_count": 23,
     "metadata": {
      "tags": []
     },
     "output_type": "execute_result"
    }
   ],
   "source": [
    "#using lasso regression\n",
    "lasso_reg=Lasso(alpha=0.1)\n",
    "lasso_reg.fit(X,y)\n",
    "lasso_reg.predict(X_to_predict)"
   ]
  },
  {
   "cell_type": "code",
   "execution_count": 24,
   "metadata": {
    "colab": {
     "base_uri": "https://localhost:8080/"
    },
    "id": "wfavnD8YJR5q",
    "outputId": "b4532744-6316-4b6c-f0d0-d358220cd145"
   },
   "outputs": [
    {
     "data": {
      "text/plain": [
       "array([5.39055045])"
      ]
     },
     "execution_count": 24,
     "metadata": {
      "tags": []
     },
     "output_type": "execute_result"
    }
   ],
   "source": [
    "#using sgdregressor\n",
    "sgd_reg=SGDRegressor(alpha=0.1,penalty='l1')\n",
    "sgd_reg.fit(X,y.ravel())\n",
    "sgd_reg.predict(X_to_predict)"
   ]
  },
  {
   "cell_type": "markdown",
   "metadata": {
    "id": "OXjBrnkgJ2nF"
   },
   "source": [
    "# **3.** **Elastic** **Net**"
   ]
  },
  {
   "cell_type": "code",
   "execution_count": 25,
   "metadata": {
    "colab": {
     "base_uri": "https://localhost:8080/"
    },
    "id": "y-shLkMMJweu",
    "outputId": "d205e1f5-a493-4218-8003-66df2e410592"
   },
   "outputs": [
    {
     "data": {
      "text/plain": [
       "array([5.40312324])"
      ]
     },
     "execution_count": 25,
     "metadata": {
      "tags": []
     },
     "output_type": "execute_result"
    }
   ],
   "source": [
    "elastic_net=ElasticNet(alpha=0.1,l1_ratio=0.5)\n",
    "elastic_net.fit(X,y)\n",
    "elastic_net.predict(X_to_predict)"
   ]
  },
  {
   "cell_type": "markdown",
   "metadata": {
    "id": "tdO75RXzL5oE"
   },
   "source": [
    "# **4.** **Early** **Stopping**"
   ]
  },
  {
   "cell_type": "code",
   "execution_count": 26,
   "metadata": {
    "id": "l314I7tFLxnC"
   },
   "outputs": [],
   "source": [
    "#to scale data using pipeline\n",
    "X_train,X_val,y_train,y_val=train_test_split(X,y,test_size=0.2,shuffle=True) \n",
    "poly_scaler=Pipeline([\n",
    "                      ('poly_features',PolynomialFeatures(degree=90,include_bias=False)),\n",
    "                      ('std_scaler',StandardScaler())\n",
    "                      ])\n",
    "\n",
    "X_train_scaled=poly_scaler.fit_transform(X_train)\n",
    "X_val_scaled=poly_scaler.transform(X_val)"
   ]
  },
  {
   "cell_type": "code",
   "execution_count": 1,
   "metadata": {
    "colab": {
     "base_uri": "https://localhost:8080/"
    },
    "id": "2If_N4hjROW5",
    "outputId": "b077e232-3da6-4f28-d6af-49c8543496e9"
   },
   "outputs": [],
   "source": [
    "# sgd_reg=SGDRegressor(max_iter=1,tol=-np.infty,warm_start=True,penalty=None,learning_rate='constant',eta0=0.0005,random_state=42) \n",
    "# minimum_value_error=float('inf')       #make minimum value of error to infinity\n",
    "# best_epoch=None\n",
    "# best_model=None\n",
    "# for epoch in range(1000):\n",
    "#   sgd_reg.fit(X_train_scaled,y_train)   #continues where it left off\n",
    "#   y_val_predict=sgd_reg.predict(X_val_scaled)  #predict on validation set\n",
    "#   val_error=mean_squared_error(y_val,y_val_predict) #mind mse for validation set\n",
    "#   if val_error<minimum_value_error:\n",
    "#     minimum_value_error=val_error  \n",
    "#     best_epoch=epoch              #get the best epoch\n",
    "#     best_model=deepcopy(sgd_reg)     #get the best model when validation error is minimum "
   ]
  },
  {
   "cell_type": "markdown",
   "metadata": {
    "id": "3BijNSN1djok"
   },
   "source": [
    "# <div align='center'> **LOGISTIC** **REGRESSION** </div>"
   ]
  },
  {
   "cell_type": "markdown",
   "metadata": {
    "id": "nSp-t37gh2zh"
   },
   "source": [
    "## **Decision** **Boundaries**"
   ]
  },
  {
   "cell_type": "code",
   "execution_count": 37,
   "metadata": {
    "colab": {
     "base_uri": "https://localhost:8080/"
    },
    "id": "-MIMfFFtV92L",
    "outputId": "348315af-d0ab-42d4-f985-faeb2d729059"
   },
   "outputs": [
    {
     "data": {
      "text/plain": [
       "['data', 'target', 'target_names', 'DESCR', 'feature_names', 'filename']"
      ]
     },
     "execution_count": 37,
     "metadata": {
      "tags": []
     },
     "output_type": "execute_result"
    }
   ],
   "source": [
    "#load datasets\n",
    "irisd=datasets.load_iris()\n",
    "list(irisd.keys())"
   ]
  },
  {
   "cell_type": "code",
   "execution_count": 38,
   "metadata": {
    "colab": {
     "base_uri": "https://localhost:8080/"
    },
    "id": "JCqFoQX0iXNm",
    "outputId": "d92d7db5-5d77-40f6-b3c9-ee85559166ba"
   },
   "outputs": [
    {
     "name": "stdout",
     "output_type": "stream",
     "text": [
      "     0    1    2    3\n",
      "0  5.1  3.5  1.4  0.2\n",
      "1  4.9  3.0  1.4  0.2\n",
      "2  4.7  3.2  1.3  0.2\n",
      "3  4.6  3.1  1.5  0.2\n",
      "4  5.0  3.6  1.4  0.2\n"
     ]
    }
   ],
   "source": [
    "#load datasets into pandas\n",
    "iris=pd.DataFrame(irisd['data'])\n",
    "print(iris.head())"
   ]
  },
  {
   "cell_type": "code",
   "execution_count": 47,
   "metadata": {
    "colab": {
     "base_uri": "https://localhost:8080/"
    },
    "id": "Pd_cgdgfijfC",
    "outputId": "e6eb8931-e754-4058-e8d5-eacbd1a33983"
   },
   "outputs": [
    {
     "name": "stdout",
     "output_type": "stream",
     "text": [
      "   0\n",
      "0  0\n",
      "1  0\n",
      "2  0\n",
      "3  0\n",
      "4  0\n"
     ]
    }
   ],
   "source": [
    "#to predict iris Verginica class (class 2) based on only petal width\n",
    "X=iris.loc[:,3:]\n",
    "y_target=(irisd['target']==2).astype(np.int)  #1 if class 2 else 0 (to change into integer- astype)\n",
    "y=pd.DataFrame(y_target)"
   ]
  },
  {
   "cell_type": "code",
   "execution_count": 49,
   "metadata": {
    "colab": {
     "base_uri": "https://localhost:8080/"
    },
    "id": "3CJSo7D8kePo",
    "outputId": "85e52d0c-1697-4e95-ba06-d3025e180234"
   },
   "outputs": [
    {
     "name": "stderr",
     "output_type": "stream",
     "text": [
      "/usr/local/lib/python3.7/dist-packages/sklearn/utils/validation.py:760: DataConversionWarning: A column-vector y was passed when a 1d array was expected. Please change the shape of y to (n_samples, ), for example using ravel().\n",
      "  y = column_or_1d(y, warn=True)\n"
     ]
    },
    {
     "data": {
      "text/plain": [
       "LogisticRegression(C=1.0, class_weight=None, dual=False, fit_intercept=True,\n",
       "                   intercept_scaling=1, l1_ratio=None, max_iter=100,\n",
       "                   multi_class='auto', n_jobs=None, penalty='l2',\n",
       "                   random_state=None, solver='lbfgs', tol=0.0001, verbose=0,\n",
       "                   warm_start=False)"
      ]
     },
     "execution_count": 49,
     "metadata": {
      "tags": []
     },
     "output_type": "execute_result"
    }
   ],
   "source": [
    "#train and fit the model\n",
    "log_reg=LogisticRegression()\n",
    "log_reg.fit(X,y)"
   ]
  },
  {
   "cell_type": "code",
   "execution_count": 51,
   "metadata": {
    "colab": {
     "base_uri": "https://localhost:8080/"
    },
    "id": "RHdase5wm06m",
    "outputId": "f9f17016-8f61-4146-bbbb-f9fe931b357e"
   },
   "outputs": [
    {
     "data": {
      "text/plain": [
       "array([1])"
      ]
     },
     "execution_count": 51,
     "metadata": {
      "tags": []
     },
     "output_type": "execute_result"
    }
   ],
   "source": [
    "log_reg.predict([[1.7]])  #predicts that it is in the class or not"
   ]
  },
  {
   "cell_type": "code",
   "execution_count": 52,
   "metadata": {
    "colab": {
     "base_uri": "https://localhost:8080/"
    },
    "id": "CL-QeeQcm-0q",
    "outputId": "8fa4a734-7fda-4e03-da77-a1b1b3bbf9fc"
   },
   "outputs": [
    {
     "data": {
      "text/plain": [
       "array([[0.45722097, 0.54277903],\n",
       "       [0.66709636, 0.33290364]])"
      ]
     },
     "execution_count": 52,
     "metadata": {
      "tags": []
     },
     "output_type": "execute_result"
    }
   ],
   "source": [
    "log_reg.predict_proba([[1.7],[1.5]]) #predict the probabilities of lying and not lying in the class"
   ]
  },
  {
   "cell_type": "code",
   "execution_count": 57,
   "metadata": {
    "colab": {
     "base_uri": "https://localhost:8080/",
     "height": 280
    },
    "id": "PGMT7NopnUnt",
    "outputId": "fb067ef3-97d8-47db-9a8e-98c04e84d23e"
   },
   "outputs": [
    {
     "data": {
      "image/png": "[encoded data removed]",
      "text/plain": [
       "<Figure size 432x288 with 1 Axes>"
      ]
     },
     "metadata": {
      "needs_background": "light",
      "tags": []
     },
     "output_type": "display_data"
    }
   ],
   "source": [
    "X_new=np.linspace(0,3,1000).reshape(-1,1)\n",
    "y_proba=log_reg.predict_proba(X_new)\n",
    "plt.plot(X_new,y_proba[:,1],'r-',label='Verginica')\n",
    "plt.plot(X_new,y_proba[:,0],'b--',label='Not Verginica')\n",
    "plt.legend()\n",
    "plt.xlabel('Petal_width')\n",
    "plt.ylabel('Probability')\n",
    "plt.show()"
   ]
  },
  {
   "cell_type": "markdown",
   "metadata": {
    "id": "Qp2WhRzlpX7U"
   },
   "source": [
    "## **Softmax** **Regression**"
   ]
  },
  {
   "cell_type": "code",
   "execution_count": 61,
   "metadata": {
    "colab": {
     "base_uri": "https://localhost:8080/"
    },
    "id": "EE81fPVUor8Y",
    "outputId": "bc2700cd-bec2-4414-e7f6-ed7ce950116b"
   },
   "outputs": [
    {
     "name": "stdout",
     "output_type": "stream",
     "text": [
      "   0\n",
      "0  0\n",
      "1  0\n",
      "2  0\n",
      "3  0\n",
      "4  0\n",
      "     2    3\n",
      "0  1.4  0.2\n",
      "1  1.4  0.2\n",
      "2  1.3  0.2\n",
      "3  1.5  0.2\n",
      "4  1.4  0.2\n"
     ]
    }
   ],
   "source": [
    "#to predict all three classes on the basis of petal length and width\n",
    "X=iris.loc[:,[2,3]]\n",
    "y_tar=irisd['target']\n",
    "y=pd.DataFrame(y_tar)\n",
    "print(y.head())\n",
    "print(X.head())"
   ]
  },
  {
   "cell_type": "code",
   "execution_count": 62,
   "metadata": {
    "colab": {
     "base_uri": "https://localhost:8080/"
    },
    "id": "4cjIpqRHqLBZ",
    "outputId": "74c85494-9281-4fa8-c087-2c2201129273"
   },
   "outputs": [
    {
     "name": "stderr",
     "output_type": "stream",
     "text": [
      "/usr/local/lib/python3.7/dist-packages/sklearn/utils/validation.py:760: DataConversionWarning: A column-vector y was passed when a 1d array was expected. Please change the shape of y to (n_samples, ), for example using ravel().\n",
      "  y = column_or_1d(y, warn=True)\n"
     ]
    },
    {
     "data": {
      "text/plain": [
       "LogisticRegression(C=10, class_weight=None, dual=False, fit_intercept=True,\n",
       "                   intercept_scaling=1, l1_ratio=None, max_iter=100,\n",
       "                   multi_class='multinomial', n_jobs=None, penalty='l2',\n",
       "                   random_state=None, solver='lbfgs', tol=0.0001, verbose=0,\n",
       "                   warm_start=False)"
      ]
     },
     "execution_count": 62,
     "metadata": {
      "tags": []
     },
     "output_type": "execute_result"
    }
   ],
   "source": [
    "soft_reg=LogisticRegression(multi_class='multinomial',solver='lbfgs',C=10)\n",
    "soft_reg.fit(X,y)"
   ]
  },
  {
   "cell_type": "code",
   "execution_count": 63,
   "metadata": {
    "colab": {
     "base_uri": "https://localhost:8080/"
    },
    "id": "0i3JwlI3ruy5",
    "outputId": "52343b4e-9dae-4406-acf3-cb5ff0c08c80"
   },
   "outputs": [
    {
     "data": {
      "text/plain": [
       "array([2])"
      ]
     },
     "execution_count": 63,
     "metadata": {
      "tags": []
     },
     "output_type": "execute_result"
    }
   ],
   "source": [
    "soft_reg.predict([[5,2]])"
   ]
  },
  {
   "cell_type": "code",
   "execution_count": 65,
   "metadata": {
    "colab": {
     "base_uri": "https://localhost:8080/"
    },
    "id": "_p16ugyur08L",
    "outputId": "de8226b9-bd0c-46e1-e353-03fc240d457e"
   },
   "outputs": [
    {
     "data": {
      "text/plain": [
       "array([[6.38014896e-07, 5.74929995e-02, 9.42506362e-01]])"
      ]
     },
     "execution_count": 65,
     "metadata": {
      "tags": []
     },
     "output_type": "execute_result"
    }
   ],
   "source": [
    "soft_reg.predict_proba([[5,2]])  #predicts class 2 with 94% probability"
   ]
  },
  {
   "cell_type": "code",
   "execution_count": null,
   "metadata": {
    "id": "v-beyaYMr5Z8"
   },
   "outputs": [],
   "source": []
  }
 ],
 "metadata": {
  "colab": {
   "collapsed_sections": [],
   "name": "training_models.ipynb",
   "provenance": []
  },
  "kernelspec": {
   "display_name": "Python 3",
   "language": "python",
   "name": "python3"
  },
  "language_info": {
   "codemirror_mode": {
    "name": "ipython",
    "version": 3
   },
   "file_extension": ".py",
   "mimetype": "text/x-python",
   "name": "python",
   "nbconvert_exporter": "python",
   "pygments_lexer": "ipython3",
   "version": "3.8.5"
  }
 },
 "nbformat": 4,
 "nbformat_minor": 1
}
