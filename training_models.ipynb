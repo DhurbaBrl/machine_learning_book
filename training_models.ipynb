{
  "nbformat": 4,
  "nbformat_minor": 0,
  "metadata": {
    "colab": {
      "name": "training_models.ipynb",
      "provenance": [],
      "collapsed_sections": []
    },
    "kernelspec": {
      "name": "python3",
      "display_name": "Python 3"
    },
    "language_info": {
      "name": "python"
    }
  },
  "cells": [
    {
      "cell_type": "code",
      "metadata": {
        "id": "mk3-ttmlXP9T"
      },
      "source": [
        "import numpy as np\n",
        "import matplotlib.pyplot as plt\n",
        "import pandas as pd\n",
        "from sklearn.linear_model import LinearRegression,SGDRegressor"
      ],
      "execution_count": 14,
      "outputs": []
    },
    {
      "cell_type": "markdown",
      "metadata": {
        "id": "icrgRA8zVzFZ"
      },
      "source": [
        "# <div align='center'> **LINEAR** **REGRESSION** </div>"
      ]
    },
    {
      "cell_type": "markdown",
      "metadata": {
        "id": "eb3cY5COWKVR"
      },
      "source": [
        "## **1**. **Normal** **Equation**"
      ]
    },
    {
      "cell_type": "code",
      "metadata": {
        "id": "4m2JlzAYYD1u"
      },
      "source": [
        "#generate some linear looking data\n",
        "X=2*np.random.rand(100,1)\n",
        "y=4+3*X +np.random.rand(100,1)"
      ],
      "execution_count": 2,
      "outputs": []
    },
    {
      "cell_type": "code",
      "metadata": {
        "colab": {
          "base_uri": "https://localhost:8080/",
          "height": 266
        },
        "id": "TciEya6eXhCW",
        "outputId": "ba1dc393-5ad1-492b-f890-79e6d34e4564"
      },
      "source": [
        "#plot X and y\n",
        "plt.scatter(X,y)\n",
        "plt.show()"
      ],
      "execution_count": 3,
      "outputs": [
        {
          "output_type": "display_data",
          "data": {
            "image/png": "[encoded data removed]",
            "text/plain": [
              "<Figure size 432x288 with 1 Axes>"
            ]
          },
          "metadata": {
            "tags": [],
            "needs_background": "light"
          }
        }
      ]
    },
    {
      "cell_type": "code",
      "metadata": {
        "colab": {
          "base_uri": "https://localhost:8080/"
        },
        "id": "qYk4ec0oY2iH",
        "outputId": "7af26590-afab-4b48-c4e7-8036e8d328eb"
      },
      "source": [
        "#add ones for x0 to X\n",
        "X_b=np.c_[np.ones(list(X.shape)),X]\n",
        "\n",
        "#find value of theta vector\n",
        "best_theta=np.linalg.inv(X_b.T.dot(X_b)).dot(X_b.T).dot(y)\n",
        "print(best_theta)"
      ],
      "execution_count": 4,
      "outputs": [
        {
          "output_type": "stream",
          "text": [
            "[[4.51931053]\n",
            " [3.00384685]]\n"
          ],
          "name": "stdout"
        }
      ]
    },
    {
      "cell_type": "code",
      "metadata": {
        "colab": {
          "base_uri": "https://localhost:8080/"
        },
        "id": "gDm6_dROcxq7",
        "outputId": "129cdb0e-c45b-406c-a4b2-77f47808acba"
      },
      "source": [
        "#make new X set to make predictions\n",
        "X_new=np.array([[0],[2]])\n",
        "#add x0\n",
        "X_new_b=np.c_[np.ones(list(X_new.shape)),X_new]\n",
        "#make prediction\n",
        "y_predict=X_new_b.dot(best_theta) #it returns a scalar value for each prediction\n",
        "\n",
        "# y_predict=(best_theta.T)*X_new_b  #it returns the matrix rather than scalar value for each prediction\n",
        "print(y_predict)"
      ],
      "execution_count": 5,
      "outputs": [
        {
          "output_type": "stream",
          "text": [
            "[[ 4.51931053]\n",
            " [10.52700424]]\n"
          ],
          "name": "stdout"
        }
      ]
    },
    {
      "cell_type": "code",
      "metadata": {
        "colab": {
          "base_uri": "https://localhost:8080/",
          "height": 266
        },
        "id": "AZ8RqDfng--f",
        "outputId": "796e7236-4372-4872-d638-4db3edc30e5a"
      },
      "source": [
        "#plot the model's prediction\n",
        "plt.plot(X_new,y_predict,'r-')\n",
        "plt.scatter(X,y)\n",
        "plt.show()"
      ],
      "execution_count": 6,
      "outputs": [
        {
          "output_type": "display_data",
          "data": {
            "image/png": "[encoded data removed]",
            "text/plain": [
              "<Figure size 432x288 with 1 Axes>"
            ]
          },
          "metadata": {
            "tags": [],
            "needs_background": "light"
          }
        }
      ]
    },
    {
      "cell_type": "code",
      "metadata": {
        "colab": {
          "base_uri": "https://localhost:8080/"
        },
        "id": "cuvnVy_rjjsa",
        "outputId": "7ffb3ff1-40b4-4997-e3ed-60633fc34653"
      },
      "source": [
        "#using scikit learn\n",
        "lin_reg=LinearRegression()\n",
        "lin_reg.fit(X,y)\n",
        "\n",
        "print(lin_reg.intercept_,lin_reg.coef_)\n",
        "\n",
        "print(lin_reg.predict(X_new))"
      ],
      "execution_count": 7,
      "outputs": [
        {
          "output_type": "stream",
          "text": [
            "[4.51931053] [[3.00384685]]\n",
            "[[ 4.51931053]\n",
            " [10.52700424]]\n"
          ],
          "name": "stdout"
        }
      ]
    },
    {
      "cell_type": "code",
      "metadata": {
        "colab": {
          "base_uri": "https://localhost:8080/"
        },
        "id": "Fnkv_VCwkpQS",
        "outputId": "e050544f-d430-4598-dbcf-8367b3374b74"
      },
      "source": [
        "#scikit learn's linear regression class is based on:\n",
        "best_theta_by_svd,residuals,rank,s=np.linalg.lstsq(X_b,y,rcond=1e-6)\n",
        "best_theta_by_svd"
      ],
      "execution_count": 8,
      "outputs": [
        {
          "output_type": "execute_result",
          "data": {
            "text/plain": [
              "array([[4.51931053],\n",
              "       [3.00384685]])"
            ]
          },
          "metadata": {
            "tags": []
          },
          "execution_count": 8
        }
      ]
    },
    {
      "cell_type": "markdown",
      "metadata": {
        "id": "G7YdCZfR7Tii"
      },
      "source": [
        "## **2**. **Gradient** **Descent**"
      ]
    },
    {
      "cell_type": "markdown",
      "metadata": {
        "id": "23z6kZeA7qyB"
      },
      "source": [
        "#### **a**. **Batch** **Gradient** **Descent**"
      ]
    },
    {
      "cell_type": "code",
      "metadata": {
        "id": "vIacjM1166_-",
        "colab": {
          "base_uri": "https://localhost:8080/"
        },
        "outputId": "2aefdfef-df97-470d-f97d-c07dc8e533f3"
      },
      "source": [
        "eta=0.1\n",
        "iterations=1000\n",
        "m=100\n",
        "\n",
        "#randomly initialize the theta\n",
        "theta=np.random.randn(2,1)\n",
        "\n",
        "#to find the best theta by batch gradient descent\n",
        "for i in range(iterations):\n",
        "  gradients=(2/m)*X_b.T.dot(X_b.dot(theta)-y)\n",
        "  theta=theta-eta*gradients\n",
        "print(theta)"
      ],
      "execution_count": 11,
      "outputs": [
        {
          "output_type": "stream",
          "text": [
            "[[4.51931053]\n",
            " [3.00384685]]\n"
          ],
          "name": "stdout"
        }
      ]
    },
    {
      "cell_type": "markdown",
      "metadata": {
        "id": "Vl0s2a9GFKns"
      },
      "source": [
        "#### **a**. **Stochastic** **Gradient** **Descent**"
      ]
    },
    {
      "cell_type": "code",
      "metadata": {
        "colab": {
          "base_uri": "https://localhost:8080/"
        },
        "id": "rcf8Q4k7Eqb8",
        "outputId": "28d25e73-f975-455f-c95e-47edf0e51a42"
      },
      "source": [
        "epochs=50\n",
        "t0,t1=5,50   #learning schedule parameters\n",
        "\n",
        "def learning_schedule(t):\n",
        "  return t0/(t+t1)\n",
        "\n",
        "theta=np.random.randn(2,1) #random initialization of parameters theta\n",
        "\n",
        "for epoch in range(epochs):\n",
        "  for i in range(m):\n",
        "    random_index=np.random.randint(m)  #returns a single random integer from 0 to m\n",
        "    xi=X_b[random_index:random_index+1]\n",
        "    yi=y[random_index:random_index+1]\n",
        "    gradients=2*xi.T.dot(xi.dot(theta)-yi)  \n",
        "    eta=learning_schedule(epoch*m+1)  # eta from learning schedule to minimize gradually\n",
        "    theta=theta-eta*gradients\n",
        "\n",
        "print(theta)"
      ],
      "execution_count": 13,
      "outputs": [
        {
          "output_type": "stream",
          "text": [
            "[[4.52743306]\n",
            " [2.99579219]]\n"
          ],
          "name": "stdout"
        }
      ]
    },
    {
      "cell_type": "code",
      "metadata": {
        "colab": {
          "base_uri": "https://localhost:8080/"
        },
        "id": "MlaXZG4Lp285",
        "outputId": "ac9f7ec1-1bba-4238-c74f-90e61f6e42dc"
      },
      "source": [
        "#using scikit learn\n",
        "\n",
        "sgd_reg=SGDRegressor(penalty=None,max_iter=1000,tol=0.001,eta0=0.1)\n",
        "sgd_reg.fit(X,y.ravel())  #.ravel() changes to make y flattened to a single row   |  we don't have to add x0, scikit learn does itself"
      ],
      "execution_count": 20,
      "outputs": [
        {
          "output_type": "execute_result",
          "data": {
            "text/plain": [
              "SGDRegressor(alpha=0.0001, average=False, early_stopping=False, epsilon=0.1,\n",
              "             eta0=0.1, fit_intercept=True, l1_ratio=0.15,\n",
              "             learning_rate='invscaling', loss='squared_loss', max_iter=1000,\n",
              "             n_iter_no_change=5, penalty=None, power_t=0.25, random_state=None,\n",
              "             shuffle=True, tol=0.001, validation_fraction=0.1, verbose=0,\n",
              "             warm_start=False)"
            ]
          },
          "metadata": {
            "tags": []
          },
          "execution_count": 20
        }
      ]
    },
    {
      "cell_type": "code",
      "metadata": {
        "colab": {
          "base_uri": "https://localhost:8080/"
        },
        "id": "nOJx2M2Iq6i0",
        "outputId": "5c3dbcba-8f31-4b0e-e1f0-c935450aef52"
      },
      "source": [
        "print(sgd_reg.intercept_)\n",
        "print(sgd_reg.coef_)"
      ],
      "execution_count": 19,
      "outputs": [
        {
          "output_type": "stream",
          "text": [
            "[4.49000914]\n",
            "[3.02043276]\n"
          ],
          "name": "stdout"
        }
      ]
    },
    {
      "cell_type": "code",
      "metadata": {
        "id": "WjARJXysrSx0"
      },
      "source": [
        ""
      ],
      "execution_count": null,
      "outputs": []
    }
  ]
}