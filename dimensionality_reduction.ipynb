{
  "nbformat": 4,
  "nbformat_minor": 0,
  "metadata": {
    "colab": {
      "name": "dimensionality_reduction.ipynb",
      "provenance": [],
      "collapsed_sections": [],
      "authorship_tag": "ABX9TyN4Pa8xjudat6tyNMkIdI1e"
    },
    "kernelspec": {
      "name": "python3",
      "display_name": "Python 3"
    },
    "language_info": {
      "name": "python"
    }
  },
  "cells": [
    {
      "cell_type": "code",
      "metadata": {
        "id": "p_Z-FGpydwaT"
      },
      "source": [
        "import numpy as np\n",
        "import matplotlib.pyplot as plt\n",
        "import pandas as pd\n",
        "from sklearn.decomposition import PCA,IncrementalPCA,KernelPCA\n",
        "from sklearn import datasets\n",
        "from sklearn.model_selection import train_test_split,GridSearchCV\n",
        "from sklearn.pipeline import Pipeline\n",
        "from sklearn.linear_model import LogisticRegression\n",
        "from sklearn.metrics import mean_squared_error\n",
        "from sklearn.manifold import LocallyLinearEmbedding"
      ],
      "execution_count": 44,
      "outputs": []
    },
    {
      "cell_type": "markdown",
      "metadata": {
        "id": "vi75HyNcd8zu"
      },
      "source": [
        "# **DIMENSIONALTY** **REDUCTION**"
      ]
    },
    {
      "cell_type": "markdown",
      "metadata": {
        "id": "EsKgEOdYeD1p"
      },
      "source": [
        "## **1.PCA**"
      ]
    },
    {
      "cell_type": "markdown",
      "metadata": {
        "id": "A4z4OK5hejAe"
      },
      "source": [
        "#### **Principal** **Components** **using**  **SVD**"
      ]
    },
    {
      "cell_type": "code",
      "metadata": {
        "id": "-VskhUgAeAJD"
      },
      "source": [
        "                                            #using numpy's svd()\n",
        "np.random.seed(4) #make the generation of random numbers deterministic\n",
        "m = 60\n",
        "w1, w2 = 0.1, 0.3\n",
        "noise = 0.1\n",
        "\n",
        "angles = np.random.rand(m) * 3 * np.pi / 2 - 0.5\n",
        "X = np.empty((m, 3))                #generate 60*3 array\n",
        "X[:, 0] = np.cos(angles) + np.sin(angles)/2 + noise * np.random.randn(m) / 2\n",
        "X[:, 1] = np.sin(angles) * 0.7 + noise * np.random.randn(m) / 2\n",
        "X[:, 2] = X[:, 0] * w1 + X[:, 1] * w2 + noise * np.random.randn(m)"
      ],
      "execution_count": 2,
      "outputs": []
    },
    {
      "cell_type": "code",
      "metadata": {
        "id": "Ip883pDqgW6C"
      },
      "source": [
        "#center the dataset around the origin\n",
        "X_centered=X-X.mean(axis=0)"
      ],
      "execution_count": 3,
      "outputs": []
    },
    {
      "cell_type": "code",
      "metadata": {
        "colab": {
          "base_uri": "https://localhost:8080/"
        },
        "id": "u_QCz_yshiVg",
        "outputId": "f6188d5f-a4e0-4ab3-be73-0ced8763d87d"
      },
      "source": [
        "U,s,Vt=np.linalg.svd(X_centered)\n",
        "print(Vt)\n",
        "print(Vt.T)"
      ],
      "execution_count": 4,
      "outputs": [
        {
          "output_type": "stream",
          "text": [
            "[[ 0.93636116  0.29854881  0.18465208]\n",
            " [-0.34027485  0.90119108  0.2684542 ]\n",
            " [-0.08626012 -0.31420255  0.94542898]]\n",
            "[[ 0.93636116 -0.34027485 -0.08626012]\n",
            " [ 0.29854881  0.90119108 -0.31420255]\n",
            " [ 0.18465208  0.2684542   0.94542898]]\n"
          ],
          "name": "stdout"
        }
      ]
    },
    {
      "cell_type": "code",
      "metadata": {
        "id": "tI18I8znjnba"
      },
      "source": [
        "c1=Vt.T[:,0]   #pc1\n",
        "c2=Vt.T[:,1]   #pc2"
      ],
      "execution_count": 5,
      "outputs": []
    },
    {
      "cell_type": "code",
      "metadata": {
        "colab": {
          "base_uri": "https://localhost:8080/"
        },
        "id": "tUBIBY8ykuvr",
        "outputId": "f54576ca-8cc1-4020-fc11-00e5798d736d"
      },
      "source": [
        "w2=Vt.T[:,:2]   #matrix containing the first 2 colums of V (first two PCs)\n",
        "print(w2)"
      ],
      "execution_count": 6,
      "outputs": [
        {
          "output_type": "stream",
          "text": [
            "[[ 0.93636116 -0.34027485]\n",
            " [ 0.29854881  0.90119108]\n",
            " [ 0.18465208  0.2684542 ]]\n"
          ],
          "name": "stdout"
        }
      ]
    },
    {
      "cell_type": "code",
      "metadata": {
        "id": "T4ivAp-MlMBE"
      },
      "source": [
        "X2D=X_centered.dot(w2) #this is the matrix with reduced dimensions from 3D to 2D"
      ],
      "execution_count": 7,
      "outputs": []
    },
    {
      "cell_type": "markdown",
      "metadata": {
        "id": "MOj0OCR1p5vV"
      },
      "source": [
        "#### **Using** **Scikit** **Learn**"
      ]
    },
    {
      "cell_type": "code",
      "metadata": {
        "id": "jVIhNBien9tU"
      },
      "source": [
        "pca=PCA(n_components=2)\n",
        "X2D=pca.fit_transform(X)"
      ],
      "execution_count": 8,
      "outputs": []
    },
    {
      "cell_type": "code",
      "metadata": {
        "colab": {
          "base_uri": "https://localhost:8080/"
        },
        "id": "fnL89iodpEQN",
        "outputId": "9aa2f6f3-0965-42e8-a52c-c16953a5d025"
      },
      "source": [
        "pca.components_        #it gives the transpose of w2"
      ],
      "execution_count": 9,
      "outputs": [
        {
          "output_type": "execute_result",
          "data": {
            "text/plain": [
              "array([[-0.93636116, -0.29854881, -0.18465208],\n",
              "       [ 0.34027485, -0.90119108, -0.2684542 ]])"
            ]
          },
          "metadata": {
            "tags": []
          },
          "execution_count": 9
        }
      ]
    },
    {
      "cell_type": "code",
      "metadata": {
        "colab": {
          "base_uri": "https://localhost:8080/"
        },
        "id": "_J2XPP4jpGtd",
        "outputId": "7feb7581-8280-4294-ce9e-66c0d595ffdf"
      },
      "source": [
        "pca.components_.T[:,0] #gives the first pc"
      ],
      "execution_count": 10,
      "outputs": [
        {
          "output_type": "execute_result",
          "data": {
            "text/plain": [
              "array([-0.93636116, -0.29854881, -0.18465208])"
            ]
          },
          "metadata": {
            "tags": []
          },
          "execution_count": 10
        }
      ]
    },
    {
      "cell_type": "code",
      "metadata": {
        "colab": {
          "base_uri": "https://localhost:8080/"
        },
        "id": "ZwvPLr9Epahd",
        "outputId": "9cb5492a-2f35-42fd-9eeb-715303b9a872"
      },
      "source": [
        "pca.explained_variance_ratio_  #gives the proportion of the dataset's variance that lies along each principal component"
      ],
      "execution_count": 11,
      "outputs": [
        {
          "output_type": "execute_result",
          "data": {
            "text/plain": [
              "array([0.84248607, 0.14631839])"
            ]
          },
          "metadata": {
            "tags": []
          },
          "execution_count": 11
        }
      ]
    },
    {
      "cell_type": "markdown",
      "metadata": {
        "id": "UZe_87LttbOE"
      },
      "source": [
        "### Choosing the right number of dimensions"
      ]
    },
    {
      "cell_type": "code",
      "metadata": {
        "colab": {
          "base_uri": "https://localhost:8080/"
        },
        "id": "e4kDXosKqJpk",
        "outputId": "d0e49d80-b26f-46d1-b2ce-c7a4c51801f0"
      },
      "source": [
        " mnist=datasets.fetch_openml('mnist_784')\n",
        " print(mnist.keys())"
      ],
      "execution_count": 12,
      "outputs": [
        {
          "output_type": "stream",
          "text": [
            "dict_keys(['data', 'target', 'frame', 'feature_names', 'target_names', 'DESCR', 'details', 'categories', 'url'])\n"
          ],
          "name": "stdout"
        }
      ]
    },
    {
      "cell_type": "code",
      "metadata": {
        "id": "Cl5VUBs2v2tl"
      },
      "source": [
        "X=mnist['data']\n",
        "y=mnist['target']"
      ],
      "execution_count": 13,
      "outputs": []
    },
    {
      "cell_type": "code",
      "metadata": {
        "id": "OHRraG1M3c-a"
      },
      "source": [
        "                       #1st way\n",
        "X_train,X_test,y_train,y_test=train_test_split(X,y,random_state=42)\n",
        "#perform the PCA without reducing dimensionality\n",
        "pca=PCA()\n",
        "pca.fit(X_train)\n",
        "cumsum=np.cumsum(pca.explained_variance_ratio_ )\n",
        "d=np.argmax(cumsum>0.95)+1\n",
        "\n",
        "#perform again PCA with n_estimators=d\n",
        "\n",
        "pca=PCA(n_components=d)\n",
        "X_train_reduced=pca.fit_transform(X_train)"
      ],
      "execution_count": 14,
      "outputs": []
    },
    {
      "cell_type": "code",
      "metadata": {
        "colab": {
          "base_uri": "https://localhost:8080/"
        },
        "id": "pIMyj4KV3-Tq",
        "outputId": "17c1379c-941c-4042-a856-c8971242839d"
      },
      "source": [
        "                            #2nd way\n",
        "pca=PCA(n_components=0.95)\n",
        "X_train_reduced=pca.fit_transform(X_train)\n",
        "print(X_train.shape)\n",
        "print(X_train_reduced.shape)"
      ],
      "execution_count": 15,
      "outputs": [
        {
          "output_type": "stream",
          "text": [
            "(52500, 784)\n",
            "(52500, 154)\n"
          ],
          "name": "stdout"
        }
      ]
    },
    {
      "cell_type": "code",
      "metadata": {
        "colab": {
          "base_uri": "https://localhost:8080/",
          "height": 283
        },
        "id": "EFd4Y2mw6SIn",
        "outputId": "020f3e4c-e58a-43f8-91a8-9b4dd308ec89"
      },
      "source": [
        "                                #3rd way (plot the explained variance)\n",
        "plt.plot(cumsum,linewidth=3)\n",
        "plt.axis([0,500,0,1])\n",
        "plt.xlabel('Dimensions')\n",
        "plt.ylabel('Explained variance')\n",
        "plt.grid()\n",
        "plt.show()\n",
        "#from the plot we get dimensions around 154 as before"
      ],
      "execution_count": 16,
      "outputs": [
        {
          "output_type": "display_data",
          "data": {
            "image/png": "[encoded data removed]",
            "text/plain": [
              "<Figure size 432x288 with 1 Axes>"
            ]
          },
          "metadata": {
            "tags": [],
            "needs_background": "light"
          }
        }
      ]
    },
    {
      "cell_type": "markdown",
      "metadata": {
        "id": "jaxou6UJI45v"
      },
      "source": [
        "### **PCA** **for** **Compression** **(Compression and decompression)**"
      ]
    },
    {
      "cell_type": "code",
      "metadata": {
        "id": "QilH7-tQ7vNX"
      },
      "source": [
        "X_train_recovered=pca.inverse_transform(X_train_reduced)"
      ],
      "execution_count": 17,
      "outputs": []
    },
    {
      "cell_type": "code",
      "metadata": {
        "colab": {
          "base_uri": "https://localhost:8080/"
        },
        "id": "EtYe249iKbiW",
        "outputId": "4f4df150-539a-49b3-b0d2-c5ba0cf18a69"
      },
      "source": [
        "print(X_train_recovered.shape)"
      ],
      "execution_count": 18,
      "outputs": [
        {
          "output_type": "stream",
          "text": [
            "(52500, 784)\n"
          ],
          "name": "stdout"
        }
      ]
    },
    {
      "cell_type": "markdown",
      "metadata": {
        "id": "XVL2pTmRKjVf"
      },
      "source": [
        "### **Randomized** **PCA**"
      ]
    },
    {
      "cell_type": "code",
      "metadata": {
        "id": "jO80TlmqKeuE"
      },
      "source": [
        "rnd_pca=PCA(n_components=154,svd_solver=\"randomized\")\n",
        "X_reduced=rnd_pca.fit_transform(X_train)"
      ],
      "execution_count": 19,
      "outputs": []
    },
    {
      "cell_type": "code",
      "metadata": {
        "colab": {
          "base_uri": "https://localhost:8080/"
        },
        "id": "ZUGHfuV4NElc",
        "outputId": "78ada282-d731-4d19-ab9c-ecab29d16e22"
      },
      "source": [
        "print(X_reduced.shape)"
      ],
      "execution_count": 20,
      "outputs": [
        {
          "output_type": "stream",
          "text": [
            "(52500, 154)\n"
          ],
          "name": "stdout"
        }
      ]
    },
    {
      "cell_type": "markdown",
      "metadata": {
        "id": "XqlyV5fGNO_y"
      },
      "source": [
        "### **Incremental** **PCA**"
      ]
    },
    {
      "cell_type": "code",
      "metadata": {
        "colab": {
          "base_uri": "https://localhost:8080/"
        },
        "id": "VWMBSbTBNMiY",
        "outputId": "e08f3085-8175-440c-a9cd-b7cff38b4a06"
      },
      "source": [
        "                                #1st way\n",
        "n_batches=100\n",
        "inc_pca=IncrementalPCA(n_components=154)\n",
        "\n",
        "for X_bactch in np.array_split(X_train,n_batches):\n",
        "  inc_pca.partial_fit(X_bactch)\n",
        "\n",
        "X_reduced=inc_pca.transform(X_train)\n",
        "print(X_reduced.shape)"
      ],
      "execution_count": 21,
      "outputs": [
        {
          "output_type": "stream",
          "text": [
            "(52500, 154)\n"
          ],
          "name": "stdout"
        }
      ]
    },
    {
      "cell_type": "code",
      "metadata": {
        "id": "qktYDIjhRNcR"
      },
      "source": [
        "                              #2nd way (by using np.memmap())\n",
        "m,n=X_train.shape\n",
        "# X_mm=np.memmap('mnist.data',dtype='float32',mode='readonly',shape=(m,n))\n",
        "\n",
        "# batch_size=m//n_batches\n",
        "# inc_pca=IncrementalPCA(n_components=154,batch_size=batch_size)\n",
        "# inc.fit(X_mm)"
      ],
      "execution_count": 22,
      "outputs": []
    },
    {
      "cell_type": "markdown",
      "metadata": {
        "id": "Wjudx4gyksMy"
      },
      "source": [
        "## **Kernel** **PCA**"
      ]
    },
    {
      "cell_type": "code",
      "metadata": {
        "id": "lZ7mV9ytTAKO",
        "colab": {
          "base_uri": "https://localhost:8080/"
        },
        "outputId": "7257ab1f-ac40-418b-90fb-ea0805508a34"
      },
      "source": [
        "#load swiss roll data\n",
        "X,t=datasets.make_swiss_roll(n_samples=100,noise=0.2,random_state=42)\n",
        "print(X.shape)"
      ],
      "execution_count": 37,
      "outputs": [
        {
          "output_type": "stream",
          "text": [
            "(100, 3)\n"
          ],
          "name": "stdout"
        }
      ]
    },
    {
      "cell_type": "code",
      "metadata": {
        "id": "7bVM9aT_su4C"
      },
      "source": [
        "rbf_pca=KernelPCA(n_components=2,kernel='rbf',gamma=0.04)\n",
        "X_reduced=rbf_pca.fit_transform(X)"
      ],
      "execution_count": 27,
      "outputs": []
    },
    {
      "cell_type": "code",
      "metadata": {
        "colab": {
          "base_uri": "https://localhost:8080/"
        },
        "id": "b5tpT7GstrpZ",
        "outputId": "1ba10b30-c97b-4ca3-a699-99aafa7a5278"
      },
      "source": [
        "print(X_reduced.shape)"
      ],
      "execution_count": 28,
      "outputs": [
        {
          "output_type": "stream",
          "text": [
            "(100, 2)\n"
          ],
          "name": "stdout"
        }
      ]
    },
    {
      "cell_type": "markdown",
      "metadata": {
        "id": "QQfC52VMt07o"
      },
      "source": [
        "#### * **Selecting** **a** **kernel** **and** **hyperparameters**"
      ]
    },
    {
      "cell_type": "markdown",
      "metadata": {
        "id": "iOL8dxysuUzR"
      },
      "source": [
        "##### 1. That yield best classification accuracy"
      ]
    },
    {
      "cell_type": "code",
      "metadata": {
        "colab": {
          "base_uri": "https://localhost:8080/"
        },
        "id": "x81RvuiVtu6p",
        "outputId": "ede76794-0106-45b1-d959-2db84a916241"
      },
      "source": [
        "y=t>6.9\n",
        "\n",
        "clf=Pipeline([\n",
        "              (\"kpca\",KernelPCA(n_components=2)),\n",
        "              (\"log_reg\",LogisticRegression())\n",
        "])\n",
        "\n",
        "param_grid=[{\n",
        "    'kpca__gamma':np.linspace(0.03,0.05,10),\n",
        "    'kpca__kernel':['rbf','sigmoid']            #the keys name should be as they are\n",
        "}]\n",
        "\n",
        "grid_search=GridSearchCV(clf,param_grid,cv=3)\n",
        "grid_search.fit(X,y)\n",
        "\n",
        "print(grid_search.best_params_)"
      ],
      "execution_count": 40,
      "outputs": [
        {
          "output_type": "stream",
          "text": [
            "{'kpca__gamma': 0.03, 'kpca__kernel': 'rbf'}\n"
          ],
          "name": "stdout"
        }
      ]
    },
    {
      "cell_type": "markdown",
      "metadata": {
        "id": "9yTISxitx2cL"
      },
      "source": [
        "#### 2.That yield the lowest reconstruction error"
      ]
    },
    {
      "cell_type": "code",
      "metadata": {
        "id": "NAvpCY-ewlmy"
      },
      "source": [
        "#reduce dimension using kernel rbf\n",
        "rbf_pca=KernelPCA(n_components=2,kernel='rbf',gamma=0.03,fit_inverse_transform=True)\n",
        "X_reduced=rbf_pca.fit_transform(X)\n",
        "\n",
        "#do reconstruction\n",
        "X_preimage=rbf_pca.inverse_transform(X_reduced)\n"
      ],
      "execution_count": 41,
      "outputs": []
    },
    {
      "cell_type": "code",
      "metadata": {
        "colab": {
          "base_uri": "https://localhost:8080/"
        },
        "id": "IILGO7u2w97Y",
        "outputId": "a16e0a82-f315-4a51-c9c7-a328df2f88a1"
      },
      "source": [
        "mean_squared_error(X,X_preimage)"
      ],
      "execution_count": 43,
      "outputs": [
        {
          "output_type": "execute_result",
          "data": {
            "text/plain": [
              "34.47705154687314"
            ]
          },
          "metadata": {
            "tags": []
          },
          "execution_count": 43
        }
      ]
    },
    {
      "cell_type": "markdown",
      "metadata": {
        "id": "EEiWFkLlzrEX"
      },
      "source": [
        "## **LLE**"
      ]
    },
    {
      "cell_type": "code",
      "metadata": {
        "id": "H0usIOsNzbn0"
      },
      "source": [
        "lle=LocallyLinearEmbedding(n_neighbors=10,n_components=2)\n",
        "X_reduced=lle.fit_transform(X)"
      ],
      "execution_count": 45,
      "outputs": []
    },
    {
      "cell_type": "code",
      "metadata": {
        "colab": {
          "base_uri": "https://localhost:8080/"
        },
        "id": "n4G0l9Pi0Ec3",
        "outputId": "dcc0cf1f-0879-437d-c4ca-41b276fc3afb"
      },
      "source": [
        "print(X_reduced.shape)"
      ],
      "execution_count": 47,
      "outputs": [
        {
          "output_type": "stream",
          "text": [
            "(100, 2)\n"
          ],
          "name": "stdout"
        }
      ]
    },
    {
      "cell_type": "code",
      "metadata": {
        "id": "tmWr80_h0Gtw"
      },
      "source": [
        ""
      ],
      "execution_count": null,
      "outputs": []
    }
  ]
}